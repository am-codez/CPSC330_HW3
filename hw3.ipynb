{
 "cells": [
  {
   "cell_type": "code",
   "execution_count": 717,
   "metadata": {
    "deletable": false,
    "editable": false
   },
   "outputs": [],
   "source": [
    "# Initialize Otter\n",
    "import otter\n",
    "grader = otter.Notebook(\"hw3.ipynb\")"
   ]
  },
  {
   "cell_type": "markdown",
   "metadata": {},
   "source": [
    "# CPSC 330 - Applied Machine Learning \n",
    "\n",
    "## Homework 3: Preprocessing \n",
    "### Associated lectures: [Lectures 4, 5, 6](https://github.com/UBC-CS/cpsc330-2025W1) \n",
    "\n",
    "**Due date: See the [Calendar](https://htmlpreview.github.io/?https://github.com/UBC-CS/cpsc330/blob/master/docs/calendar.html).**"
   ]
  },
  {
   "cell_type": "markdown",
   "metadata": {},
   "source": [
    "## Imports "
   ]
  },
  {
   "cell_type": "code",
   "execution_count": 718,
   "metadata": {},
   "outputs": [],
   "source": [
    "from hashlib import sha1\n",
    "import matplotlib.pyplot as plt\n",
    "import numpy as np\n",
    "import pandas as pd\n",
    "from sklearn.compose import ColumnTransformer, make_column_transformer\n",
    "from sklearn.dummy import DummyClassifier\n",
    "from sklearn.impute import SimpleImputer\n",
    "from sklearn.model_selection import cross_val_score, cross_validate, train_test_split\n",
    "from sklearn.neighbors import KNeighborsClassifier\n",
    "from sklearn.pipeline import Pipeline, make_pipeline\n",
    "from sklearn.preprocessing import OneHotEncoder, StandardScaler, OrdinalEncoder\n",
    "from sklearn.svm import SVC\n",
    "from sklearn.tree import DecisionTreeClassifier"
   ]
  },
  {
   "cell_type": "markdown",
   "metadata": {
    "deletable": false,
    "editable": false
   },
   "source": [
    "<!-- BEGIN QUESTION -->\n",
    "\n",
    "<div class=\"alert alert-info\">\n",
    "    \n",
    "## Instructions\n",
    "rubric={points}\n",
    "\n",
    "You will earn points for following these instructions and successfully submitting your work on Gradescope.  \n",
    "\n",
    "### Group wotk instructions\n",
    "\n",
    "**You may work with a partner on this homework and submit your assignment as a group.** Below are some instructions on working as a group.  \n",
    "- The maximum group size is 2.\n",
    "  \n",
    "- Use group work as an opportunity to collaborate and learn new things from each other. \n",
    "- Be respectful to each other and make sure you understand all the concepts in the assignment well. \n",
    "- It's your responsibility to make sure that the assignment is submitted by one of the group members before the deadline. \n",
    "- You can find the instructions on how to do group submission on Gradescope [here](https://help.gradescope.com/article/m5qz2xsnjy-student-add-group-members).\n",
    "- If you would like to use late tokens for the homework, all group members must have the necessary late tokens available. Please note that the late tokens will be counted for all members of the group.   \n",
    "\n",
    "\n",
    "### General submission instructions\n",
    "\n",
    "- Please **read carefully\n",
    "[Use of Generative AI policy](https://ubc-cs.github.io/cpsc330-2025W1/syllabus.html#use-of-generative-ai-in-the-course)** before starting the homework assignment. \n",
    "- **We are not allowing group submission for this homework assignment.**   \n",
    "\n",
    "- **Run all cells before submitting:** Go to `Kernel -> Restart Kernel and Clear All Outputs`, then select `Run -> Run All Cells`. This ensures your notebook runs cleanly from start to finish without errors.\n",
    "  \n",
    "- **Submit your files on Gradescope.**  \n",
    "   - Upload only your `.ipynb` file **with outputs displayed** and any required output files.\n",
    "     \n",
    "   - Do **not** submit other files from your repository.  \n",
    "   - If you need help, see the [Gradescope Student Guide](https://lthub.ubc.ca/guides/gradescope-student-guide/).  \n",
    "- **Check that outputs render properly.**  \n",
    "   - Make sure all plots and outputs appear in your submission.\n",
    "     \n",
    "   - If your `.ipynb` file is too large and doesn't render on Gradescope, also upload a PDF or HTML version so the TAs can view your work.  \n",
    "- **Keep execution order clean.**  \n",
    "   - Execution numbers must start at \"1\" and increase in order.\n",
    "     \n",
    "   - Notebooks without visible outputs may not be graded.  \n",
    "   - Out-of-order or missing execution numbers may result in mark deductions.  \n",
    "- **Follow course submission guidelines:** Review the [CPSC 330 homework instructions](https://ubc-cs.github.io/cpsc330-2025W1/docs/homework_instructions.html) for detailed guidance on completing and submitting assignments. \n",
    "   \n",
    "</div>\n",
    "\n",
    "_Points:_ 5"
   ]
  },
  {
   "cell_type": "markdown",
   "metadata": {
    "deletable": false,
    "editable": false
   },
   "source": [
    "<!-- END QUESTION -->\n",
    "\n",
    "_Note: The assignments will get gradually more open-ended as we progress through the course. In many cases, there won't be a single correct solution. Sometimes you will have to make your own choices and your own decisions (for example, on what parameter values to use when they are not explicitly provided in the instructions). Use your own judgment in such cases and justify your choices, if necessary._\n"
   ]
  },
  {
   "cell_type": "markdown",
   "metadata": {},
   "source": [
    "<br><br>"
   ]
  },
  {
   "cell_type": "markdown",
   "metadata": {
    "editable": true,
    "nbgrader": {
     "grade": false,
     "grade_id": "cell-3247a4b883a670c7",
     "locked": true,
     "schema_version": 3,
     "solution": false,
     "task": false
    },
    "slideshow": {
     "slide_type": ""
    },
    "tags": []
   },
   "source": [
    "## Introduction <a name=\"in\"></a>\n",
    "<hr>\n",
    "\n",
    "A crucial step when using machine learning algorithms on real-world datasets is preprocessing. This homework will give you some practice of data preprocessing and building a supervised machine learning pipeline on a real-world dataset. "
   ]
  },
  {
   "cell_type": "markdown",
   "metadata": {},
   "source": [
    "## Exercise 1: Dataset and preliminary EDA\n",
    "<hr>\n",
    "\n",
    "\n",
    "In this homework, you will be working on [the adult census dataset](https://www.kaggle.com/uciml/adult-census-income#). If it’s not already in the data folder, download the CSV and save it as `adult.csv` inside the `data` folder of this homework directory.\n",
    "\n",
    "This is a classification dataset and the classification task is to predict whether income exceeds 50K per year or not based on the census data. You can find more information on the dataset and features [here](http://archive.ics.uci.edu/ml/datasets/Adult).\n",
    "\n",
    "The starter code below loads the data CSV (assuming that it is saved as `adult.csv` under the data folder). \n",
    "\n",
    "_Note that many popular datasets have sex as a feature where the possible values are male and female. This representation reflects how the data were collected and is not meant to imply that, for example, gender is binary._"
   ]
  },
  {
   "cell_type": "code",
   "execution_count": 719,
   "metadata": {
    "slideshow": {
     "slide_type": "slide"
    }
   },
   "outputs": [
    {
     "data": {
      "text/plain": [
       "(32561, 15)"
      ]
     },
     "execution_count": 719,
     "metadata": {},
     "output_type": "execute_result"
    }
   ],
   "source": [
    "census_df = pd.read_csv(\"data/adult.csv\")\n",
    "census_df.shape"
   ]
  },
  {
   "cell_type": "markdown",
   "metadata": {},
   "source": [
    "<br><br>"
   ]
  },
  {
   "cell_type": "markdown",
   "metadata": {
    "deletable": false,
    "editable": false
   },
   "source": [
    "### 1.1 Data splitting \n",
    "rubric={autograde}\n",
    "\n",
    "In order to avoid violation of the golden rule, the first step before we do anything is splitting the data. \n",
    "\n",
    "**Your tasks:**\n",
    "\n",
    "1. Split the data into `train_df` (40%) and `test_df` (60%) with `random_state = 123`. Keep the target column (`income`) in the splits so that we can use it in the exploratory data analysis.  \n",
    "\n",
    "_Typically, having more data for training is beneficial. However, in this lab, we'll be using a 40%/60% split because running cross-validation with this dataset can take a long time on a modest laptop. Using a smaller training set will make the model training a bit faster on your laptop. Additionally, with a larger test split, we’ll obtain a more reliable estimate of the model's performance!_"
   ]
  },
  {
   "cell_type": "markdown",
   "metadata": {
    "deletable": false,
    "editable": false
   },
   "source": [
    "<div class=\"alert alert-warning\">\n",
    "\n",
    "Solution_1.1\n",
    "    \n",
    "</div>\n",
    "\n",
    "_Points:_ 1"
   ]
  },
  {
   "cell_type": "code",
   "execution_count": 720,
   "metadata": {
    "slideshow": {
     "slide_type": "slide"
    }
   },
   "outputs": [],
   "source": [
    "from sklearn.model_selection import train_test_split\n",
    "train_df, test_df = train_test_split(census_df, test_size=0.6, random_state=123)"
   ]
  },
  {
   "cell_type": "code",
   "execution_count": 721,
   "metadata": {
    "deletable": false,
    "editable": false
   },
   "outputs": [
    {
     "data": {
      "text/html": [
       "<p><strong><pre style='display: inline;'>q1.1</pre></strong> passed! 💯</p>"
      ],
      "text/plain": [
       "q1.1 results: All test cases passed!"
      ]
     },
     "execution_count": 721,
     "metadata": {},
     "output_type": "execute_result"
    }
   ],
   "source": [
    "grader.check(\"q1.1\")"
   ]
  },
  {
   "cell_type": "markdown",
   "metadata": {},
   "source": [
    "<br><br>"
   ]
  },
  {
   "cell_type": "markdown",
   "metadata": {},
   "source": [
    "Let's examine our `train_df`. "
   ]
  },
  {
   "cell_type": "code",
   "execution_count": 722,
   "metadata": {},
   "outputs": [
    {
     "data": {
      "text/html": [
       "<div>\n",
       "<style scoped>\n",
       "    .dataframe tbody tr th:only-of-type {\n",
       "        vertical-align: middle;\n",
       "    }\n",
       "\n",
       "    .dataframe tbody tr th {\n",
       "        vertical-align: top;\n",
       "    }\n",
       "\n",
       "    .dataframe thead th {\n",
       "        text-align: right;\n",
       "    }\n",
       "</style>\n",
       "<table border=\"1\" class=\"dataframe\">\n",
       "  <thead>\n",
       "    <tr style=\"text-align: right;\">\n",
       "      <th></th>\n",
       "      <th>age</th>\n",
       "      <th>workclass</th>\n",
       "      <th>fnlwgt</th>\n",
       "      <th>education</th>\n",
       "      <th>education.num</th>\n",
       "      <th>marital.status</th>\n",
       "      <th>occupation</th>\n",
       "      <th>relationship</th>\n",
       "      <th>race</th>\n",
       "      <th>sex</th>\n",
       "      <th>capital.gain</th>\n",
       "      <th>capital.loss</th>\n",
       "      <th>hours.per.week</th>\n",
       "      <th>native.country</th>\n",
       "      <th>income</th>\n",
       "    </tr>\n",
       "  </thead>\n",
       "  <tbody>\n",
       "    <tr>\n",
       "      <th>0</th>\n",
       "      <td>90</td>\n",
       "      <td>?</td>\n",
       "      <td>77053</td>\n",
       "      <td>HS-grad</td>\n",
       "      <td>9</td>\n",
       "      <td>Widowed</td>\n",
       "      <td>?</td>\n",
       "      <td>Not-in-family</td>\n",
       "      <td>White</td>\n",
       "      <td>Female</td>\n",
       "      <td>0</td>\n",
       "      <td>4356</td>\n",
       "      <td>40</td>\n",
       "      <td>United-States</td>\n",
       "      <td>&lt;=50K</td>\n",
       "    </tr>\n",
       "    <tr>\n",
       "      <th>1</th>\n",
       "      <td>82</td>\n",
       "      <td>Private</td>\n",
       "      <td>132870</td>\n",
       "      <td>HS-grad</td>\n",
       "      <td>9</td>\n",
       "      <td>Widowed</td>\n",
       "      <td>Exec-managerial</td>\n",
       "      <td>Not-in-family</td>\n",
       "      <td>White</td>\n",
       "      <td>Female</td>\n",
       "      <td>0</td>\n",
       "      <td>4356</td>\n",
       "      <td>18</td>\n",
       "      <td>United-States</td>\n",
       "      <td>&lt;=50K</td>\n",
       "    </tr>\n",
       "    <tr>\n",
       "      <th>4</th>\n",
       "      <td>41</td>\n",
       "      <td>Private</td>\n",
       "      <td>264663</td>\n",
       "      <td>Some-college</td>\n",
       "      <td>10</td>\n",
       "      <td>Separated</td>\n",
       "      <td>Prof-specialty</td>\n",
       "      <td>Own-child</td>\n",
       "      <td>White</td>\n",
       "      <td>Female</td>\n",
       "      <td>0</td>\n",
       "      <td>3900</td>\n",
       "      <td>40</td>\n",
       "      <td>United-States</td>\n",
       "      <td>&lt;=50K</td>\n",
       "    </tr>\n",
       "    <tr>\n",
       "      <th>5</th>\n",
       "      <td>34</td>\n",
       "      <td>Private</td>\n",
       "      <td>216864</td>\n",
       "      <td>HS-grad</td>\n",
       "      <td>9</td>\n",
       "      <td>Divorced</td>\n",
       "      <td>Other-service</td>\n",
       "      <td>Unmarried</td>\n",
       "      <td>White</td>\n",
       "      <td>Female</td>\n",
       "      <td>0</td>\n",
       "      <td>3770</td>\n",
       "      <td>45</td>\n",
       "      <td>United-States</td>\n",
       "      <td>&lt;=50K</td>\n",
       "    </tr>\n",
       "    <tr>\n",
       "      <th>6</th>\n",
       "      <td>38</td>\n",
       "      <td>Private</td>\n",
       "      <td>150601</td>\n",
       "      <td>10th</td>\n",
       "      <td>6</td>\n",
       "      <td>Separated</td>\n",
       "      <td>Adm-clerical</td>\n",
       "      <td>Unmarried</td>\n",
       "      <td>White</td>\n",
       "      <td>Male</td>\n",
       "      <td>0</td>\n",
       "      <td>3770</td>\n",
       "      <td>40</td>\n",
       "      <td>United-States</td>\n",
       "      <td>&lt;=50K</td>\n",
       "    </tr>\n",
       "    <tr>\n",
       "      <th>...</th>\n",
       "      <td>...</td>\n",
       "      <td>...</td>\n",
       "      <td>...</td>\n",
       "      <td>...</td>\n",
       "      <td>...</td>\n",
       "      <td>...</td>\n",
       "      <td>...</td>\n",
       "      <td>...</td>\n",
       "      <td>...</td>\n",
       "      <td>...</td>\n",
       "      <td>...</td>\n",
       "      <td>...</td>\n",
       "      <td>...</td>\n",
       "      <td>...</td>\n",
       "      <td>...</td>\n",
       "    </tr>\n",
       "    <tr>\n",
       "      <th>32554</th>\n",
       "      <td>32</td>\n",
       "      <td>Private</td>\n",
       "      <td>116138</td>\n",
       "      <td>Masters</td>\n",
       "      <td>14</td>\n",
       "      <td>Never-married</td>\n",
       "      <td>Tech-support</td>\n",
       "      <td>Not-in-family</td>\n",
       "      <td>Asian-Pac-Islander</td>\n",
       "      <td>Male</td>\n",
       "      <td>0</td>\n",
       "      <td>0</td>\n",
       "      <td>11</td>\n",
       "      <td>Taiwan</td>\n",
       "      <td>&lt;=50K</td>\n",
       "    </tr>\n",
       "    <tr>\n",
       "      <th>32556</th>\n",
       "      <td>22</td>\n",
       "      <td>Private</td>\n",
       "      <td>310152</td>\n",
       "      <td>Some-college</td>\n",
       "      <td>10</td>\n",
       "      <td>Never-married</td>\n",
       "      <td>Protective-serv</td>\n",
       "      <td>Not-in-family</td>\n",
       "      <td>White</td>\n",
       "      <td>Male</td>\n",
       "      <td>0</td>\n",
       "      <td>0</td>\n",
       "      <td>40</td>\n",
       "      <td>United-States</td>\n",
       "      <td>&lt;=50K</td>\n",
       "    </tr>\n",
       "    <tr>\n",
       "      <th>32557</th>\n",
       "      <td>27</td>\n",
       "      <td>Private</td>\n",
       "      <td>257302</td>\n",
       "      <td>Assoc-acdm</td>\n",
       "      <td>12</td>\n",
       "      <td>Married-civ-spouse</td>\n",
       "      <td>Tech-support</td>\n",
       "      <td>Wife</td>\n",
       "      <td>White</td>\n",
       "      <td>Female</td>\n",
       "      <td>0</td>\n",
       "      <td>0</td>\n",
       "      <td>38</td>\n",
       "      <td>United-States</td>\n",
       "      <td>&lt;=50K</td>\n",
       "    </tr>\n",
       "    <tr>\n",
       "      <th>32559</th>\n",
       "      <td>58</td>\n",
       "      <td>Private</td>\n",
       "      <td>151910</td>\n",
       "      <td>HS-grad</td>\n",
       "      <td>9</td>\n",
       "      <td>Widowed</td>\n",
       "      <td>Adm-clerical</td>\n",
       "      <td>Unmarried</td>\n",
       "      <td>White</td>\n",
       "      <td>Female</td>\n",
       "      <td>0</td>\n",
       "      <td>0</td>\n",
       "      <td>40</td>\n",
       "      <td>United-States</td>\n",
       "      <td>&lt;=50K</td>\n",
       "    </tr>\n",
       "    <tr>\n",
       "      <th>32560</th>\n",
       "      <td>22</td>\n",
       "      <td>Private</td>\n",
       "      <td>201490</td>\n",
       "      <td>HS-grad</td>\n",
       "      <td>9</td>\n",
       "      <td>Never-married</td>\n",
       "      <td>Adm-clerical</td>\n",
       "      <td>Own-child</td>\n",
       "      <td>White</td>\n",
       "      <td>Male</td>\n",
       "      <td>0</td>\n",
       "      <td>0</td>\n",
       "      <td>20</td>\n",
       "      <td>United-States</td>\n",
       "      <td>&lt;=50K</td>\n",
       "    </tr>\n",
       "  </tbody>\n",
       "</table>\n",
       "<p>13024 rows × 15 columns</p>\n",
       "</div>"
      ],
      "text/plain": [
       "       age workclass  fnlwgt     education  education.num      marital.status  \\\n",
       "0       90         ?   77053       HS-grad              9             Widowed   \n",
       "1       82   Private  132870       HS-grad              9             Widowed   \n",
       "4       41   Private  264663  Some-college             10           Separated   \n",
       "5       34   Private  216864       HS-grad              9            Divorced   \n",
       "6       38   Private  150601          10th              6           Separated   \n",
       "...    ...       ...     ...           ...            ...                 ...   \n",
       "32554   32   Private  116138       Masters             14       Never-married   \n",
       "32556   22   Private  310152  Some-college             10       Never-married   \n",
       "32557   27   Private  257302    Assoc-acdm             12  Married-civ-spouse   \n",
       "32559   58   Private  151910       HS-grad              9             Widowed   \n",
       "32560   22   Private  201490       HS-grad              9       Never-married   \n",
       "\n",
       "            occupation   relationship                race     sex  \\\n",
       "0                    ?  Not-in-family               White  Female   \n",
       "1      Exec-managerial  Not-in-family               White  Female   \n",
       "4       Prof-specialty      Own-child               White  Female   \n",
       "5        Other-service      Unmarried               White  Female   \n",
       "6         Adm-clerical      Unmarried               White    Male   \n",
       "...                ...            ...                 ...     ...   \n",
       "32554     Tech-support  Not-in-family  Asian-Pac-Islander    Male   \n",
       "32556  Protective-serv  Not-in-family               White    Male   \n",
       "32557     Tech-support           Wife               White  Female   \n",
       "32559     Adm-clerical      Unmarried               White  Female   \n",
       "32560     Adm-clerical      Own-child               White    Male   \n",
       "\n",
       "       capital.gain  capital.loss  hours.per.week native.country income  \n",
       "0                 0          4356              40  United-States  <=50K  \n",
       "1                 0          4356              18  United-States  <=50K  \n",
       "4                 0          3900              40  United-States  <=50K  \n",
       "5                 0          3770              45  United-States  <=50K  \n",
       "6                 0          3770              40  United-States  <=50K  \n",
       "...             ...           ...             ...            ...    ...  \n",
       "32554             0             0              11         Taiwan  <=50K  \n",
       "32556             0             0              40  United-States  <=50K  \n",
       "32557             0             0              38  United-States  <=50K  \n",
       "32559             0             0              40  United-States  <=50K  \n",
       "32560             0             0              20  United-States  <=50K  \n",
       "\n",
       "[13024 rows x 15 columns]"
      ]
     },
     "execution_count": 722,
     "metadata": {},
     "output_type": "execute_result"
    }
   ],
   "source": [
    "train_df.sort_index()"
   ]
  },
  {
   "cell_type": "markdown",
   "metadata": {},
   "source": [
    "We see some missing values represented with a \"?\". Probably these were the questions not answered by some people during the census.  Usually `.describe()` or `.info()` methods would give you information on missing values. But here, they won't pick \"?\" as missing values because they are encoded as strings instead of an actual NaN in Python. So let's replace them with `np.nan` before we carry out EDA. If you do not do it, you'll encounter an error later on when you try to pass this data to a classifier. "
   ]
  },
  {
   "cell_type": "code",
   "execution_count": 723,
   "metadata": {},
   "outputs": [
    {
     "data": {
      "text/plain": [
       "(13024, 15)"
      ]
     },
     "execution_count": 723,
     "metadata": {},
     "output_type": "execute_result"
    }
   ],
   "source": [
    "train_df = train_df.replace(\"?\", np.nan)\n",
    "test_df = test_df.replace(\"?\", np.nan)\n",
    "train_df.shape"
   ]
  },
  {
   "cell_type": "code",
   "execution_count": 724,
   "metadata": {},
   "outputs": [
    {
     "data": {
      "text/html": [
       "<div>\n",
       "<style scoped>\n",
       "    .dataframe tbody tr th:only-of-type {\n",
       "        vertical-align: middle;\n",
       "    }\n",
       "\n",
       "    .dataframe tbody tr th {\n",
       "        vertical-align: top;\n",
       "    }\n",
       "\n",
       "    .dataframe thead th {\n",
       "        text-align: right;\n",
       "    }\n",
       "</style>\n",
       "<table border=\"1\" class=\"dataframe\">\n",
       "  <thead>\n",
       "    <tr style=\"text-align: right;\">\n",
       "      <th></th>\n",
       "      <th>age</th>\n",
       "      <th>workclass</th>\n",
       "      <th>fnlwgt</th>\n",
       "      <th>education</th>\n",
       "      <th>education.num</th>\n",
       "      <th>marital.status</th>\n",
       "      <th>occupation</th>\n",
       "      <th>relationship</th>\n",
       "      <th>race</th>\n",
       "      <th>sex</th>\n",
       "      <th>capital.gain</th>\n",
       "      <th>capital.loss</th>\n",
       "      <th>hours.per.week</th>\n",
       "      <th>native.country</th>\n",
       "      <th>income</th>\n",
       "    </tr>\n",
       "  </thead>\n",
       "  <tbody>\n",
       "    <tr>\n",
       "      <th>0</th>\n",
       "      <td>90</td>\n",
       "      <td>NaN</td>\n",
       "      <td>77053</td>\n",
       "      <td>HS-grad</td>\n",
       "      <td>9</td>\n",
       "      <td>Widowed</td>\n",
       "      <td>NaN</td>\n",
       "      <td>Not-in-family</td>\n",
       "      <td>White</td>\n",
       "      <td>Female</td>\n",
       "      <td>0</td>\n",
       "      <td>4356</td>\n",
       "      <td>40</td>\n",
       "      <td>United-States</td>\n",
       "      <td>&lt;=50K</td>\n",
       "    </tr>\n",
       "    <tr>\n",
       "      <th>1</th>\n",
       "      <td>82</td>\n",
       "      <td>Private</td>\n",
       "      <td>132870</td>\n",
       "      <td>HS-grad</td>\n",
       "      <td>9</td>\n",
       "      <td>Widowed</td>\n",
       "      <td>Exec-managerial</td>\n",
       "      <td>Not-in-family</td>\n",
       "      <td>White</td>\n",
       "      <td>Female</td>\n",
       "      <td>0</td>\n",
       "      <td>4356</td>\n",
       "      <td>18</td>\n",
       "      <td>United-States</td>\n",
       "      <td>&lt;=50K</td>\n",
       "    </tr>\n",
       "    <tr>\n",
       "      <th>4</th>\n",
       "      <td>41</td>\n",
       "      <td>Private</td>\n",
       "      <td>264663</td>\n",
       "      <td>Some-college</td>\n",
       "      <td>10</td>\n",
       "      <td>Separated</td>\n",
       "      <td>Prof-specialty</td>\n",
       "      <td>Own-child</td>\n",
       "      <td>White</td>\n",
       "      <td>Female</td>\n",
       "      <td>0</td>\n",
       "      <td>3900</td>\n",
       "      <td>40</td>\n",
       "      <td>United-States</td>\n",
       "      <td>&lt;=50K</td>\n",
       "    </tr>\n",
       "    <tr>\n",
       "      <th>5</th>\n",
       "      <td>34</td>\n",
       "      <td>Private</td>\n",
       "      <td>216864</td>\n",
       "      <td>HS-grad</td>\n",
       "      <td>9</td>\n",
       "      <td>Divorced</td>\n",
       "      <td>Other-service</td>\n",
       "      <td>Unmarried</td>\n",
       "      <td>White</td>\n",
       "      <td>Female</td>\n",
       "      <td>0</td>\n",
       "      <td>3770</td>\n",
       "      <td>45</td>\n",
       "      <td>United-States</td>\n",
       "      <td>&lt;=50K</td>\n",
       "    </tr>\n",
       "    <tr>\n",
       "      <th>6</th>\n",
       "      <td>38</td>\n",
       "      <td>Private</td>\n",
       "      <td>150601</td>\n",
       "      <td>10th</td>\n",
       "      <td>6</td>\n",
       "      <td>Separated</td>\n",
       "      <td>Adm-clerical</td>\n",
       "      <td>Unmarried</td>\n",
       "      <td>White</td>\n",
       "      <td>Male</td>\n",
       "      <td>0</td>\n",
       "      <td>3770</td>\n",
       "      <td>40</td>\n",
       "      <td>United-States</td>\n",
       "      <td>&lt;=50K</td>\n",
       "    </tr>\n",
       "    <tr>\n",
       "      <th>...</th>\n",
       "      <td>...</td>\n",
       "      <td>...</td>\n",
       "      <td>...</td>\n",
       "      <td>...</td>\n",
       "      <td>...</td>\n",
       "      <td>...</td>\n",
       "      <td>...</td>\n",
       "      <td>...</td>\n",
       "      <td>...</td>\n",
       "      <td>...</td>\n",
       "      <td>...</td>\n",
       "      <td>...</td>\n",
       "      <td>...</td>\n",
       "      <td>...</td>\n",
       "      <td>...</td>\n",
       "    </tr>\n",
       "    <tr>\n",
       "      <th>32554</th>\n",
       "      <td>32</td>\n",
       "      <td>Private</td>\n",
       "      <td>116138</td>\n",
       "      <td>Masters</td>\n",
       "      <td>14</td>\n",
       "      <td>Never-married</td>\n",
       "      <td>Tech-support</td>\n",
       "      <td>Not-in-family</td>\n",
       "      <td>Asian-Pac-Islander</td>\n",
       "      <td>Male</td>\n",
       "      <td>0</td>\n",
       "      <td>0</td>\n",
       "      <td>11</td>\n",
       "      <td>Taiwan</td>\n",
       "      <td>&lt;=50K</td>\n",
       "    </tr>\n",
       "    <tr>\n",
       "      <th>32556</th>\n",
       "      <td>22</td>\n",
       "      <td>Private</td>\n",
       "      <td>310152</td>\n",
       "      <td>Some-college</td>\n",
       "      <td>10</td>\n",
       "      <td>Never-married</td>\n",
       "      <td>Protective-serv</td>\n",
       "      <td>Not-in-family</td>\n",
       "      <td>White</td>\n",
       "      <td>Male</td>\n",
       "      <td>0</td>\n",
       "      <td>0</td>\n",
       "      <td>40</td>\n",
       "      <td>United-States</td>\n",
       "      <td>&lt;=50K</td>\n",
       "    </tr>\n",
       "    <tr>\n",
       "      <th>32557</th>\n",
       "      <td>27</td>\n",
       "      <td>Private</td>\n",
       "      <td>257302</td>\n",
       "      <td>Assoc-acdm</td>\n",
       "      <td>12</td>\n",
       "      <td>Married-civ-spouse</td>\n",
       "      <td>Tech-support</td>\n",
       "      <td>Wife</td>\n",
       "      <td>White</td>\n",
       "      <td>Female</td>\n",
       "      <td>0</td>\n",
       "      <td>0</td>\n",
       "      <td>38</td>\n",
       "      <td>United-States</td>\n",
       "      <td>&lt;=50K</td>\n",
       "    </tr>\n",
       "    <tr>\n",
       "      <th>32559</th>\n",
       "      <td>58</td>\n",
       "      <td>Private</td>\n",
       "      <td>151910</td>\n",
       "      <td>HS-grad</td>\n",
       "      <td>9</td>\n",
       "      <td>Widowed</td>\n",
       "      <td>Adm-clerical</td>\n",
       "      <td>Unmarried</td>\n",
       "      <td>White</td>\n",
       "      <td>Female</td>\n",
       "      <td>0</td>\n",
       "      <td>0</td>\n",
       "      <td>40</td>\n",
       "      <td>United-States</td>\n",
       "      <td>&lt;=50K</td>\n",
       "    </tr>\n",
       "    <tr>\n",
       "      <th>32560</th>\n",
       "      <td>22</td>\n",
       "      <td>Private</td>\n",
       "      <td>201490</td>\n",
       "      <td>HS-grad</td>\n",
       "      <td>9</td>\n",
       "      <td>Never-married</td>\n",
       "      <td>Adm-clerical</td>\n",
       "      <td>Own-child</td>\n",
       "      <td>White</td>\n",
       "      <td>Male</td>\n",
       "      <td>0</td>\n",
       "      <td>0</td>\n",
       "      <td>20</td>\n",
       "      <td>United-States</td>\n",
       "      <td>&lt;=50K</td>\n",
       "    </tr>\n",
       "  </tbody>\n",
       "</table>\n",
       "<p>13024 rows × 15 columns</p>\n",
       "</div>"
      ],
      "text/plain": [
       "       age workclass  fnlwgt     education  education.num      marital.status  \\\n",
       "0       90       NaN   77053       HS-grad              9             Widowed   \n",
       "1       82   Private  132870       HS-grad              9             Widowed   \n",
       "4       41   Private  264663  Some-college             10           Separated   \n",
       "5       34   Private  216864       HS-grad              9            Divorced   \n",
       "6       38   Private  150601          10th              6           Separated   \n",
       "...    ...       ...     ...           ...            ...                 ...   \n",
       "32554   32   Private  116138       Masters             14       Never-married   \n",
       "32556   22   Private  310152  Some-college             10       Never-married   \n",
       "32557   27   Private  257302    Assoc-acdm             12  Married-civ-spouse   \n",
       "32559   58   Private  151910       HS-grad              9             Widowed   \n",
       "32560   22   Private  201490       HS-grad              9       Never-married   \n",
       "\n",
       "            occupation   relationship                race     sex  \\\n",
       "0                  NaN  Not-in-family               White  Female   \n",
       "1      Exec-managerial  Not-in-family               White  Female   \n",
       "4       Prof-specialty      Own-child               White  Female   \n",
       "5        Other-service      Unmarried               White  Female   \n",
       "6         Adm-clerical      Unmarried               White    Male   \n",
       "...                ...            ...                 ...     ...   \n",
       "32554     Tech-support  Not-in-family  Asian-Pac-Islander    Male   \n",
       "32556  Protective-serv  Not-in-family               White    Male   \n",
       "32557     Tech-support           Wife               White  Female   \n",
       "32559     Adm-clerical      Unmarried               White  Female   \n",
       "32560     Adm-clerical      Own-child               White    Male   \n",
       "\n",
       "       capital.gain  capital.loss  hours.per.week native.country income  \n",
       "0                 0          4356              40  United-States  <=50K  \n",
       "1                 0          4356              18  United-States  <=50K  \n",
       "4                 0          3900              40  United-States  <=50K  \n",
       "5                 0          3770              45  United-States  <=50K  \n",
       "6                 0          3770              40  United-States  <=50K  \n",
       "...             ...           ...             ...            ...    ...  \n",
       "32554             0             0              11         Taiwan  <=50K  \n",
       "32556             0             0              40  United-States  <=50K  \n",
       "32557             0             0              38  United-States  <=50K  \n",
       "32559             0             0              40  United-States  <=50K  \n",
       "32560             0             0              20  United-States  <=50K  \n",
       "\n",
       "[13024 rows x 15 columns]"
      ]
     },
     "execution_count": 724,
     "metadata": {},
     "output_type": "execute_result"
    }
   ],
   "source": [
    "train_df.sort_index()"
   ]
  },
  {
   "cell_type": "markdown",
   "metadata": {},
   "source": [
    "The \"?\" symbols are now replaced with NaN values. "
   ]
  },
  {
   "cell_type": "markdown",
   "metadata": {},
   "source": [
    "<br><br>"
   ]
  },
  {
   "cell_type": "markdown",
   "metadata": {
    "deletable": false,
    "editable": false
   },
   "source": [
    "### 1.2 `describe()` method\n",
    "rubric={autograde}\n",
    "\n",
    "**Your tasks:**\n",
    "\n",
    "1. Examine the output of `train_df.describe()` with `include='all'` argument and store it in a variable called `census_summary`.\n",
    "2. What are the highest hours per week someone reported? Store it in a variable called `max_hours_per_week`.\n",
    "3. What is the most frequently occurring occupation in this dataset? Store it in a variable called `most_freq_occupation`.\n",
    "4. Store the column names of the columns with missing values as a list in a variable called `missing_vals_cols`. \n",
    "5. Store the column names of all numeric-looking columns, irrespective of whether you want to include them in your model or not, as a list in a variable called `numeric_cols`.  "
   ]
  },
  {
   "cell_type": "markdown",
   "metadata": {
    "deletable": false,
    "editable": false
   },
   "source": [
    "<div class=\"alert alert-warning\">\n",
    "\n",
    "Solution_1.2\n",
    "    \n",
    "</div>\n",
    "\n",
    "_Points:_ 5"
   ]
  },
  {
   "cell_type": "code",
   "execution_count": 725,
   "metadata": {
    "tags": [
     "otter_answer_cell"
    ]
   },
   "outputs": [],
   "source": [
    "census_summary = train_df.describe(include='all')\n",
    "# print(census_summary)\n",
    "# print(census_df.columns.tolist())"
   ]
  },
  {
   "cell_type": "code",
   "execution_count": 726,
   "metadata": {
    "tags": [
     "otter_answer_cell"
    ]
   },
   "outputs": [],
   "source": [
    "max_hours_per_week = float(train_df['hours.per.week'].max()) # needs to be a float for.. reasons? I guess\n",
    "# print(max_hours_per_week)"
   ]
  },
  {
   "cell_type": "code",
   "execution_count": 727,
   "metadata": {
    "tags": [
     "otter_answer_cell"
    ]
   },
   "outputs": [],
   "source": [
    "most_freq_occupation = train_df['occupation'].mode().iloc[0]\n",
    "# print(most_freq_occupation)"
   ]
  },
  {
   "cell_type": "code",
   "execution_count": 728,
   "metadata": {
    "tags": [
     "otter_answer_cell"
    ]
   },
   "outputs": [],
   "source": [
    "missing_vals_cols = train_df.columns[train_df.isna().any()].tolist()\n",
    "# print(missing_vals_cols)"
   ]
  },
  {
   "cell_type": "code",
   "execution_count": 729,
   "metadata": {
    "slideshow": {
     "slide_type": "slide"
    },
    "tags": [
     "otter_answer_cell"
    ]
   },
   "outputs": [],
   "source": [
    "numeric_cols = train_df.select_dtypes(include=np.number).columns.tolist()\n",
    "# print(numeric_cols)"
   ]
  },
  {
   "cell_type": "code",
   "execution_count": 730,
   "metadata": {
    "tags": [
     "otter_answer_cell"
    ]
   },
   "outputs": [],
   "source": [
    "# Sorting the lists for the autograder\n",
    "missing_vals_cols.sort()\n",
    "numeric_cols.sort()"
   ]
  },
  {
   "cell_type": "code",
   "execution_count": 731,
   "metadata": {
    "deletable": false,
    "editable": false
   },
   "outputs": [
    {
     "data": {
      "text/html": [
       "<p><strong><pre style='display: inline;'>q1.2</pre></strong> passed! 🚀</p>"
      ],
      "text/plain": [
       "q1.2 results: All test cases passed!"
      ]
     },
     "execution_count": 731,
     "metadata": {},
     "output_type": "execute_result"
    }
   ],
   "source": [
    "grader.check(\"q1.2\")"
   ]
  },
  {
   "cell_type": "markdown",
   "metadata": {},
   "source": [
    "<br><br>"
   ]
  },
  {
   "cell_type": "markdown",
   "metadata": {
    "deletable": false,
    "editable": false,
    "tags": []
   },
   "source": [
    "<!-- BEGIN QUESTION -->\n",
    "\n",
    "### 1.3 Visualizing features\n",
    "rubric={viz,reasoning}\n",
    "\n",
    "**Your tasks:**\n",
    "\n",
    "1. For each numeric feature listed in `numeric_cols`, generate overlapping histograms for the <=50K and >50K classes, similar to how you did it in homework 2.\n",
    "2. Provide a brief description of your preliminary observations based on the histograms. \n",
    "\n",
    "> You can use the library of your choice for visualization. "
   ]
  },
  {
   "cell_type": "markdown",
   "metadata": {
    "deletable": false,
    "editable": false
   },
   "source": [
    "<div class=\"alert alert-warning\">\n",
    "\n",
    "Solution_1.3\n",
    "    \n",
    "</div>\n",
    "\n",
    "_Points:_ 4"
   ]
  },
  {
   "cell_type": "markdown",
   "metadata": {
    "tags": [
     "otter_answer_cell"
    ]
   },
   "source": [
    "Age appears to be highly correlated with income class, with >50K being on average 10-20 years older than those in the >50K class.\n",
    "Capital gain falls around 0 for <=50K group, while falling on average around 1000 for those in the >50K class.\n",
    "Capital loss falls around 0 for most in both groups, with more outliers in the >50K class.\n",
    "Education falls around 9-10 years for most in both groups, though >50K have on average more years of schooling.\n",
    "Fnlwgt falls around 0.18 for both groups. \n",
    "Hours per week falls around 40 hours for most in each group, though those in the >50K class tend to work more than 40 hours on average when compared to the <=50K class."
   ]
  },
  {
   "cell_type": "code",
   "execution_count": 732,
   "metadata": {
    "editable": true,
    "metadata": {
     "tags": [
      "otter_ignore"
     ]
    },
    "slideshow": {
     "slide_type": "slide"
    },
    "tags": [
     "otter_answer_cell"
    ]
   },
   "outputs": [
    {
     "data": {
      "image/png": "[encoded data removed]",
      "text/plain": [
       "<Figure size 800x500 with 1 Axes>"
      ]
     },
     "metadata": {},
     "output_type": "display_data"
    },
    {
     "data": {
      "image/png": "[encoded data removed]",
      "text/plain": [
       "<Figure size 800x500 with 1 Axes>"
      ]
     },
     "metadata": {},
     "output_type": "display_data"
    },
    {
     "data": {
      "image/png": "[encoded data removed]",
      "text/plain": [
       "<Figure size 800x500 with 1 Axes>"
      ]
     },
     "metadata": {},
     "output_type": "display_data"
    },
    {
     "data": {
      "image/png": "[encoded data removed]",
      "text/plain": [
       "<Figure size 800x500 with 1 Axes>"
      ]
     },
     "metadata": {},
     "output_type": "display_data"
    },
    {
     "data": {
      "image/png": "[encoded data removed]",
      "text/plain": [
       "<Figure size 800x500 with 1 Axes>"
      ]
     },
     "metadata": {},
     "output_type": "display_data"
    },
    {
     "data": {
      "image/png": "[encoded data removed]",
      "text/plain": [
       "<Figure size 800x500 with 1 Axes>"
      ]
     },
     "metadata": {},
     "output_type": "display_data"
    }
   ],
   "source": [
    "import matplotlib.pyplot as plt\n",
    "features = numeric_cols\n",
    "\n",
    "for f in features:\n",
    "    plt.figure(figsize=(8, 5))\n",
    "    # Plot histogram for <=50K\n",
    "    train_df[train_df['income'] == '<=50K'][f].plot.hist(bins=50, alpha=0.5, label='<=50K', density=True, color='blue')\n",
    "    # Plot histogram for >50K\n",
    "    train_df[train_df['income'] == '>50K'][f].plot.hist(bins=50, alpha=0.5, label='>50K', density=True, color='orange')\n",
    "    # Histogram for each feature\n",
    "    plt.grid(True)\n",
    "    plt.title(f'Histogram of {f} by Income Class')\n",
    "    plt.xlabel(f)\n",
    "    plt.legend()\n",
    "    plt.show()"
   ]
  },
  {
   "cell_type": "markdown",
   "metadata": {
    "deletable": false,
    "editable": false
   },
   "source": [
    "<!-- END QUESTION -->\n",
    "\n",
    "<br><br><br><br>"
   ]
  },
  {
   "cell_type": "markdown",
   "metadata": {
    "slideshow": {
     "slide_type": "slide"
    }
   },
   "source": [
    "## Exercise 2: Identifying different feature types and transformations  \n",
    "<hr>\n",
    "\n",
    "Typically, data isn't readily formatted for direct input into machine learning models. It's crucial for a machine learning practitioner to examine each column and determine an effective method for encoding its information. Let's determine the types of features we have and come up with suitable encoding strategies for them. "
   ]
  },
  {
   "cell_type": "markdown",
   "metadata": {
    "deletable": false,
    "editable": false
   },
   "source": [
    "<!-- BEGIN QUESTION -->\n",
    "\n",
    "### 2.1 Identify transformations to apply\n",
    "rubric={reasoning}\n",
    "\n",
    "Before passing this data to a machine learning model, we need to apply some transformations on different features. Below we are providing possible transformations which can be applied on each column in `census_df`.  \n",
    "\n",
    "**Your tasks:**\n",
    "1. Write your justification or explanation for each row in the explanation column. An example explanation is given for the age column. \n",
    "\n",
    "> Note: This question is a bit open-ended. If you do not agree with the provided transformation, feel free to argue your case in the explanation. That said, in this assignment, go with the transformations provided below for the purpose of autograding. \n",
    "\n",
    "> You can find the information about the columns [here](http://archive.ics.uci.edu/ml/datasets/Adult)."
   ]
  },
  {
   "cell_type": "markdown",
   "metadata": {
    "deletable": false,
    "editable": false
   },
   "source": [
    "<div class=\"alert alert-warning\">\n",
    "\n",
    "Solution_2.1\n",
    "    \n",
    "</div>"
   ]
  },
  {
   "cell_type": "markdown",
   "metadata": {
    "deletable": false,
    "editable": false
   },
   "source": [
    "| Feature | Transformation | Explanation\n",
    "| --- | ----------- | ----- |\n",
    "| age | scaling with `StandardScaler` |  A numeric feature with no missing values, ranging from 17 to 90. Scaling is recommended due to its distinct range compared to other numeric features. While MinMaxScaler might be more suitable, using StandardScaler should be fine too.|\n",
    "| workclass | imputation, one-hot encoding | |\n",
    "| fnlwgt | drop |  |\n",
    "| education | ordinal encoding | |\n",
    "| education.num | drop | |\n",
    "| marital.status | one-hot encoding  | |\n",
    "| occupation | imputation, one-hot encoding  | |\n",
    "| relationship | one-hot encoding  | |\n",
    "| race | drop  |  |\n",
    "| sex | one-hot encoding with \"binary=True\" | |\n",
    "| capital.gain | scaling with `StandardScaler` |  | \n",
    "| capital.loss | scaling with `StandardScaler` |  |\n",
    "| hours.per.week | scaling with `StandardScaler` | |\n",
    "| native.country | imputation, one-hot encoding | | \n",
    "\n",
    "\n",
    "_Points:_ 13"
   ]
  },
  {
   "cell_type": "markdown",
   "metadata": {
    "tags": [
     "otter_answer_cell"
    ]
   },
   "source": [
    "_Type your answer here, replacing this text._"
   ]
  },
  {
   "cell_type": "markdown",
   "metadata": {
    "deletable": false,
    "editable": false
   },
   "source": [
    "<!-- END QUESTION -->\n",
    "\n",
    "<br><br>"
   ]
  },
  {
   "cell_type": "markdown",
   "metadata": {
    "deletable": false,
    "editable": false
   },
   "source": [
    "### 2.2 Identify feature types \n",
    "rubric={autograde}\n",
    "\n",
    "\n",
    "**Your tasks:**\n",
    "1. Based on the types of transformations we want to apply on the features above, identify different feature types and store them in the variables below as lists.  "
   ]
  },
  {
   "cell_type": "markdown",
   "metadata": {
    "deletable": false,
    "editable": false
   },
   "source": [
    "<div class=\"alert alert-warning\">\n",
    "    \n",
    "Solution_2.2\n",
    "    \n",
    "</div>\n",
    "\n",
    "_Points:_ 5"
   ]
  },
  {
   "cell_type": "code",
   "execution_count": 733,
   "metadata": {
    "tags": [
     "otter_answer_cell"
    ]
   },
   "outputs": [
    {
     "data": {
      "text/plain": [
       "Ellipsis"
      ]
     },
     "execution_count": 733,
     "metadata": {},
     "output_type": "execute_result"
    }
   ],
   "source": [
    "# Fill in the lists below.\n",
    "numeric_features = []\n",
    "categorical_features = []\n",
    "ordinal_features = []\n",
    "binary_features = []\n",
    "drop_features = []\n",
    "target = \"income\"\n",
    "\n",
    "..."
   ]
  },
  {
   "cell_type": "code",
   "execution_count": 734,
   "metadata": {
    "tags": [
     "otter_answer_cell"
    ]
   },
   "outputs": [],
   "source": [
    "# Sorting all the lists above for the autograder\n",
    "numeric_features.sort()\n",
    "categorical_features.sort()\n",
    "ordinal_features.sort()\n",
    "binary_features.sort()\n",
    "drop_features.sort()"
   ]
  },
  {
   "cell_type": "code",
   "execution_count": 735,
   "metadata": {
    "deletable": false,
    "editable": false
   },
   "outputs": [
    {
     "data": {
      "text/html": [
       "<p><strong style='color: red;'><pre style='display: inline;'>q2.2</pre> results:</strong></p><p><strong><pre style='display: inline;'>q2.2 - 1</pre> result:</strong></p><pre>    ❌ Test case failed\n",
       "    Trying:\n",
       "        assert sha1(str(numeric_features).encode('utf8')).hexdigest() == '71401cf60034fd69eee7398866359f612adf3e15', 'numeric_features list is not correct'\n",
       "    Expecting nothing\n",
       "    **********************************************************************\n",
       "    Line 1, in q2.2 0\n",
       "    Failed example:\n",
       "        assert sha1(str(numeric_features).encode('utf8')).hexdigest() == '71401cf60034fd69eee7398866359f612adf3e15', 'numeric_features list is not correct'\n",
       "    Exception raised:\n",
       "        Traceback (most recent call last):\n",
       "          File \"/home/dadmin/miniconda3/envs/cpsc330/lib/python3.13/doctest.py\", line 1395, in __run\n",
       "            exec(compile(example.source, filename, \"single\",\n",
       "            ~~~~^^^^^^^^^^^^^^^^^^^^^^^^^^^^^^^^^^^^^^^^^^^^\n",
       "                         compileflags, True), test.globs)\n",
       "                         ^^^^^^^^^^^^^^^^^^^^^^^^^^^^^^^^\n",
       "          File \"<doctest q2.2 0[0]>\", line 1, in <module>\n",
       "            assert sha1(str(numeric_features).encode('utf8')).hexdigest() == '71401cf60034fd69eee7398866359f612adf3e15', 'numeric_features list is not correct'\n",
       "                   ^^^^^^^^^^^^^^^^^^^^^^^^^^^^^^^^^^^^^^^^^^^^^^^^^^^^^^^^^^^^^^^^^^^^^^^^^^^^^^^^^^^^^^^^^^^^^^^^^^^^\n",
       "        AssertionError: numeric_features list is not correct\n",
       "    Trying:\n",
       "        assert sha1(str(categorical_features).encode('utf8')).hexdigest() == 'af1a4022c0362405678be5c3a6735578a8c0069f', 'categorical_features list is not correct'\n",
       "    Expecting nothing\n",
       "    **********************************************************************\n",
       "    Line 2, in q2.2 0\n",
       "    Failed example:\n",
       "        assert sha1(str(categorical_features).encode('utf8')).hexdigest() == 'af1a4022c0362405678be5c3a6735578a8c0069f', 'categorical_features list is not correct'\n",
       "    Exception raised:\n",
       "        Traceback (most recent call last):\n",
       "          File \"/home/dadmin/miniconda3/envs/cpsc330/lib/python3.13/doctest.py\", line 1395, in __run\n",
       "            exec(compile(example.source, filename, \"single\",\n",
       "            ~~~~^^^^^^^^^^^^^^^^^^^^^^^^^^^^^^^^^^^^^^^^^^^^\n",
       "                         compileflags, True), test.globs)\n",
       "                         ^^^^^^^^^^^^^^^^^^^^^^^^^^^^^^^^\n",
       "          File \"<doctest q2.2 0[1]>\", line 1, in <module>\n",
       "            assert sha1(str(categorical_features).encode('utf8')).hexdigest() == 'af1a4022c0362405678be5c3a6735578a8c0069f', 'categorical_features list is not correct'\n",
       "                   ^^^^^^^^^^^^^^^^^^^^^^^^^^^^^^^^^^^^^^^^^^^^^^^^^^^^^^^^^^^^^^^^^^^^^^^^^^^^^^^^^^^^^^^^^^^^^^^^^^^^^^^^\n",
       "        AssertionError: categorical_features list is not correct\n",
       "    Trying:\n",
       "        assert sha1(str(ordinal_features).encode('utf8')).hexdigest() == '95b86602c44211f3ad662bb58b8e53d024106d05', 'ordinal_features list is not correct'\n",
       "    Expecting nothing\n",
       "    **********************************************************************\n",
       "    Line 3, in q2.2 0\n",
       "    Failed example:\n",
       "        assert sha1(str(ordinal_features).encode('utf8')).hexdigest() == '95b86602c44211f3ad662bb58b8e53d024106d05', 'ordinal_features list is not correct'\n",
       "    Exception raised:\n",
       "        Traceback (most recent call last):\n",
       "          File \"/home/dadmin/miniconda3/envs/cpsc330/lib/python3.13/doctest.py\", line 1395, in __run\n",
       "            exec(compile(example.source, filename, \"single\",\n",
       "            ~~~~^^^^^^^^^^^^^^^^^^^^^^^^^^^^^^^^^^^^^^^^^^^^\n",
       "                         compileflags, True), test.globs)\n",
       "                         ^^^^^^^^^^^^^^^^^^^^^^^^^^^^^^^^\n",
       "          File \"<doctest q2.2 0[2]>\", line 1, in <module>\n",
       "            assert sha1(str(ordinal_features).encode('utf8')).hexdigest() == '95b86602c44211f3ad662bb58b8e53d024106d05', 'ordinal_features list is not correct'\n",
       "                   ^^^^^^^^^^^^^^^^^^^^^^^^^^^^^^^^^^^^^^^^^^^^^^^^^^^^^^^^^^^^^^^^^^^^^^^^^^^^^^^^^^^^^^^^^^^^^^^^^^^^\n",
       "        AssertionError: ordinal_features list is not correct\n",
       "    Trying:\n",
       "        assert sha1(str(binary_features).encode('utf8')).hexdigest() == 'd4b7aa4c56ac2f98e6ac9cec7768484b415b7337', 'binary_features list is not correct'\n",
       "    Expecting nothing\n",
       "    **********************************************************************\n",
       "    Line 4, in q2.2 0\n",
       "    Failed example:\n",
       "        assert sha1(str(binary_features).encode('utf8')).hexdigest() == 'd4b7aa4c56ac2f98e6ac9cec7768484b415b7337', 'binary_features list is not correct'\n",
       "    Exception raised:\n",
       "        Traceback (most recent call last):\n",
       "          File \"/home/dadmin/miniconda3/envs/cpsc330/lib/python3.13/doctest.py\", line 1395, in __run\n",
       "            exec(compile(example.source, filename, \"single\",\n",
       "            ~~~~^^^^^^^^^^^^^^^^^^^^^^^^^^^^^^^^^^^^^^^^^^^^\n",
       "                         compileflags, True), test.globs)\n",
       "                         ^^^^^^^^^^^^^^^^^^^^^^^^^^^^^^^^\n",
       "          File \"<doctest q2.2 0[3]>\", line 1, in <module>\n",
       "            assert sha1(str(binary_features).encode('utf8')).hexdigest() == 'd4b7aa4c56ac2f98e6ac9cec7768484b415b7337', 'binary_features list is not correct'\n",
       "                   ^^^^^^^^^^^^^^^^^^^^^^^^^^^^^^^^^^^^^^^^^^^^^^^^^^^^^^^^^^^^^^^^^^^^^^^^^^^^^^^^^^^^^^^^^^^^^^^^^^^\n",
       "        AssertionError: binary_features list is not correct\n",
       "    Trying:\n",
       "        assert sha1(str(drop_features).encode('utf8')).hexdigest() == '62aab57d42c54be3dfd3c55020e5a167ca1a84c3', 'drop_features list is not correct'\n",
       "    Expecting nothing\n",
       "    **********************************************************************\n",
       "    Line 5, in q2.2 0\n",
       "    Failed example:\n",
       "        assert sha1(str(drop_features).encode('utf8')).hexdigest() == '62aab57d42c54be3dfd3c55020e5a167ca1a84c3', 'drop_features list is not correct'\n",
       "    Exception raised:\n",
       "        Traceback (most recent call last):\n",
       "          File \"/home/dadmin/miniconda3/envs/cpsc330/lib/python3.13/doctest.py\", line 1395, in __run\n",
       "            exec(compile(example.source, filename, \"single\",\n",
       "            ~~~~^^^^^^^^^^^^^^^^^^^^^^^^^^^^^^^^^^^^^^^^^^^^\n",
       "                         compileflags, True), test.globs)\n",
       "                         ^^^^^^^^^^^^^^^^^^^^^^^^^^^^^^^^\n",
       "          File \"<doctest q2.2 0[4]>\", line 1, in <module>\n",
       "            assert sha1(str(drop_features).encode('utf8')).hexdigest() == '62aab57d42c54be3dfd3c55020e5a167ca1a84c3', 'drop_features list is not correct'\n",
       "                   ^^^^^^^^^^^^^^^^^^^^^^^^^^^^^^^^^^^^^^^^^^^^^^^^^^^^^^^^^^^^^^^^^^^^^^^^^^^^^^^^^^^^^^^^^^^^^^^^^\n",
       "        AssertionError: drop_features list is not correct\n",
       "    Trying:\n",
       "        assert sha1(str(target).encode('utf8')).hexdigest() == '0f613350b66e64d92ef21bc4dcdbf8996cb4edf0', 'target variable is not set correctly'\n",
       "    Expecting nothing\n",
       "    ok\n",
       "</pre>"
      ],
      "text/plain": [
       "q2.2 results:\n",
       "    q2.2 - 1 result:\n",
       "        ❌ Test case failed\n",
       "        Trying:\n",
       "            assert sha1(str(numeric_features).encode('utf8')).hexdigest() == '71401cf60034fd69eee7398866359f612adf3e15', 'numeric_features list is not correct'\n",
       "        Expecting nothing\n",
       "        **********************************************************************\n",
       "        Line 1, in q2.2 0\n",
       "        Failed example:\n",
       "            assert sha1(str(numeric_features).encode('utf8')).hexdigest() == '71401cf60034fd69eee7398866359f612adf3e15', 'numeric_features list is not correct'\n",
       "        Exception raised:\n",
       "            Traceback (most recent call last):\n",
       "              File \"/home/dadmin/miniconda3/envs/cpsc330/lib/python3.13/doctest.py\", line 1395, in __run\n",
       "                exec(compile(example.source, filename, \"single\",\n",
       "                ~~~~^^^^^^^^^^^^^^^^^^^^^^^^^^^^^^^^^^^^^^^^^^^^\n",
       "                             compileflags, True), test.globs)\n",
       "                             ^^^^^^^^^^^^^^^^^^^^^^^^^^^^^^^^\n",
       "              File \"<doctest q2.2 0[0]>\", line 1, in <module>\n",
       "                assert sha1(str(numeric_features).encode('utf8')).hexdigest() == '71401cf60034fd69eee7398866359f612adf3e15', 'numeric_features list is not correct'\n",
       "                       ^^^^^^^^^^^^^^^^^^^^^^^^^^^^^^^^^^^^^^^^^^^^^^^^^^^^^^^^^^^^^^^^^^^^^^^^^^^^^^^^^^^^^^^^^^^^^^^^^^^^\n",
       "            AssertionError: numeric_features list is not correct\n",
       "        Trying:\n",
       "            assert sha1(str(categorical_features).encode('utf8')).hexdigest() == 'af1a4022c0362405678be5c3a6735578a8c0069f', 'categorical_features list is not correct'\n",
       "        Expecting nothing\n",
       "        **********************************************************************\n",
       "        Line 2, in q2.2 0\n",
       "        Failed example:\n",
       "            assert sha1(str(categorical_features).encode('utf8')).hexdigest() == 'af1a4022c0362405678be5c3a6735578a8c0069f', 'categorical_features list is not correct'\n",
       "        Exception raised:\n",
       "            Traceback (most recent call last):\n",
       "              File \"/home/dadmin/miniconda3/envs/cpsc330/lib/python3.13/doctest.py\", line 1395, in __run\n",
       "                exec(compile(example.source, filename, \"single\",\n",
       "                ~~~~^^^^^^^^^^^^^^^^^^^^^^^^^^^^^^^^^^^^^^^^^^^^\n",
       "                             compileflags, True), test.globs)\n",
       "                             ^^^^^^^^^^^^^^^^^^^^^^^^^^^^^^^^\n",
       "              File \"<doctest q2.2 0[1]>\", line 1, in <module>\n",
       "                assert sha1(str(categorical_features).encode('utf8')).hexdigest() == 'af1a4022c0362405678be5c3a6735578a8c0069f', 'categorical_features list is not correct'\n",
       "                       ^^^^^^^^^^^^^^^^^^^^^^^^^^^^^^^^^^^^^^^^^^^^^^^^^^^^^^^^^^^^^^^^^^^^^^^^^^^^^^^^^^^^^^^^^^^^^^^^^^^^^^^^\n",
       "            AssertionError: categorical_features list is not correct\n",
       "        Trying:\n",
       "            assert sha1(str(ordinal_features).encode('utf8')).hexdigest() == '95b86602c44211f3ad662bb58b8e53d024106d05', 'ordinal_features list is not correct'\n",
       "        Expecting nothing\n",
       "        **********************************************************************\n",
       "        Line 3, in q2.2 0\n",
       "        Failed example:\n",
       "            assert sha1(str(ordinal_features).encode('utf8')).hexdigest() == '95b86602c44211f3ad662bb58b8e53d024106d05', 'ordinal_features list is not correct'\n",
       "        Exception raised:\n",
       "            Traceback (most recent call last):\n",
       "              File \"/home/dadmin/miniconda3/envs/cpsc330/lib/python3.13/doctest.py\", line 1395, in __run\n",
       "                exec(compile(example.source, filename, \"single\",\n",
       "                ~~~~^^^^^^^^^^^^^^^^^^^^^^^^^^^^^^^^^^^^^^^^^^^^\n",
       "                             compileflags, True), test.globs)\n",
       "                             ^^^^^^^^^^^^^^^^^^^^^^^^^^^^^^^^\n",
       "              File \"<doctest q2.2 0[2]>\", line 1, in <module>\n",
       "                assert sha1(str(ordinal_features).encode('utf8')).hexdigest() == '95b86602c44211f3ad662bb58b8e53d024106d05', 'ordinal_features list is not correct'\n",
       "                       ^^^^^^^^^^^^^^^^^^^^^^^^^^^^^^^^^^^^^^^^^^^^^^^^^^^^^^^^^^^^^^^^^^^^^^^^^^^^^^^^^^^^^^^^^^^^^^^^^^^^\n",
       "            AssertionError: ordinal_features list is not correct\n",
       "        Trying:\n",
       "            assert sha1(str(binary_features).encode('utf8')).hexdigest() == 'd4b7aa4c56ac2f98e6ac9cec7768484b415b7337', 'binary_features list is not correct'\n",
       "        Expecting nothing\n",
       "        **********************************************************************\n",
       "        Line 4, in q2.2 0\n",
       "        Failed example:\n",
       "            assert sha1(str(binary_features).encode('utf8')).hexdigest() == 'd4b7aa4c56ac2f98e6ac9cec7768484b415b7337', 'binary_features list is not correct'\n",
       "        Exception raised:\n",
       "            Traceback (most recent call last):\n",
       "              File \"/home/dadmin/miniconda3/envs/cpsc330/lib/python3.13/doctest.py\", line 1395, in __run\n",
       "                exec(compile(example.source, filename, \"single\",\n",
       "                ~~~~^^^^^^^^^^^^^^^^^^^^^^^^^^^^^^^^^^^^^^^^^^^^\n",
       "                             compileflags, True), test.globs)\n",
       "                             ^^^^^^^^^^^^^^^^^^^^^^^^^^^^^^^^\n",
       "              File \"<doctest q2.2 0[3]>\", line 1, in <module>\n",
       "                assert sha1(str(binary_features).encode('utf8')).hexdigest() == 'd4b7aa4c56ac2f98e6ac9cec7768484b415b7337', 'binary_features list is not correct'\n",
       "                       ^^^^^^^^^^^^^^^^^^^^^^^^^^^^^^^^^^^^^^^^^^^^^^^^^^^^^^^^^^^^^^^^^^^^^^^^^^^^^^^^^^^^^^^^^^^^^^^^^^^\n",
       "            AssertionError: binary_features list is not correct\n",
       "        Trying:\n",
       "            assert sha1(str(drop_features).encode('utf8')).hexdigest() == '62aab57d42c54be3dfd3c55020e5a167ca1a84c3', 'drop_features list is not correct'\n",
       "        Expecting nothing\n",
       "        **********************************************************************\n",
       "        Line 5, in q2.2 0\n",
       "        Failed example:\n",
       "            assert sha1(str(drop_features).encode('utf8')).hexdigest() == '62aab57d42c54be3dfd3c55020e5a167ca1a84c3', 'drop_features list is not correct'\n",
       "        Exception raised:\n",
       "            Traceback (most recent call last):\n",
       "              File \"/home/dadmin/miniconda3/envs/cpsc330/lib/python3.13/doctest.py\", line 1395, in __run\n",
       "                exec(compile(example.source, filename, \"single\",\n",
       "                ~~~~^^^^^^^^^^^^^^^^^^^^^^^^^^^^^^^^^^^^^^^^^^^^\n",
       "                             compileflags, True), test.globs)\n",
       "                             ^^^^^^^^^^^^^^^^^^^^^^^^^^^^^^^^\n",
       "              File \"<doctest q2.2 0[4]>\", line 1, in <module>\n",
       "                assert sha1(str(drop_features).encode('utf8')).hexdigest() == '62aab57d42c54be3dfd3c55020e5a167ca1a84c3', 'drop_features list is not correct'\n",
       "                       ^^^^^^^^^^^^^^^^^^^^^^^^^^^^^^^^^^^^^^^^^^^^^^^^^^^^^^^^^^^^^^^^^^^^^^^^^^^^^^^^^^^^^^^^^^^^^^^^^\n",
       "            AssertionError: drop_features list is not correct\n",
       "        Trying:\n",
       "            assert sha1(str(target).encode('utf8')).hexdigest() == '0f613350b66e64d92ef21bc4dcdbf8996cb4edf0', 'target variable is not set correctly'\n",
       "        Expecting nothing\n",
       "        ok"
      ]
     },
     "execution_count": 735,
     "metadata": {},
     "output_type": "execute_result"
    }
   ],
   "source": [
    "grader.check(\"q2.2\")"
   ]
  },
  {
   "cell_type": "markdown",
   "metadata": {},
   "source": [
    "<br><br><br><br>"
   ]
  },
  {
   "cell_type": "markdown",
   "metadata": {},
   "source": [
    "## Exercise 3: Baseline models "
   ]
  },
  {
   "cell_type": "markdown",
   "metadata": {
    "deletable": false,
    "editable": false
   },
   "source": [
    "### 3.1 Separating feature vectors and targets  \n",
    "rubric={autograde}\n",
    "\n",
    "**Your tasks:**\n",
    "\n",
    "1. Create `X_train`, `y_train`, `X_test`, `y_test` from `train_df` and `test_df`. "
   ]
  },
  {
   "cell_type": "markdown",
   "metadata": {
    "deletable": false,
    "editable": false
   },
   "source": [
    "<div class=\"alert alert-warning\">\n",
    "    \n",
    "Solution_3.1\n",
    "    \n",
    "</div>\n",
    "\n",
    "_Points:_ 1"
   ]
  },
  {
   "cell_type": "code",
   "execution_count": 736,
   "metadata": {
    "tags": [
     "otter_answer_cell"
    ]
   },
   "outputs": [
    {
     "data": {
      "text/plain": [
       "Ellipsis"
      ]
     },
     "execution_count": 736,
     "metadata": {},
     "output_type": "execute_result"
    }
   ],
   "source": [
    "X_train = None\n",
    "y_train = None\n",
    "X_test = None\n",
    "y_test = None\n",
    "\n",
    "..."
   ]
  },
  {
   "cell_type": "code",
   "execution_count": 737,
   "metadata": {
    "deletable": false,
    "editable": false
   },
   "outputs": [
    {
     "data": {
      "text/html": [
       "<p><strong style='color: red;'><pre style='display: inline;'>q3.1</pre> results:</strong></p><p><strong><pre style='display: inline;'>q3.1 - 1</pre> result:</strong></p><pre>    ❌ Test case failed\n",
       "    Trying:\n",
       "        assert not X_train is None, 'Your answer does not exist. Have you passed in the correct variable?'\n",
       "    Expecting nothing\n",
       "    **********************************************************************\n",
       "    Line 1, in q3.1 0\n",
       "    Failed example:\n",
       "        assert not X_train is None, 'Your answer does not exist. Have you passed in the correct variable?'\n",
       "    Exception raised:\n",
       "        Traceback (most recent call last):\n",
       "          File \"/home/dadmin/miniconda3/envs/cpsc330/lib/python3.13/doctest.py\", line 1395, in __run\n",
       "            exec(compile(example.source, filename, \"single\",\n",
       "            ~~~~^^^^^^^^^^^^^^^^^^^^^^^^^^^^^^^^^^^^^^^^^^^^\n",
       "                         compileflags, True), test.globs)\n",
       "                         ^^^^^^^^^^^^^^^^^^^^^^^^^^^^^^^^\n",
       "          File \"<doctest q3.1 0[0]>\", line 1, in <module>\n",
       "            assert not X_train is None, 'Your answer does not exist. Have you passed in the correct variable?'\n",
       "                       ^^^^^^^^^^^^^^^\n",
       "        AssertionError: Your answer does not exist. Have you passed in the correct variable?\n",
       "    Trying:\n",
       "        assert not y_train is None, 'Your answer does not exist. Have you passed in the correct variable?'\n",
       "    Expecting nothing\n",
       "    **********************************************************************\n",
       "    Line 2, in q3.1 0\n",
       "    Failed example:\n",
       "        assert not y_train is None, 'Your answer does not exist. Have you passed in the correct variable?'\n",
       "    Exception raised:\n",
       "        Traceback (most recent call last):\n",
       "          File \"/home/dadmin/miniconda3/envs/cpsc330/lib/python3.13/doctest.py\", line 1395, in __run\n",
       "            exec(compile(example.source, filename, \"single\",\n",
       "            ~~~~^^^^^^^^^^^^^^^^^^^^^^^^^^^^^^^^^^^^^^^^^^^^\n",
       "                         compileflags, True), test.globs)\n",
       "                         ^^^^^^^^^^^^^^^^^^^^^^^^^^^^^^^^\n",
       "          File \"<doctest q3.1 0[1]>\", line 1, in <module>\n",
       "            assert not y_train is None, 'Your answer does not exist. Have you passed in the correct variable?'\n",
       "                       ^^^^^^^^^^^^^^^\n",
       "        AssertionError: Your answer does not exist. Have you passed in the correct variable?\n",
       "    Trying:\n",
       "        assert not X_test is None, 'Your answer does not exist. Have you passed in the correct variable?'\n",
       "    Expecting nothing\n",
       "    **********************************************************************\n",
       "    Line 3, in q3.1 0\n",
       "    Failed example:\n",
       "        assert not X_test is None, 'Your answer does not exist. Have you passed in the correct variable?'\n",
       "    Exception raised:\n",
       "        Traceback (most recent call last):\n",
       "          File \"/home/dadmin/miniconda3/envs/cpsc330/lib/python3.13/doctest.py\", line 1395, in __run\n",
       "            exec(compile(example.source, filename, \"single\",\n",
       "            ~~~~^^^^^^^^^^^^^^^^^^^^^^^^^^^^^^^^^^^^^^^^^^^^\n",
       "                         compileflags, True), test.globs)\n",
       "                         ^^^^^^^^^^^^^^^^^^^^^^^^^^^^^^^^\n",
       "          File \"<doctest q3.1 0[2]>\", line 1, in <module>\n",
       "            assert not X_test is None, 'Your answer does not exist. Have you passed in the correct variable?'\n",
       "                       ^^^^^^^^^^^^^^\n",
       "        AssertionError: Your answer does not exist. Have you passed in the correct variable?\n",
       "    Trying:\n",
       "        assert not y_test is None, 'Your answer does not exist. Have you passed in the correct variable?'\n",
       "    Expecting nothing\n",
       "    **********************************************************************\n",
       "    Line 4, in q3.1 0\n",
       "    Failed example:\n",
       "        assert not y_test is None, 'Your answer does not exist. Have you passed in the correct variable?'\n",
       "    Exception raised:\n",
       "        Traceback (most recent call last):\n",
       "          File \"/home/dadmin/miniconda3/envs/cpsc330/lib/python3.13/doctest.py\", line 1395, in __run\n",
       "            exec(compile(example.source, filename, \"single\",\n",
       "            ~~~~^^^^^^^^^^^^^^^^^^^^^^^^^^^^^^^^^^^^^^^^^^^^\n",
       "                         compileflags, True), test.globs)\n",
       "                         ^^^^^^^^^^^^^^^^^^^^^^^^^^^^^^^^\n",
       "          File \"<doctest q3.1 0[3]>\", line 1, in <module>\n",
       "            assert not y_test is None, 'Your answer does not exist. Have you passed in the correct variable?'\n",
       "                       ^^^^^^^^^^^^^^\n",
       "        AssertionError: Your answer does not exist. Have you passed in the correct variable?\n",
       "    Trying:\n",
       "        assert X_train.shape == (13024, 14), 'The dimensions of X_train are incorrect'\n",
       "    Expecting nothing\n",
       "    **********************************************************************\n",
       "    Line 5, in q3.1 0\n",
       "    Failed example:\n",
       "        assert X_train.shape == (13024, 14), 'The dimensions of X_train are incorrect'\n",
       "    Exception raised:\n",
       "        Traceback (most recent call last):\n",
       "          File \"/home/dadmin/miniconda3/envs/cpsc330/lib/python3.13/doctest.py\", line 1395, in __run\n",
       "            exec(compile(example.source, filename, \"single\",\n",
       "            ~~~~^^^^^^^^^^^^^^^^^^^^^^^^^^^^^^^^^^^^^^^^^^^^\n",
       "                         compileflags, True), test.globs)\n",
       "                         ^^^^^^^^^^^^^^^^^^^^^^^^^^^^^^^^\n",
       "          File \"<doctest q3.1 0[4]>\", line 1, in <module>\n",
       "            assert X_train.shape == (13024, 14), 'The dimensions of X_train are incorrect'\n",
       "                   ^^^^^^^^^^^^^\n",
       "        AttributeError: 'NoneType' object has no attribute 'shape'\n",
       "    Trying:\n",
       "        assert y_train.shape == (13024,), 'The dimensions of y_train are incorrect. Are you splitting correctly'\n",
       "    Expecting nothing\n",
       "    **********************************************************************\n",
       "    Line 6, in q3.1 0\n",
       "    Failed example:\n",
       "        assert y_train.shape == (13024,), 'The dimensions of y_train are incorrect. Are you splitting correctly'\n",
       "    Exception raised:\n",
       "        Traceback (most recent call last):\n",
       "          File \"/home/dadmin/miniconda3/envs/cpsc330/lib/python3.13/doctest.py\", line 1395, in __run\n",
       "            exec(compile(example.source, filename, \"single\",\n",
       "            ~~~~^^^^^^^^^^^^^^^^^^^^^^^^^^^^^^^^^^^^^^^^^^^^\n",
       "                         compileflags, True), test.globs)\n",
       "                         ^^^^^^^^^^^^^^^^^^^^^^^^^^^^^^^^\n",
       "          File \"<doctest q3.1 0[5]>\", line 1, in <module>\n",
       "            assert y_train.shape == (13024,), 'The dimensions of y_train are incorrect. Are you splitting correctly'\n",
       "                   ^^^^^^^^^^^^^\n",
       "        AttributeError: 'NoneType' object has no attribute 'shape'\n",
       "    Trying:\n",
       "        assert X_test.shape == (19537, 14), 'The dimensions of X_test are incorrect. Are you splitting correctly? Are you using single brackets?'\n",
       "    Expecting nothing\n",
       "    **********************************************************************\n",
       "    Line 7, in q3.1 0\n",
       "    Failed example:\n",
       "        assert X_test.shape == (19537, 14), 'The dimensions of X_test are incorrect. Are you splitting correctly? Are you using single brackets?'\n",
       "    Exception raised:\n",
       "        Traceback (most recent call last):\n",
       "          File \"/home/dadmin/miniconda3/envs/cpsc330/lib/python3.13/doctest.py\", line 1395, in __run\n",
       "            exec(compile(example.source, filename, \"single\",\n",
       "            ~~~~^^^^^^^^^^^^^^^^^^^^^^^^^^^^^^^^^^^^^^^^^^^^\n",
       "                         compileflags, True), test.globs)\n",
       "                         ^^^^^^^^^^^^^^^^^^^^^^^^^^^^^^^^\n",
       "          File \"<doctest q3.1 0[6]>\", line 1, in <module>\n",
       "            assert X_test.shape == (19537, 14), 'The dimensions of X_test are incorrect. Are you splitting correctly? Are you using single brackets?'\n",
       "                   ^^^^^^^^^^^^\n",
       "        AttributeError: 'NoneType' object has no attribute 'shape'\n",
       "    Trying:\n",
       "        assert y_test.shape == (19537,), 'The dimensions of y_test are incorrect. Are you splitting correctly? Are you using single brackets?'\n",
       "    Expecting nothing\n",
       "    **********************************************************************\n",
       "    Line 8, in q3.1 0\n",
       "    Failed example:\n",
       "        assert y_test.shape == (19537,), 'The dimensions of y_test are incorrect. Are you splitting correctly? Are you using single brackets?'\n",
       "    Exception raised:\n",
       "        Traceback (most recent call last):\n",
       "          File \"/home/dadmin/miniconda3/envs/cpsc330/lib/python3.13/doctest.py\", line 1395, in __run\n",
       "            exec(compile(example.source, filename, \"single\",\n",
       "            ~~~~^^^^^^^^^^^^^^^^^^^^^^^^^^^^^^^^^^^^^^^^^^^^\n",
       "                         compileflags, True), test.globs)\n",
       "                         ^^^^^^^^^^^^^^^^^^^^^^^^^^^^^^^^\n",
       "          File \"<doctest q3.1 0[7]>\", line 1, in <module>\n",
       "            assert y_test.shape == (19537,), 'The dimensions of y_test are incorrect. Are you splitting correctly? Are you using single brackets?'\n",
       "                   ^^^^^^^^^^^^\n",
       "        AttributeError: 'NoneType' object has no attribute 'shape'\n",
       "    Trying:\n",
       "        assert 'income' not in list(X_train.columns), 'Make sure the target variable is not part of your X dataset.'\n",
       "    Expecting nothing\n",
       "    **********************************************************************\n",
       "    Line 9, in q3.1 0\n",
       "    Failed example:\n",
       "        assert 'income' not in list(X_train.columns), 'Make sure the target variable is not part of your X dataset.'\n",
       "    Exception raised:\n",
       "        Traceback (most recent call last):\n",
       "          File \"/home/dadmin/miniconda3/envs/cpsc330/lib/python3.13/doctest.py\", line 1395, in __run\n",
       "            exec(compile(example.source, filename, \"single\",\n",
       "            ~~~~^^^^^^^^^^^^^^^^^^^^^^^^^^^^^^^^^^^^^^^^^^^^\n",
       "                         compileflags, True), test.globs)\n",
       "                         ^^^^^^^^^^^^^^^^^^^^^^^^^^^^^^^^\n",
       "          File \"<doctest q3.1 0[8]>\", line 1, in <module>\n",
       "            assert 'income' not in list(X_train.columns), 'Make sure the target variable is not part of your X dataset.'\n",
       "                                        ^^^^^^^^^^^^^^^\n",
       "        AttributeError: 'NoneType' object has no attribute 'columns'\n",
       "</pre>"
      ],
      "text/plain": [
       "q3.1 results:\n",
       "    q3.1 - 1 result:\n",
       "        ❌ Test case failed\n",
       "        Trying:\n",
       "            assert not X_train is None, 'Your answer does not exist. Have you passed in the correct variable?'\n",
       "        Expecting nothing\n",
       "        **********************************************************************\n",
       "        Line 1, in q3.1 0\n",
       "        Failed example:\n",
       "            assert not X_train is None, 'Your answer does not exist. Have you passed in the correct variable?'\n",
       "        Exception raised:\n",
       "            Traceback (most recent call last):\n",
       "              File \"/home/dadmin/miniconda3/envs/cpsc330/lib/python3.13/doctest.py\", line 1395, in __run\n",
       "                exec(compile(example.source, filename, \"single\",\n",
       "                ~~~~^^^^^^^^^^^^^^^^^^^^^^^^^^^^^^^^^^^^^^^^^^^^\n",
       "                             compileflags, True), test.globs)\n",
       "                             ^^^^^^^^^^^^^^^^^^^^^^^^^^^^^^^^\n",
       "              File \"<doctest q3.1 0[0]>\", line 1, in <module>\n",
       "                assert not X_train is None, 'Your answer does not exist. Have you passed in the correct variable?'\n",
       "                           ^^^^^^^^^^^^^^^\n",
       "            AssertionError: Your answer does not exist. Have you passed in the correct variable?\n",
       "        Trying:\n",
       "            assert not y_train is None, 'Your answer does not exist. Have you passed in the correct variable?'\n",
       "        Expecting nothing\n",
       "        **********************************************************************\n",
       "        Line 2, in q3.1 0\n",
       "        Failed example:\n",
       "            assert not y_train is None, 'Your answer does not exist. Have you passed in the correct variable?'\n",
       "        Exception raised:\n",
       "            Traceback (most recent call last):\n",
       "              File \"/home/dadmin/miniconda3/envs/cpsc330/lib/python3.13/doctest.py\", line 1395, in __run\n",
       "                exec(compile(example.source, filename, \"single\",\n",
       "                ~~~~^^^^^^^^^^^^^^^^^^^^^^^^^^^^^^^^^^^^^^^^^^^^\n",
       "                             compileflags, True), test.globs)\n",
       "                             ^^^^^^^^^^^^^^^^^^^^^^^^^^^^^^^^\n",
       "              File \"<doctest q3.1 0[1]>\", line 1, in <module>\n",
       "                assert not y_train is None, 'Your answer does not exist. Have you passed in the correct variable?'\n",
       "                           ^^^^^^^^^^^^^^^\n",
       "            AssertionError: Your answer does not exist. Have you passed in the correct variable?\n",
       "        Trying:\n",
       "            assert not X_test is None, 'Your answer does not exist. Have you passed in the correct variable?'\n",
       "        Expecting nothing\n",
       "        **********************************************************************\n",
       "        Line 3, in q3.1 0\n",
       "        Failed example:\n",
       "            assert not X_test is None, 'Your answer does not exist. Have you passed in the correct variable?'\n",
       "        Exception raised:\n",
       "            Traceback (most recent call last):\n",
       "              File \"/home/dadmin/miniconda3/envs/cpsc330/lib/python3.13/doctest.py\", line 1395, in __run\n",
       "                exec(compile(example.source, filename, \"single\",\n",
       "                ~~~~^^^^^^^^^^^^^^^^^^^^^^^^^^^^^^^^^^^^^^^^^^^^\n",
       "                             compileflags, True), test.globs)\n",
       "                             ^^^^^^^^^^^^^^^^^^^^^^^^^^^^^^^^\n",
       "              File \"<doctest q3.1 0[2]>\", line 1, in <module>\n",
       "                assert not X_test is None, 'Your answer does not exist. Have you passed in the correct variable?'\n",
       "                           ^^^^^^^^^^^^^^\n",
       "            AssertionError: Your answer does not exist. Have you passed in the correct variable?\n",
       "        Trying:\n",
       "            assert not y_test is None, 'Your answer does not exist. Have you passed in the correct variable?'\n",
       "        Expecting nothing\n",
       "        **********************************************************************\n",
       "        Line 4, in q3.1 0\n",
       "        Failed example:\n",
       "            assert not y_test is None, 'Your answer does not exist. Have you passed in the correct variable?'\n",
       "        Exception raised:\n",
       "            Traceback (most recent call last):\n",
       "              File \"/home/dadmin/miniconda3/envs/cpsc330/lib/python3.13/doctest.py\", line 1395, in __run\n",
       "                exec(compile(example.source, filename, \"single\",\n",
       "                ~~~~^^^^^^^^^^^^^^^^^^^^^^^^^^^^^^^^^^^^^^^^^^^^\n",
       "                             compileflags, True), test.globs)\n",
       "                             ^^^^^^^^^^^^^^^^^^^^^^^^^^^^^^^^\n",
       "              File \"<doctest q3.1 0[3]>\", line 1, in <module>\n",
       "                assert not y_test is None, 'Your answer does not exist. Have you passed in the correct variable?'\n",
       "                           ^^^^^^^^^^^^^^\n",
       "            AssertionError: Your answer does not exist. Have you passed in the correct variable?\n",
       "        Trying:\n",
       "            assert X_train.shape == (13024, 14), 'The dimensions of X_train are incorrect'\n",
       "        Expecting nothing\n",
       "        **********************************************************************\n",
       "        Line 5, in q3.1 0\n",
       "        Failed example:\n",
       "            assert X_train.shape == (13024, 14), 'The dimensions of X_train are incorrect'\n",
       "        Exception raised:\n",
       "            Traceback (most recent call last):\n",
       "              File \"/home/dadmin/miniconda3/envs/cpsc330/lib/python3.13/doctest.py\", line 1395, in __run\n",
       "                exec(compile(example.source, filename, \"single\",\n",
       "                ~~~~^^^^^^^^^^^^^^^^^^^^^^^^^^^^^^^^^^^^^^^^^^^^\n",
       "                             compileflags, True), test.globs)\n",
       "                             ^^^^^^^^^^^^^^^^^^^^^^^^^^^^^^^^\n",
       "              File \"<doctest q3.1 0[4]>\", line 1, in <module>\n",
       "                assert X_train.shape == (13024, 14), 'The dimensions of X_train are incorrect'\n",
       "                       ^^^^^^^^^^^^^\n",
       "            AttributeError: 'NoneType' object has no attribute 'shape'\n",
       "        Trying:\n",
       "            assert y_train.shape == (13024,), 'The dimensions of y_train are incorrect. Are you splitting correctly'\n",
       "        Expecting nothing\n",
       "        **********************************************************************\n",
       "        Line 6, in q3.1 0\n",
       "        Failed example:\n",
       "            assert y_train.shape == (13024,), 'The dimensions of y_train are incorrect. Are you splitting correctly'\n",
       "        Exception raised:\n",
       "            Traceback (most recent call last):\n",
       "              File \"/home/dadmin/miniconda3/envs/cpsc330/lib/python3.13/doctest.py\", line 1395, in __run\n",
       "                exec(compile(example.source, filename, \"single\",\n",
       "                ~~~~^^^^^^^^^^^^^^^^^^^^^^^^^^^^^^^^^^^^^^^^^^^^\n",
       "                             compileflags, True), test.globs)\n",
       "                             ^^^^^^^^^^^^^^^^^^^^^^^^^^^^^^^^\n",
       "              File \"<doctest q3.1 0[5]>\", line 1, in <module>\n",
       "                assert y_train.shape == (13024,), 'The dimensions of y_train are incorrect. Are you splitting correctly'\n",
       "                       ^^^^^^^^^^^^^\n",
       "            AttributeError: 'NoneType' object has no attribute 'shape'\n",
       "        Trying:\n",
       "            assert X_test.shape == (19537, 14), 'The dimensions of X_test are incorrect. Are you splitting correctly? Are you using single brackets?'\n",
       "        Expecting nothing\n",
       "        **********************************************************************\n",
       "        Line 7, in q3.1 0\n",
       "        Failed example:\n",
       "            assert X_test.shape == (19537, 14), 'The dimensions of X_test are incorrect. Are you splitting correctly? Are you using single brackets?'\n",
       "        Exception raised:\n",
       "            Traceback (most recent call last):\n",
       "              File \"/home/dadmin/miniconda3/envs/cpsc330/lib/python3.13/doctest.py\", line 1395, in __run\n",
       "                exec(compile(example.source, filename, \"single\",\n",
       "                ~~~~^^^^^^^^^^^^^^^^^^^^^^^^^^^^^^^^^^^^^^^^^^^^\n",
       "                             compileflags, True), test.globs)\n",
       "                             ^^^^^^^^^^^^^^^^^^^^^^^^^^^^^^^^\n",
       "              File \"<doctest q3.1 0[6]>\", line 1, in <module>\n",
       "                assert X_test.shape == (19537, 14), 'The dimensions of X_test are incorrect. Are you splitting correctly? Are you using single brackets?'\n",
       "                       ^^^^^^^^^^^^\n",
       "            AttributeError: 'NoneType' object has no attribute 'shape'\n",
       "        Trying:\n",
       "            assert y_test.shape == (19537,), 'The dimensions of y_test are incorrect. Are you splitting correctly? Are you using single brackets?'\n",
       "        Expecting nothing\n",
       "        **********************************************************************\n",
       "        Line 8, in q3.1 0\n",
       "        Failed example:\n",
       "            assert y_test.shape == (19537,), 'The dimensions of y_test are incorrect. Are you splitting correctly? Are you using single brackets?'\n",
       "        Exception raised:\n",
       "            Traceback (most recent call last):\n",
       "              File \"/home/dadmin/miniconda3/envs/cpsc330/lib/python3.13/doctest.py\", line 1395, in __run\n",
       "                exec(compile(example.source, filename, \"single\",\n",
       "                ~~~~^^^^^^^^^^^^^^^^^^^^^^^^^^^^^^^^^^^^^^^^^^^^\n",
       "                             compileflags, True), test.globs)\n",
       "                             ^^^^^^^^^^^^^^^^^^^^^^^^^^^^^^^^\n",
       "              File \"<doctest q3.1 0[7]>\", line 1, in <module>\n",
       "                assert y_test.shape == (19537,), 'The dimensions of y_test are incorrect. Are you splitting correctly? Are you using single brackets?'\n",
       "                       ^^^^^^^^^^^^\n",
       "            AttributeError: 'NoneType' object has no attribute 'shape'\n",
       "        Trying:\n",
       "            assert 'income' not in list(X_train.columns), 'Make sure the target variable is not part of your X dataset.'\n",
       "        Expecting nothing\n",
       "        **********************************************************************\n",
       "        Line 9, in q3.1 0\n",
       "        Failed example:\n",
       "            assert 'income' not in list(X_train.columns), 'Make sure the target variable is not part of your X dataset.'\n",
       "        Exception raised:\n",
       "            Traceback (most recent call last):\n",
       "              File \"/home/dadmin/miniconda3/envs/cpsc330/lib/python3.13/doctest.py\", line 1395, in __run\n",
       "                exec(compile(example.source, filename, \"single\",\n",
       "                ~~~~^^^^^^^^^^^^^^^^^^^^^^^^^^^^^^^^^^^^^^^^^^^^\n",
       "                             compileflags, True), test.globs)\n",
       "                             ^^^^^^^^^^^^^^^^^^^^^^^^^^^^^^^^\n",
       "              File \"<doctest q3.1 0[8]>\", line 1, in <module>\n",
       "                assert 'income' not in list(X_train.columns), 'Make sure the target variable is not part of your X dataset.'\n",
       "                                            ^^^^^^^^^^^^^^^\n",
       "            AttributeError: 'NoneType' object has no attribute 'columns'"
      ]
     },
     "execution_count": 737,
     "metadata": {},
     "output_type": "execute_result"
    }
   ],
   "source": [
    "grader.check(\"q3.1\")"
   ]
  },
  {
   "cell_type": "markdown",
   "metadata": {},
   "source": [
    "<br><br>"
   ]
  },
  {
   "cell_type": "markdown",
   "metadata": {
    "deletable": false,
    "editable": false
   },
   "source": [
    "### 3.2 Dummy classifier\n",
    "rubric={autograde}\n",
    "\n",
    "**Your tasks:**\n",
    "\n",
    "1. Carry out 5-fold cross-validation using [`scikit-learn`'s `cross_validate`](https://scikit-learn.org/stable/modules/generated/sklearn.model_selection.cross_validate.html) function with `return_train_score=True` and store the results as a dataframe named `dummy_df` where each row corresponds to the results from a cross-validation fold. "
   ]
  },
  {
   "cell_type": "markdown",
   "metadata": {
    "deletable": false,
    "editable": false
   },
   "source": [
    "<div class=\"alert alert-warning\">\n",
    "    \n",
    "Solution_3.2\n",
    "    \n",
    "</div>\n",
    "\n",
    "_Points:_ 1"
   ]
  },
  {
   "cell_type": "code",
   "execution_count": 738,
   "metadata": {
    "tags": [
     "otter_answer_cell"
    ]
   },
   "outputs": [
    {
     "data": {
      "text/plain": [
       "Ellipsis"
      ]
     },
     "execution_count": 738,
     "metadata": {},
     "output_type": "execute_result"
    }
   ],
   "source": [
    "dummy_df = None \n",
    "\n",
    "..."
   ]
  },
  {
   "cell_type": "code",
   "execution_count": 739,
   "metadata": {
    "deletable": false,
    "editable": false
   },
   "outputs": [
    {
     "data": {
      "text/html": [
       "<p><strong style='color: red;'><pre style='display: inline;'>q3.2</pre> results:</strong></p><p><strong><pre style='display: inline;'>q3.2 - 1</pre> result:</strong></p><pre>    ❌ Test case failed\n",
       "    Trying:\n",
       "        assert not dummy_df is None, 'Have you used the correct variable to store the results?'\n",
       "    Expecting nothing\n",
       "    **********************************************************************\n",
       "    Line 1, in q3.2 0\n",
       "    Failed example:\n",
       "        assert not dummy_df is None, 'Have you used the correct variable to store the results?'\n",
       "    Exception raised:\n",
       "        Traceback (most recent call last):\n",
       "          File \"/home/dadmin/miniconda3/envs/cpsc330/lib/python3.13/doctest.py\", line 1395, in __run\n",
       "            exec(compile(example.source, filename, \"single\",\n",
       "            ~~~~^^^^^^^^^^^^^^^^^^^^^^^^^^^^^^^^^^^^^^^^^^^^\n",
       "                         compileflags, True), test.globs)\n",
       "                         ^^^^^^^^^^^^^^^^^^^^^^^^^^^^^^^^\n",
       "          File \"<doctest q3.2 0[0]>\", line 1, in <module>\n",
       "            assert not dummy_df is None, 'Have you used the correct variable to store the results?'\n",
       "                       ^^^^^^^^^^^^^^^^\n",
       "        AssertionError: Have you used the correct variable to store the results?\n",
       "    Trying:\n",
       "        assert sorted(list(dummy_df.columns)) == ['fit_time', 'score_time', 'test_score', 'train_score'], 'Your solution contains incorrect columns.'\n",
       "    Expecting nothing\n",
       "    **********************************************************************\n",
       "    Line 2, in q3.2 0\n",
       "    Failed example:\n",
       "        assert sorted(list(dummy_df.columns)) == ['fit_time', 'score_time', 'test_score', 'train_score'], 'Your solution contains incorrect columns.'\n",
       "    Exception raised:\n",
       "        Traceback (most recent call last):\n",
       "          File \"/home/dadmin/miniconda3/envs/cpsc330/lib/python3.13/doctest.py\", line 1395, in __run\n",
       "            exec(compile(example.source, filename, \"single\",\n",
       "            ~~~~^^^^^^^^^^^^^^^^^^^^^^^^^^^^^^^^^^^^^^^^^^^^\n",
       "                         compileflags, True), test.globs)\n",
       "                         ^^^^^^^^^^^^^^^^^^^^^^^^^^^^^^^^\n",
       "          File \"<doctest q3.2 0[1]>\", line 1, in <module>\n",
       "            assert sorted(list(dummy_df.columns)) == ['fit_time', 'score_time', 'test_score', 'train_score'], 'Your solution contains incorrect columns.'\n",
       "                               ^^^^^^^^^^^^^^^^\n",
       "        AttributeError: 'NoneType' object has no attribute 'columns'\n",
       "    Trying:\n",
       "        assert dummy_df.shape == (5, 4), 'Are you carrying out 5-fold cross-validation and are you passing return_train_score=True?'\n",
       "    Expecting nothing\n",
       "    **********************************************************************\n",
       "    Line 3, in q3.2 0\n",
       "    Failed example:\n",
       "        assert dummy_df.shape == (5, 4), 'Are you carrying out 5-fold cross-validation and are you passing return_train_score=True?'\n",
       "    Exception raised:\n",
       "        Traceback (most recent call last):\n",
       "          File \"/home/dadmin/miniconda3/envs/cpsc330/lib/python3.13/doctest.py\", line 1395, in __run\n",
       "            exec(compile(example.source, filename, \"single\",\n",
       "            ~~~~^^^^^^^^^^^^^^^^^^^^^^^^^^^^^^^^^^^^^^^^^^^^\n",
       "                         compileflags, True), test.globs)\n",
       "                         ^^^^^^^^^^^^^^^^^^^^^^^^^^^^^^^^\n",
       "          File \"<doctest q3.2 0[2]>\", line 1, in <module>\n",
       "            assert dummy_df.shape == (5, 4), 'Are you carrying out 5-fold cross-validation and are you passing return_train_score=True?'\n",
       "                   ^^^^^^^^^^^^^^\n",
       "        AttributeError: 'NoneType' object has no attribute 'shape'\n",
       "    Trying:\n",
       "        assert np.isclose(round(dummy_df['test_score'].mean(), 3), 0.758), 'The test scores seem wrong. Are you calling the cross_validate correctly?'\n",
       "    Expecting nothing\n",
       "    **********************************************************************\n",
       "    Line 4, in q3.2 0\n",
       "    Failed example:\n",
       "        assert np.isclose(round(dummy_df['test_score'].mean(), 3), 0.758), 'The test scores seem wrong. Are you calling the cross_validate correctly?'\n",
       "    Exception raised:\n",
       "        Traceback (most recent call last):\n",
       "          File \"/home/dadmin/miniconda3/envs/cpsc330/lib/python3.13/doctest.py\", line 1395, in __run\n",
       "            exec(compile(example.source, filename, \"single\",\n",
       "            ~~~~^^^^^^^^^^^^^^^^^^^^^^^^^^^^^^^^^^^^^^^^^^^^\n",
       "                         compileflags, True), test.globs)\n",
       "                         ^^^^^^^^^^^^^^^^^^^^^^^^^^^^^^^^\n",
       "          File \"<doctest q3.2 0[3]>\", line 1, in <module>\n",
       "            assert np.isclose(round(dummy_df['test_score'].mean(), 3), 0.758), 'The test scores seem wrong. Are you calling the cross_validate correctly?'\n",
       "                                    ~~~~~~~~^^^^^^^^^^^^^^\n",
       "        TypeError: 'NoneType' object is not subscriptable\n",
       "    Trying:\n",
       "        assert np.isclose(round(dummy_df['train_score'].mean(), 3), 0.758), 'The train scores seem wrong. Are you calling the cross_validate correctly?'\n",
       "    Expecting nothing\n",
       "    **********************************************************************\n",
       "    Line 5, in q3.2 0\n",
       "    Failed example:\n",
       "        assert np.isclose(round(dummy_df['train_score'].mean(), 3), 0.758), 'The train scores seem wrong. Are you calling the cross_validate correctly?'\n",
       "    Exception raised:\n",
       "        Traceback (most recent call last):\n",
       "          File \"/home/dadmin/miniconda3/envs/cpsc330/lib/python3.13/doctest.py\", line 1395, in __run\n",
       "            exec(compile(example.source, filename, \"single\",\n",
       "            ~~~~^^^^^^^^^^^^^^^^^^^^^^^^^^^^^^^^^^^^^^^^^^^^\n",
       "                         compileflags, True), test.globs)\n",
       "                         ^^^^^^^^^^^^^^^^^^^^^^^^^^^^^^^^\n",
       "          File \"<doctest q3.2 0[4]>\", line 1, in <module>\n",
       "            assert np.isclose(round(dummy_df['train_score'].mean(), 3), 0.758), 'The train scores seem wrong. Are you calling the cross_validate correctly?'\n",
       "                                    ~~~~~~~~^^^^^^^^^^^^^^^\n",
       "        TypeError: 'NoneType' object is not subscriptable\n",
       "</pre>"
      ],
      "text/plain": [
       "q3.2 results:\n",
       "    q3.2 - 1 result:\n",
       "        ❌ Test case failed\n",
       "        Trying:\n",
       "            assert not dummy_df is None, 'Have you used the correct variable to store the results?'\n",
       "        Expecting nothing\n",
       "        **********************************************************************\n",
       "        Line 1, in q3.2 0\n",
       "        Failed example:\n",
       "            assert not dummy_df is None, 'Have you used the correct variable to store the results?'\n",
       "        Exception raised:\n",
       "            Traceback (most recent call last):\n",
       "              File \"/home/dadmin/miniconda3/envs/cpsc330/lib/python3.13/doctest.py\", line 1395, in __run\n",
       "                exec(compile(example.source, filename, \"single\",\n",
       "                ~~~~^^^^^^^^^^^^^^^^^^^^^^^^^^^^^^^^^^^^^^^^^^^^\n",
       "                             compileflags, True), test.globs)\n",
       "                             ^^^^^^^^^^^^^^^^^^^^^^^^^^^^^^^^\n",
       "              File \"<doctest q3.2 0[0]>\", line 1, in <module>\n",
       "                assert not dummy_df is None, 'Have you used the correct variable to store the results?'\n",
       "                           ^^^^^^^^^^^^^^^^\n",
       "            AssertionError: Have you used the correct variable to store the results?\n",
       "        Trying:\n",
       "            assert sorted(list(dummy_df.columns)) == ['fit_time', 'score_time', 'test_score', 'train_score'], 'Your solution contains incorrect columns.'\n",
       "        Expecting nothing\n",
       "        **********************************************************************\n",
       "        Line 2, in q3.2 0\n",
       "        Failed example:\n",
       "            assert sorted(list(dummy_df.columns)) == ['fit_time', 'score_time', 'test_score', 'train_score'], 'Your solution contains incorrect columns.'\n",
       "        Exception raised:\n",
       "            Traceback (most recent call last):\n",
       "              File \"/home/dadmin/miniconda3/envs/cpsc330/lib/python3.13/doctest.py\", line 1395, in __run\n",
       "                exec(compile(example.source, filename, \"single\",\n",
       "                ~~~~^^^^^^^^^^^^^^^^^^^^^^^^^^^^^^^^^^^^^^^^^^^^\n",
       "                             compileflags, True), test.globs)\n",
       "                             ^^^^^^^^^^^^^^^^^^^^^^^^^^^^^^^^\n",
       "              File \"<doctest q3.2 0[1]>\", line 1, in <module>\n",
       "                assert sorted(list(dummy_df.columns)) == ['fit_time', 'score_time', 'test_score', 'train_score'], 'Your solution contains incorrect columns.'\n",
       "                                   ^^^^^^^^^^^^^^^^\n",
       "            AttributeError: 'NoneType' object has no attribute 'columns'\n",
       "        Trying:\n",
       "            assert dummy_df.shape == (5, 4), 'Are you carrying out 5-fold cross-validation and are you passing return_train_score=True?'\n",
       "        Expecting nothing\n",
       "        **********************************************************************\n",
       "        Line 3, in q3.2 0\n",
       "        Failed example:\n",
       "            assert dummy_df.shape == (5, 4), 'Are you carrying out 5-fold cross-validation and are you passing return_train_score=True?'\n",
       "        Exception raised:\n",
       "            Traceback (most recent call last):\n",
       "              File \"/home/dadmin/miniconda3/envs/cpsc330/lib/python3.13/doctest.py\", line 1395, in __run\n",
       "                exec(compile(example.source, filename, \"single\",\n",
       "                ~~~~^^^^^^^^^^^^^^^^^^^^^^^^^^^^^^^^^^^^^^^^^^^^\n",
       "                             compileflags, True), test.globs)\n",
       "                             ^^^^^^^^^^^^^^^^^^^^^^^^^^^^^^^^\n",
       "              File \"<doctest q3.2 0[2]>\", line 1, in <module>\n",
       "                assert dummy_df.shape == (5, 4), 'Are you carrying out 5-fold cross-validation and are you passing return_train_score=True?'\n",
       "                       ^^^^^^^^^^^^^^\n",
       "            AttributeError: 'NoneType' object has no attribute 'shape'\n",
       "        Trying:\n",
       "            assert np.isclose(round(dummy_df['test_score'].mean(), 3), 0.758), 'The test scores seem wrong. Are you calling the cross_validate correctly?'\n",
       "        Expecting nothing\n",
       "        **********************************************************************\n",
       "        Line 4, in q3.2 0\n",
       "        Failed example:\n",
       "            assert np.isclose(round(dummy_df['test_score'].mean(), 3), 0.758), 'The test scores seem wrong. Are you calling the cross_validate correctly?'\n",
       "        Exception raised:\n",
       "            Traceback (most recent call last):\n",
       "              File \"/home/dadmin/miniconda3/envs/cpsc330/lib/python3.13/doctest.py\", line 1395, in __run\n",
       "                exec(compile(example.source, filename, \"single\",\n",
       "                ~~~~^^^^^^^^^^^^^^^^^^^^^^^^^^^^^^^^^^^^^^^^^^^^\n",
       "                             compileflags, True), test.globs)\n",
       "                             ^^^^^^^^^^^^^^^^^^^^^^^^^^^^^^^^\n",
       "              File \"<doctest q3.2 0[3]>\", line 1, in <module>\n",
       "                assert np.isclose(round(dummy_df['test_score'].mean(), 3), 0.758), 'The test scores seem wrong. Are you calling the cross_validate correctly?'\n",
       "                                        ~~~~~~~~^^^^^^^^^^^^^^\n",
       "            TypeError: 'NoneType' object is not subscriptable\n",
       "        Trying:\n",
       "            assert np.isclose(round(dummy_df['train_score'].mean(), 3), 0.758), 'The train scores seem wrong. Are you calling the cross_validate correctly?'\n",
       "        Expecting nothing\n",
       "        **********************************************************************\n",
       "        Line 5, in q3.2 0\n",
       "        Failed example:\n",
       "            assert np.isclose(round(dummy_df['train_score'].mean(), 3), 0.758), 'The train scores seem wrong. Are you calling the cross_validate correctly?'\n",
       "        Exception raised:\n",
       "            Traceback (most recent call last):\n",
       "              File \"/home/dadmin/miniconda3/envs/cpsc330/lib/python3.13/doctest.py\", line 1395, in __run\n",
       "                exec(compile(example.source, filename, \"single\",\n",
       "                ~~~~^^^^^^^^^^^^^^^^^^^^^^^^^^^^^^^^^^^^^^^^^^^^\n",
       "                             compileflags, True), test.globs)\n",
       "                             ^^^^^^^^^^^^^^^^^^^^^^^^^^^^^^^^\n",
       "              File \"<doctest q3.2 0[4]>\", line 1, in <module>\n",
       "                assert np.isclose(round(dummy_df['train_score'].mean(), 3), 0.758), 'The train scores seem wrong. Are you calling the cross_validate correctly?'\n",
       "                                        ~~~~~~~~^^^^^^^^^^^^^^^\n",
       "            TypeError: 'NoneType' object is not subscriptable"
      ]
     },
     "execution_count": 739,
     "metadata": {},
     "output_type": "execute_result"
    }
   ],
   "source": [
    "grader.check(\"q3.2\")"
   ]
  },
  {
   "cell_type": "markdown",
   "metadata": {},
   "source": [
    "<br><br>"
   ]
  },
  {
   "cell_type": "markdown",
   "metadata": {
    "deletable": false,
    "editable": false
   },
   "source": [
    "<!-- BEGIN QUESTION -->\n",
    "\n",
    "### 3.3 Discussion\n",
    "rubric={reasoning}\n",
    "\n",
    "**Your tasks:**\n",
    "1. Hopefully, you successfully run cross-validation with the dummy classifier in the previous question. Now, if you were to train the [`sklearn`'s `SVC`](https://scikit-learn.org/stable/modules/generated/sklearn.svm.SVC.html) model on `X_train` and `y_train`, would it work? Briefly explain your reasoning."
   ]
  },
  {
   "cell_type": "markdown",
   "metadata": {
    "deletable": false,
    "editable": false
   },
   "source": [
    "<div class=\"alert alert-warning\">\n",
    "    \n",
    "Solution_3.3\n",
    "    \n",
    "</div>\n",
    "\n",
    "_Points:_ 2"
   ]
  },
  {
   "cell_type": "markdown",
   "metadata": {
    "tags": [
     "otter_answer_cell"
    ]
   },
   "source": [
    "_Type your answer here, replacing this text._"
   ]
  },
  {
   "cell_type": "markdown",
   "metadata": {
    "deletable": false,
    "editable": false
   },
   "source": [
    "<!-- END QUESTION -->\n",
    "\n",
    "<br><br><br><br>"
   ]
  },
  {
   "cell_type": "markdown",
   "metadata": {},
   "source": [
    "## Exercise 4: Column transformer \n",
    "<hr>\n",
    "\n",
    "In this dataset, we have different types of features: numeric features, an ordinal feature, categorical features, and a binary feature. We want to apply different transformations on different columns and therefore we need a column transformer. First, we'll define different transformations on different types of features and then will create a `scikit-learn`'s `ColumnTransformer` using `make_column_transformer`. For example, the code below creates a `numeric_transformer` for numeric features. "
   ]
  },
  {
   "cell_type": "code",
   "execution_count": 740,
   "metadata": {},
   "outputs": [],
   "source": [
    "from sklearn.preprocessing import StandardScaler\n",
    "\n",
    "numeric_transformer = StandardScaler()"
   ]
  },
  {
   "cell_type": "markdown",
   "metadata": {},
   "source": [
    "In the exercises below, you'll create transformers for other types of features. "
   ]
  },
  {
   "cell_type": "markdown",
   "metadata": {},
   "source": [
    "<br><br>"
   ]
  },
  {
   "cell_type": "markdown",
   "metadata": {
    "deletable": false,
    "editable": false
   },
   "source": [
    "### 4.1 Preprocessing ordinal features\n",
    "rubric={autograde}\n",
    "\n",
    "**Your tasks:**\n",
    "\n",
    "1. Create a transformer called `ordinal_transformer` for our ordinal features. \n",
    "\n",
    "> Ordering of some of the education levels is not obvious. Assume that \"HS-grad\" < \"Prof-school\" < \"Assoc-voc\" < \"Assoc-acdm\" < \"Some-college\" < \"Bachelors\""
   ]
  },
  {
   "cell_type": "markdown",
   "metadata": {
    "deletable": false,
    "editable": false
   },
   "source": [
    "<div class=\"alert alert-warning\">\n",
    "    \n",
    "Solution_4.1\n",
    "    \n",
    "</div>\n",
    "\n",
    "_Points:_ 5"
   ]
  },
  {
   "cell_type": "code",
   "execution_count": 741,
   "metadata": {
    "tags": [
     "otter_answer_cell"
    ]
   },
   "outputs": [
    {
     "data": {
      "text/plain": [
       "Ellipsis"
      ]
     },
     "execution_count": 741,
     "metadata": {},
     "output_type": "execute_result"
    }
   ],
   "source": [
    "ordinal_transformer = None\n",
    "\n",
    "..."
   ]
  },
  {
   "cell_type": "code",
   "execution_count": 742,
   "metadata": {
    "tags": [
     "otter_answer_cell"
    ]
   },
   "outputs": [
    {
     "data": {
      "text/plain": [
       "Ellipsis"
      ]
     },
     "execution_count": 742,
     "metadata": {},
     "output_type": "execute_result"
    }
   ],
   "source": [
    "..."
   ]
  },
  {
   "cell_type": "code",
   "execution_count": 743,
   "metadata": {
    "tags": [
     "otter_answer_cell"
    ]
   },
   "outputs": [
    {
     "data": {
      "text/plain": [
       "Ellipsis"
      ]
     },
     "execution_count": 743,
     "metadata": {},
     "output_type": "execute_result"
    }
   ],
   "source": [
    "..."
   ]
  },
  {
   "cell_type": "code",
   "execution_count": 744,
   "metadata": {
    "deletable": false,
    "editable": false
   },
   "outputs": [
    {
     "data": {
      "text/html": [
       "<p><strong style='color: red;'><pre style='display: inline;'>q4.1</pre> results:</strong></p><p><strong><pre style='display: inline;'>q4.1 - 1</pre> result:</strong></p><pre>    ❌ Test case failed\n",
       "    Trying:\n",
       "        assert not ordinal_transformer is None, 'Are you using the correct variable name?'\n",
       "    Expecting nothing\n",
       "    **********************************************************************\n",
       "    Line 1, in q4.1 0\n",
       "    Failed example:\n",
       "        assert not ordinal_transformer is None, 'Are you using the correct variable name?'\n",
       "    Exception raised:\n",
       "        Traceback (most recent call last):\n",
       "          File \"/home/dadmin/miniconda3/envs/cpsc330/lib/python3.13/doctest.py\", line 1395, in __run\n",
       "            exec(compile(example.source, filename, \"single\",\n",
       "            ~~~~^^^^^^^^^^^^^^^^^^^^^^^^^^^^^^^^^^^^^^^^^^^^\n",
       "                         compileflags, True), test.globs)\n",
       "                         ^^^^^^^^^^^^^^^^^^^^^^^^^^^^^^^^\n",
       "          File \"<doctest q4.1 0[0]>\", line 1, in <module>\n",
       "            assert not ordinal_transformer is None, 'Are you using the correct variable name?'\n",
       "                       ^^^^^^^^^^^^^^^^^^^^^^^^^^^\n",
       "        AssertionError: Are you using the correct variable name?\n",
       "    Trying:\n",
       "        assert type(ordinal_transformer.get_params()['categories'][0]) is list, 'Are you passing education levels as a list of lists?'\n",
       "    Expecting nothing\n",
       "    **********************************************************************\n",
       "    Line 2, in q4.1 0\n",
       "    Failed example:\n",
       "        assert type(ordinal_transformer.get_params()['categories'][0]) is list, 'Are you passing education levels as a list of lists?'\n",
       "    Exception raised:\n",
       "        Traceback (most recent call last):\n",
       "          File \"/home/dadmin/miniconda3/envs/cpsc330/lib/python3.13/doctest.py\", line 1395, in __run\n",
       "            exec(compile(example.source, filename, \"single\",\n",
       "            ~~~~^^^^^^^^^^^^^^^^^^^^^^^^^^^^^^^^^^^^^^^^^^^^\n",
       "                         compileflags, True), test.globs)\n",
       "                         ^^^^^^^^^^^^^^^^^^^^^^^^^^^^^^^^\n",
       "          File \"<doctest q4.1 0[1]>\", line 1, in <module>\n",
       "            assert type(ordinal_transformer.get_params()['categories'][0]) is list, 'Are you passing education levels as a list of lists?'\n",
       "                        ^^^^^^^^^^^^^^^^^^^^^^^^^^^^^^\n",
       "        AttributeError: 'NoneType' object has no attribute 'get_params'\n",
       "    Trying:\n",
       "        assert ordinal_transformer.get_params()['dtype'] == int, 'Please set the dtype to int'\n",
       "    Expecting nothing\n",
       "    **********************************************************************\n",
       "    Line 3, in q4.1 0\n",
       "    Failed example:\n",
       "        assert ordinal_transformer.get_params()['dtype'] == int, 'Please set the dtype to int'\n",
       "    Exception raised:\n",
       "        Traceback (most recent call last):\n",
       "          File \"/home/dadmin/miniconda3/envs/cpsc330/lib/python3.13/doctest.py\", line 1395, in __run\n",
       "            exec(compile(example.source, filename, \"single\",\n",
       "            ~~~~^^^^^^^^^^^^^^^^^^^^^^^^^^^^^^^^^^^^^^^^^^^^\n",
       "                         compileflags, True), test.globs)\n",
       "                         ^^^^^^^^^^^^^^^^^^^^^^^^^^^^^^^^\n",
       "          File \"<doctest q4.1 0[2]>\", line 1, in <module>\n",
       "            assert ordinal_transformer.get_params()['dtype'] == int, 'Please set the dtype to int'\n",
       "                   ^^^^^^^^^^^^^^^^^^^^^^^^^^^^^^\n",
       "        AttributeError: 'NoneType' object has no attribute 'get_params'\n",
       "    Trying:\n",
       "        assert sha1(str(ordinal_transformer.get_params()['categories'][0]).encode('utf8')).hexdigest() == '893a03d114b2af09b53247866c6eea54ebfd090f' or sha1(str(ordinal_transformer.get_params()['categories'][0]).encode('utf8')).hexdigest() == '81059b8bebc9ddb03d61bf07cfd9b9b6b0da288e', \"Make sure you are passing categories sorted on levels of education. (Ascending or descending shouldn't matter.)\"\n",
       "    Expecting nothing\n",
       "    **********************************************************************\n",
       "    Line 4, in q4.1 0\n",
       "    Failed example:\n",
       "        assert sha1(str(ordinal_transformer.get_params()['categories'][0]).encode('utf8')).hexdigest() == '893a03d114b2af09b53247866c6eea54ebfd090f' or sha1(str(ordinal_transformer.get_params()['categories'][0]).encode('utf8')).hexdigest() == '81059b8bebc9ddb03d61bf07cfd9b9b6b0da288e', \"Make sure you are passing categories sorted on levels of education. (Ascending or descending shouldn't matter.)\"\n",
       "    Exception raised:\n",
       "        Traceback (most recent call last):\n",
       "          File \"/home/dadmin/miniconda3/envs/cpsc330/lib/python3.13/doctest.py\", line 1395, in __run\n",
       "            exec(compile(example.source, filename, \"single\",\n",
       "            ~~~~^^^^^^^^^^^^^^^^^^^^^^^^^^^^^^^^^^^^^^^^^^^^\n",
       "                         compileflags, True), test.globs)\n",
       "                         ^^^^^^^^^^^^^^^^^^^^^^^^^^^^^^^^\n",
       "          File \"<doctest q4.1 0[3]>\", line 1, in <module>\n",
       "            assert sha1(str(ordinal_transformer.get_params()['categories'][0]).encode('utf8')).hexdigest() == '893a03d114b2af09b53247866c6eea54ebfd090f' or sha1(str(ordinal_transformer.get_params()['categories'][0]).encode('utf8')).hexdigest() == '81059b8bebc9ddb03d61bf07cfd9b9b6b0da288e', \"Make sure you are passing categories sorted on levels of education. (Ascending or descending shouldn't matter.)\"\n",
       "                            ^^^^^^^^^^^^^^^^^^^^^^^^^^^^^^\n",
       "        AttributeError: 'NoneType' object has no attribute 'get_params'\n",
       "</pre>"
      ],
      "text/plain": [
       "q4.1 results:\n",
       "    q4.1 - 1 result:\n",
       "        ❌ Test case failed\n",
       "        Trying:\n",
       "            assert not ordinal_transformer is None, 'Are you using the correct variable name?'\n",
       "        Expecting nothing\n",
       "        **********************************************************************\n",
       "        Line 1, in q4.1 0\n",
       "        Failed example:\n",
       "            assert not ordinal_transformer is None, 'Are you using the correct variable name?'\n",
       "        Exception raised:\n",
       "            Traceback (most recent call last):\n",
       "              File \"/home/dadmin/miniconda3/envs/cpsc330/lib/python3.13/doctest.py\", line 1395, in __run\n",
       "                exec(compile(example.source, filename, \"single\",\n",
       "                ~~~~^^^^^^^^^^^^^^^^^^^^^^^^^^^^^^^^^^^^^^^^^^^^\n",
       "                             compileflags, True), test.globs)\n",
       "                             ^^^^^^^^^^^^^^^^^^^^^^^^^^^^^^^^\n",
       "              File \"<doctest q4.1 0[0]>\", line 1, in <module>\n",
       "                assert not ordinal_transformer is None, 'Are you using the correct variable name?'\n",
       "                           ^^^^^^^^^^^^^^^^^^^^^^^^^^^\n",
       "            AssertionError: Are you using the correct variable name?\n",
       "        Trying:\n",
       "            assert type(ordinal_transformer.get_params()['categories'][0]) is list, 'Are you passing education levels as a list of lists?'\n",
       "        Expecting nothing\n",
       "        **********************************************************************\n",
       "        Line 2, in q4.1 0\n",
       "        Failed example:\n",
       "            assert type(ordinal_transformer.get_params()['categories'][0]) is list, 'Are you passing education levels as a list of lists?'\n",
       "        Exception raised:\n",
       "            Traceback (most recent call last):\n",
       "              File \"/home/dadmin/miniconda3/envs/cpsc330/lib/python3.13/doctest.py\", line 1395, in __run\n",
       "                exec(compile(example.source, filename, \"single\",\n",
       "                ~~~~^^^^^^^^^^^^^^^^^^^^^^^^^^^^^^^^^^^^^^^^^^^^\n",
       "                             compileflags, True), test.globs)\n",
       "                             ^^^^^^^^^^^^^^^^^^^^^^^^^^^^^^^^\n",
       "              File \"<doctest q4.1 0[1]>\", line 1, in <module>\n",
       "                assert type(ordinal_transformer.get_params()['categories'][0]) is list, 'Are you passing education levels as a list of lists?'\n",
       "                            ^^^^^^^^^^^^^^^^^^^^^^^^^^^^^^\n",
       "            AttributeError: 'NoneType' object has no attribute 'get_params'\n",
       "        Trying:\n",
       "            assert ordinal_transformer.get_params()['dtype'] == int, 'Please set the dtype to int'\n",
       "        Expecting nothing\n",
       "        **********************************************************************\n",
       "        Line 3, in q4.1 0\n",
       "        Failed example:\n",
       "            assert ordinal_transformer.get_params()['dtype'] == int, 'Please set the dtype to int'\n",
       "        Exception raised:\n",
       "            Traceback (most recent call last):\n",
       "              File \"/home/dadmin/miniconda3/envs/cpsc330/lib/python3.13/doctest.py\", line 1395, in __run\n",
       "                exec(compile(example.source, filename, \"single\",\n",
       "                ~~~~^^^^^^^^^^^^^^^^^^^^^^^^^^^^^^^^^^^^^^^^^^^^\n",
       "                             compileflags, True), test.globs)\n",
       "                             ^^^^^^^^^^^^^^^^^^^^^^^^^^^^^^^^\n",
       "              File \"<doctest q4.1 0[2]>\", line 1, in <module>\n",
       "                assert ordinal_transformer.get_params()['dtype'] == int, 'Please set the dtype to int'\n",
       "                       ^^^^^^^^^^^^^^^^^^^^^^^^^^^^^^\n",
       "            AttributeError: 'NoneType' object has no attribute 'get_params'\n",
       "        Trying:\n",
       "            assert sha1(str(ordinal_transformer.get_params()['categories'][0]).encode('utf8')).hexdigest() == '893a03d114b2af09b53247866c6eea54ebfd090f' or sha1(str(ordinal_transformer.get_params()['categories'][0]).encode('utf8')).hexdigest() == '81059b8bebc9ddb03d61bf07cfd9b9b6b0da288e', \"Make sure you are passing categories sorted on levels of education. (Ascending or descending shouldn't matter.)\"\n",
       "        Expecting nothing\n",
       "        **********************************************************************\n",
       "        Line 4, in q4.1 0\n",
       "        Failed example:\n",
       "            assert sha1(str(ordinal_transformer.get_params()['categories'][0]).encode('utf8')).hexdigest() == '893a03d114b2af09b53247866c6eea54ebfd090f' or sha1(str(ordinal_transformer.get_params()['categories'][0]).encode('utf8')).hexdigest() == '81059b8bebc9ddb03d61bf07cfd9b9b6b0da288e', \"Make sure you are passing categories sorted on levels of education. (Ascending or descending shouldn't matter.)\"\n",
       "        Exception raised:\n",
       "            Traceback (most recent call last):\n",
       "              File \"/home/dadmin/miniconda3/envs/cpsc330/lib/python3.13/doctest.py\", line 1395, in __run\n",
       "                exec(compile(example.source, filename, \"single\",\n",
       "                ~~~~^^^^^^^^^^^^^^^^^^^^^^^^^^^^^^^^^^^^^^^^^^^^\n",
       "                             compileflags, True), test.globs)\n",
       "                             ^^^^^^^^^^^^^^^^^^^^^^^^^^^^^^^^\n",
       "              File \"<doctest q4.1 0[3]>\", line 1, in <module>\n",
       "                assert sha1(str(ordinal_transformer.get_params()['categories'][0]).encode('utf8')).hexdigest() == '893a03d114b2af09b53247866c6eea54ebfd090f' or sha1(str(ordinal_transformer.get_params()['categories'][0]).encode('utf8')).hexdigest() == '81059b8bebc9ddb03d61bf07cfd9b9b6b0da288e', \"Make sure you are passing categories sorted on levels of education. (Ascending or descending shouldn't matter.)\"\n",
       "                                ^^^^^^^^^^^^^^^^^^^^^^^^^^^^^^\n",
       "            AttributeError: 'NoneType' object has no attribute 'get_params'"
      ]
     },
     "execution_count": 744,
     "metadata": {},
     "output_type": "execute_result"
    }
   ],
   "source": [
    "grader.check(\"q4.1\")"
   ]
  },
  {
   "cell_type": "markdown",
   "metadata": {},
   "source": [
    "<br><br>"
   ]
  },
  {
   "cell_type": "markdown",
   "metadata": {
    "deletable": false,
    "editable": false
   },
   "source": [
    "### 4.2 Preprocessing binary features\n",
    "rubric={autograde}\n",
    "\n",
    "**Your tasks:**\n",
    "\n",
    "1. Create a transformer called `binary_transformer` for our binary features to encode binary features as integers 0 and 1.\n",
    "\n",
    "> _Note that many popular datasets have sex as a feature where the possible values are male and female. This representation reflects how the data were collected and is not meant to imply that, for example, gender is binary._"
   ]
  },
  {
   "cell_type": "markdown",
   "metadata": {
    "deletable": false,
    "editable": false
   },
   "source": [
    "<div class=\"alert alert-warning\">\n",
    "    \n",
    "Solution_4.2\n",
    "    \n",
    "</div>\n",
    "\n",
    "_Points:_ 2"
   ]
  },
  {
   "cell_type": "code",
   "execution_count": 745,
   "metadata": {
    "tags": [
     "otter_answer_cell"
    ]
   },
   "outputs": [],
   "source": [
    "binary_transformer = None\n",
    "..."
   ]
  },
  {
   "cell_type": "code",
   "execution_count": 746,
   "metadata": {
    "deletable": false,
    "editable": false
   },
   "outputs": [
    {
     "data": {
      "text/html": [
       "<p><strong style='color: red;'><pre style='display: inline;'>q4.2</pre> results:</strong></p><p><strong><pre style='display: inline;'>q4.2 - 1</pre> result:</strong></p><pre>    ❌ Test case failed\n",
       "    Trying:\n",
       "        assert not binary_transformer is None, 'Are you using the correct variable name?'\n",
       "    Expecting nothing\n",
       "    **********************************************************************\n",
       "    Line 1, in q4.2 0\n",
       "    Failed example:\n",
       "        assert not binary_transformer is None, 'Are you using the correct variable name?'\n",
       "    Exception raised:\n",
       "        Traceback (most recent call last):\n",
       "          File \"/home/dadmin/miniconda3/envs/cpsc330/lib/python3.13/doctest.py\", line 1395, in __run\n",
       "            exec(compile(example.source, filename, \"single\",\n",
       "            ~~~~^^^^^^^^^^^^^^^^^^^^^^^^^^^^^^^^^^^^^^^^^^^^\n",
       "                         compileflags, True), test.globs)\n",
       "                         ^^^^^^^^^^^^^^^^^^^^^^^^^^^^^^^^\n",
       "          File \"<doctest q4.2 0[0]>\", line 1, in <module>\n",
       "            assert not binary_transformer is None, 'Are you using the correct variable name?'\n",
       "                       ^^^^^^^^^^^^^^^^^^^^^^^^^^\n",
       "        AssertionError: Are you using the correct variable name?\n",
       "    Trying:\n",
       "        assert binary_transformer.get_params()['drop'] == 'if_binary', 'Are you passing `drop=if_binary`?'\n",
       "    Expecting nothing\n",
       "    **********************************************************************\n",
       "    Line 2, in q4.2 0\n",
       "    Failed example:\n",
       "        assert binary_transformer.get_params()['drop'] == 'if_binary', 'Are you passing `drop=if_binary`?'\n",
       "    Exception raised:\n",
       "        Traceback (most recent call last):\n",
       "          File \"/home/dadmin/miniconda3/envs/cpsc330/lib/python3.13/doctest.py\", line 1395, in __run\n",
       "            exec(compile(example.source, filename, \"single\",\n",
       "            ~~~~^^^^^^^^^^^^^^^^^^^^^^^^^^^^^^^^^^^^^^^^^^^^\n",
       "                         compileflags, True), test.globs)\n",
       "                         ^^^^^^^^^^^^^^^^^^^^^^^^^^^^^^^^\n",
       "          File \"<doctest q4.2 0[1]>\", line 1, in <module>\n",
       "            assert binary_transformer.get_params()['drop'] == 'if_binary', 'Are you passing `drop=if_binary`?'\n",
       "                   ^^^^^^^^^^^^^^^^^^^^^^^^^^^^^\n",
       "        AttributeError: 'NoneType' object has no attribute 'get_params'\n",
       "    Trying:\n",
       "        assert binary_transformer.get_params()['dtype'] == int, 'Please set the dtype to int'\n",
       "    Expecting nothing\n",
       "    **********************************************************************\n",
       "    Line 3, in q4.2 0\n",
       "    Failed example:\n",
       "        assert binary_transformer.get_params()['dtype'] == int, 'Please set the dtype to int'\n",
       "    Exception raised:\n",
       "        Traceback (most recent call last):\n",
       "          File \"/home/dadmin/miniconda3/envs/cpsc330/lib/python3.13/doctest.py\", line 1395, in __run\n",
       "            exec(compile(example.source, filename, \"single\",\n",
       "            ~~~~^^^^^^^^^^^^^^^^^^^^^^^^^^^^^^^^^^^^^^^^^^^^\n",
       "                         compileflags, True), test.globs)\n",
       "                         ^^^^^^^^^^^^^^^^^^^^^^^^^^^^^^^^\n",
       "          File \"<doctest q4.2 0[2]>\", line 1, in <module>\n",
       "            assert binary_transformer.get_params()['dtype'] == int, 'Please set the dtype to int'\n",
       "                   ^^^^^^^^^^^^^^^^^^^^^^^^^^^^^\n",
       "        AttributeError: 'NoneType' object has no attribute 'get_params'\n",
       "</pre>"
      ],
      "text/plain": [
       "q4.2 results:\n",
       "    q4.2 - 1 result:\n",
       "        ❌ Test case failed\n",
       "        Trying:\n",
       "            assert not binary_transformer is None, 'Are you using the correct variable name?'\n",
       "        Expecting nothing\n",
       "        **********************************************************************\n",
       "        Line 1, in q4.2 0\n",
       "        Failed example:\n",
       "            assert not binary_transformer is None, 'Are you using the correct variable name?'\n",
       "        Exception raised:\n",
       "            Traceback (most recent call last):\n",
       "              File \"/home/dadmin/miniconda3/envs/cpsc330/lib/python3.13/doctest.py\", line 1395, in __run\n",
       "                exec(compile(example.source, filename, \"single\",\n",
       "                ~~~~^^^^^^^^^^^^^^^^^^^^^^^^^^^^^^^^^^^^^^^^^^^^\n",
       "                             compileflags, True), test.globs)\n",
       "                             ^^^^^^^^^^^^^^^^^^^^^^^^^^^^^^^^\n",
       "              File \"<doctest q4.2 0[0]>\", line 1, in <module>\n",
       "                assert not binary_transformer is None, 'Are you using the correct variable name?'\n",
       "                           ^^^^^^^^^^^^^^^^^^^^^^^^^^\n",
       "            AssertionError: Are you using the correct variable name?\n",
       "        Trying:\n",
       "            assert binary_transformer.get_params()['drop'] == 'if_binary', 'Are you passing `drop=if_binary`?'\n",
       "        Expecting nothing\n",
       "        **********************************************************************\n",
       "        Line 2, in q4.2 0\n",
       "        Failed example:\n",
       "            assert binary_transformer.get_params()['drop'] == 'if_binary', 'Are you passing `drop=if_binary`?'\n",
       "        Exception raised:\n",
       "            Traceback (most recent call last):\n",
       "              File \"/home/dadmin/miniconda3/envs/cpsc330/lib/python3.13/doctest.py\", line 1395, in __run\n",
       "                exec(compile(example.source, filename, \"single\",\n",
       "                ~~~~^^^^^^^^^^^^^^^^^^^^^^^^^^^^^^^^^^^^^^^^^^^^\n",
       "                             compileflags, True), test.globs)\n",
       "                             ^^^^^^^^^^^^^^^^^^^^^^^^^^^^^^^^\n",
       "              File \"<doctest q4.2 0[1]>\", line 1, in <module>\n",
       "                assert binary_transformer.get_params()['drop'] == 'if_binary', 'Are you passing `drop=if_binary`?'\n",
       "                       ^^^^^^^^^^^^^^^^^^^^^^^^^^^^^\n",
       "            AttributeError: 'NoneType' object has no attribute 'get_params'\n",
       "        Trying:\n",
       "            assert binary_transformer.get_params()['dtype'] == int, 'Please set the dtype to int'\n",
       "        Expecting nothing\n",
       "        **********************************************************************\n",
       "        Line 3, in q4.2 0\n",
       "        Failed example:\n",
       "            assert binary_transformer.get_params()['dtype'] == int, 'Please set the dtype to int'\n",
       "        Exception raised:\n",
       "            Traceback (most recent call last):\n",
       "              File \"/home/dadmin/miniconda3/envs/cpsc330/lib/python3.13/doctest.py\", line 1395, in __run\n",
       "                exec(compile(example.source, filename, \"single\",\n",
       "                ~~~~^^^^^^^^^^^^^^^^^^^^^^^^^^^^^^^^^^^^^^^^^^^^\n",
       "                             compileflags, True), test.globs)\n",
       "                             ^^^^^^^^^^^^^^^^^^^^^^^^^^^^^^^^\n",
       "              File \"<doctest q4.2 0[2]>\", line 1, in <module>\n",
       "                assert binary_transformer.get_params()['dtype'] == int, 'Please set the dtype to int'\n",
       "                       ^^^^^^^^^^^^^^^^^^^^^^^^^^^^^\n",
       "            AttributeError: 'NoneType' object has no attribute 'get_params'"
      ]
     },
     "execution_count": 746,
     "metadata": {},
     "output_type": "execute_result"
    }
   ],
   "source": [
    "grader.check(\"q4.2\")"
   ]
  },
  {
   "cell_type": "markdown",
   "metadata": {},
   "source": [
    "<br><br>"
   ]
  },
  {
   "cell_type": "markdown",
   "metadata": {
    "deletable": false,
    "editable": false
   },
   "source": [
    "### 4.3 Preprocessing categorical features\n",
    "rubric={autograde}\n",
    "\n",
    "There are a few categorical features with missing values in our dataset. Our initial step is to impute these missing values before proceeding to one-hot encode the features. For this assignment, apply imputation to all categorical features, regardless of whether they have missing values. If a feature lacks missing values, the imputation step will have no effect.\n",
    "\n",
    "If we want to apply more than one transformation on a set of features, we need to create a [`scikit-learn` `Pipeline`](https://scikit-learn.org/stable/modules/generated/sklearn.pipeline.Pipeline.html). For example, for categorical features we can create a `scikit-learn` `Pipeline` with first step as imputation and the second step as one-hot encoding. \n",
    "\n",
    "**Your tasks:**\n",
    "\n",
    "1. Create a `sklearn` `Pipeline` using [`make_pipeline`](https://scikit-learn.org/stable/modules/generated/sklearn.pipeline.make_pipeline.html) called `categorical_transformer` for our categorical features with two steps:\n",
    "- `SimpleImputer` for imputation with `strategy=\"constant\"` and `fill_value=\"missing\"`\n",
    "- `OneHotEncoder` with `handle_unknown=\"ignore\"` and `sparse_output=False` for one-hot encoding. "
   ]
  },
  {
   "cell_type": "markdown",
   "metadata": {
    "deletable": false,
    "editable": false
   },
   "source": [
    "<div class=\"alert alert-warning\">\n",
    "    \n",
    "Solution_4.3\n",
    "    \n",
    "</div>\n",
    "\n",
    "_Points:_ 4"
   ]
  },
  {
   "cell_type": "code",
   "execution_count": 747,
   "metadata": {
    "tags": [
     "otter_answer_cell"
    ]
   },
   "outputs": [
    {
     "data": {
      "text/plain": [
       "Ellipsis"
      ]
     },
     "execution_count": 747,
     "metadata": {},
     "output_type": "execute_result"
    }
   ],
   "source": [
    "categorical_transformer = None\n",
    "\n",
    "..."
   ]
  },
  {
   "cell_type": "code",
   "execution_count": 748,
   "metadata": {
    "deletable": false,
    "editable": false
   },
   "outputs": [
    {
     "data": {
      "text/html": [
       "<p><strong style='color: red;'><pre style='display: inline;'>q4.3</pre> results:</strong></p><p><strong><pre style='display: inline;'>q4.3 - 1</pre> result:</strong></p><pre>    ❌ Test case failed\n",
       "    Trying:\n",
       "        from sklearn.pipeline import make_pipeline, Pipeline\n",
       "    Expecting nothing\n",
       "    ok\n",
       "    Trying:\n",
       "        assert not categorical_transformer is None, 'Are you using the correct variable name?'\n",
       "    Expecting nothing\n",
       "    **********************************************************************\n",
       "    Line 2, in q4.3 0\n",
       "    Failed example:\n",
       "        assert not categorical_transformer is None, 'Are you using the correct variable name?'\n",
       "    Exception raised:\n",
       "        Traceback (most recent call last):\n",
       "          File \"/home/dadmin/miniconda3/envs/cpsc330/lib/python3.13/doctest.py\", line 1395, in __run\n",
       "            exec(compile(example.source, filename, \"single\",\n",
       "            ~~~~^^^^^^^^^^^^^^^^^^^^^^^^^^^^^^^^^^^^^^^^^^^^\n",
       "                         compileflags, True), test.globs)\n",
       "                         ^^^^^^^^^^^^^^^^^^^^^^^^^^^^^^^^\n",
       "          File \"<doctest q4.3 0[1]>\", line 1, in <module>\n",
       "            assert not categorical_transformer is None, 'Are you using the correct variable name?'\n",
       "                       ^^^^^^^^^^^^^^^^^^^^^^^^^^^^^^^\n",
       "        AssertionError: Are you using the correct variable name?\n",
       "    Trying:\n",
       "        assert type(categorical_transformer) is Pipeline, 'Are you creating a scikit-learn Pipeline?'\n",
       "    Expecting nothing\n",
       "    **********************************************************************\n",
       "    Line 3, in q4.3 0\n",
       "    Failed example:\n",
       "        assert type(categorical_transformer) is Pipeline, 'Are you creating a scikit-learn Pipeline?'\n",
       "    Exception raised:\n",
       "        Traceback (most recent call last):\n",
       "          File \"/home/dadmin/miniconda3/envs/cpsc330/lib/python3.13/doctest.py\", line 1395, in __run\n",
       "            exec(compile(example.source, filename, \"single\",\n",
       "            ~~~~^^^^^^^^^^^^^^^^^^^^^^^^^^^^^^^^^^^^^^^^^^^^\n",
       "                         compileflags, True), test.globs)\n",
       "                         ^^^^^^^^^^^^^^^^^^^^^^^^^^^^^^^^\n",
       "          File \"<doctest q4.3 0[2]>\", line 1, in <module>\n",
       "            assert type(categorical_transformer) is Pipeline, 'Are you creating a scikit-learn Pipeline?'\n",
       "                   ^^^^^^^^^^^^^^^^^^^^^^^^^^^^^^^^^^^^^^^^^\n",
       "        AssertionError: Are you creating a scikit-learn Pipeline?\n",
       "    Trying:\n",
       "        assert len(categorical_transformer.get_params()['steps']) == 2, 'Are you creating a pipeline with two steps?'\n",
       "    Expecting nothing\n",
       "    **********************************************************************\n",
       "    Line 4, in q4.3 0\n",
       "    Failed example:\n",
       "        assert len(categorical_transformer.get_params()['steps']) == 2, 'Are you creating a pipeline with two steps?'\n",
       "    Exception raised:\n",
       "        Traceback (most recent call last):\n",
       "          File \"/home/dadmin/miniconda3/envs/cpsc330/lib/python3.13/doctest.py\", line 1395, in __run\n",
       "            exec(compile(example.source, filename, \"single\",\n",
       "            ~~~~^^^^^^^^^^^^^^^^^^^^^^^^^^^^^^^^^^^^^^^^^^^^\n",
       "                         compileflags, True), test.globs)\n",
       "                         ^^^^^^^^^^^^^^^^^^^^^^^^^^^^^^^^\n",
       "          File \"<doctest q4.3 0[3]>\", line 1, in <module>\n",
       "            assert len(categorical_transformer.get_params()['steps']) == 2, 'Are you creating a pipeline with two steps?'\n",
       "                       ^^^^^^^^^^^^^^^^^^^^^^^^^^^^^^^^^^\n",
       "        AttributeError: 'NoneType' object has no attribute 'get_params'\n",
       "    Trying:\n",
       "        assert categorical_transformer.get_params()['simpleimputer__strategy'] == 'constant', 'Are you passing strategy=constant in the SimpleImputer?'\n",
       "    Expecting nothing\n",
       "    **********************************************************************\n",
       "    Line 5, in q4.3 0\n",
       "    Failed example:\n",
       "        assert categorical_transformer.get_params()['simpleimputer__strategy'] == 'constant', 'Are you passing strategy=constant in the SimpleImputer?'\n",
       "    Exception raised:\n",
       "        Traceback (most recent call last):\n",
       "          File \"/home/dadmin/miniconda3/envs/cpsc330/lib/python3.13/doctest.py\", line 1395, in __run\n",
       "            exec(compile(example.source, filename, \"single\",\n",
       "            ~~~~^^^^^^^^^^^^^^^^^^^^^^^^^^^^^^^^^^^^^^^^^^^^\n",
       "                         compileflags, True), test.globs)\n",
       "                         ^^^^^^^^^^^^^^^^^^^^^^^^^^^^^^^^\n",
       "          File \"<doctest q4.3 0[4]>\", line 1, in <module>\n",
       "            assert categorical_transformer.get_params()['simpleimputer__strategy'] == 'constant', 'Are you passing strategy=constant in the SimpleImputer?'\n",
       "                   ^^^^^^^^^^^^^^^^^^^^^^^^^^^^^^^^^^\n",
       "        AttributeError: 'NoneType' object has no attribute 'get_params'\n",
       "    Trying:\n",
       "        assert categorical_transformer.get_params()['simpleimputer__fill_value'] == 'missing', \"Are you passing fill_value='missing' in the SimpleImputer?\"\n",
       "    Expecting nothing\n",
       "    **********************************************************************\n",
       "    Line 6, in q4.3 0\n",
       "    Failed example:\n",
       "        assert categorical_transformer.get_params()['simpleimputer__fill_value'] == 'missing', \"Are you passing fill_value='missing' in the SimpleImputer?\"\n",
       "    Exception raised:\n",
       "        Traceback (most recent call last):\n",
       "          File \"/home/dadmin/miniconda3/envs/cpsc330/lib/python3.13/doctest.py\", line 1395, in __run\n",
       "            exec(compile(example.source, filename, \"single\",\n",
       "            ~~~~^^^^^^^^^^^^^^^^^^^^^^^^^^^^^^^^^^^^^^^^^^^^\n",
       "                         compileflags, True), test.globs)\n",
       "                         ^^^^^^^^^^^^^^^^^^^^^^^^^^^^^^^^\n",
       "          File \"<doctest q4.3 0[5]>\", line 1, in <module>\n",
       "            assert categorical_transformer.get_params()['simpleimputer__fill_value'] == 'missing', \"Are you passing fill_value='missing' in the SimpleImputer?\"\n",
       "                   ^^^^^^^^^^^^^^^^^^^^^^^^^^^^^^^^^^\n",
       "        AttributeError: 'NoneType' object has no attribute 'get_params'\n",
       "    Trying:\n",
       "        assert categorical_transformer.get_params()['onehotencoder__handle_unknown'] == 'ignore', \"Are you passing handle_unknown = 'ignore' argument to your OHE?\"\n",
       "    Expecting nothing\n",
       "    **********************************************************************\n",
       "    Line 7, in q4.3 0\n",
       "    Failed example:\n",
       "        assert categorical_transformer.get_params()['onehotencoder__handle_unknown'] == 'ignore', \"Are you passing handle_unknown = 'ignore' argument to your OHE?\"\n",
       "    Exception raised:\n",
       "        Traceback (most recent call last):\n",
       "          File \"/home/dadmin/miniconda3/envs/cpsc330/lib/python3.13/doctest.py\", line 1395, in __run\n",
       "            exec(compile(example.source, filename, \"single\",\n",
       "            ~~~~^^^^^^^^^^^^^^^^^^^^^^^^^^^^^^^^^^^^^^^^^^^^\n",
       "                         compileflags, True), test.globs)\n",
       "                         ^^^^^^^^^^^^^^^^^^^^^^^^^^^^^^^^\n",
       "          File \"<doctest q4.3 0[6]>\", line 1, in <module>\n",
       "            assert categorical_transformer.get_params()['onehotencoder__handle_unknown'] == 'ignore', \"Are you passing handle_unknown = 'ignore' argument to your OHE?\"\n",
       "                   ^^^^^^^^^^^^^^^^^^^^^^^^^^^^^^^^^^\n",
       "        AttributeError: 'NoneType' object has no attribute 'get_params'\n",
       "    Trying:\n",
       "        assert categorical_transformer.get_params()['onehotencoder__sparse_output'] == False, 'Are you creating a sparase matrix for OHE?'\n",
       "    Expecting nothing\n",
       "    **********************************************************************\n",
       "    Line 8, in q4.3 0\n",
       "    Failed example:\n",
       "        assert categorical_transformer.get_params()['onehotencoder__sparse_output'] == False, 'Are you creating a sparase matrix for OHE?'\n",
       "    Exception raised:\n",
       "        Traceback (most recent call last):\n",
       "          File \"/home/dadmin/miniconda3/envs/cpsc330/lib/python3.13/doctest.py\", line 1395, in __run\n",
       "            exec(compile(example.source, filename, \"single\",\n",
       "            ~~~~^^^^^^^^^^^^^^^^^^^^^^^^^^^^^^^^^^^^^^^^^^^^\n",
       "                         compileflags, True), test.globs)\n",
       "                         ^^^^^^^^^^^^^^^^^^^^^^^^^^^^^^^^\n",
       "          File \"<doctest q4.3 0[7]>\", line 1, in <module>\n",
       "            assert categorical_transformer.get_params()['onehotencoder__sparse_output'] == False, 'Are you creating a sparase matrix for OHE?'\n",
       "                   ^^^^^^^^^^^^^^^^^^^^^^^^^^^^^^^^^^\n",
       "        AttributeError: 'NoneType' object has no attribute 'get_params'\n",
       "</pre>"
      ],
      "text/plain": [
       "q4.3 results:\n",
       "    q4.3 - 1 result:\n",
       "        ❌ Test case failed\n",
       "        Trying:\n",
       "            from sklearn.pipeline import make_pipeline, Pipeline\n",
       "        Expecting nothing\n",
       "        ok\n",
       "        Trying:\n",
       "            assert not categorical_transformer is None, 'Are you using the correct variable name?'\n",
       "        Expecting nothing\n",
       "        **********************************************************************\n",
       "        Line 2, in q4.3 0\n",
       "        Failed example:\n",
       "            assert not categorical_transformer is None, 'Are you using the correct variable name?'\n",
       "        Exception raised:\n",
       "            Traceback (most recent call last):\n",
       "              File \"/home/dadmin/miniconda3/envs/cpsc330/lib/python3.13/doctest.py\", line 1395, in __run\n",
       "                exec(compile(example.source, filename, \"single\",\n",
       "                ~~~~^^^^^^^^^^^^^^^^^^^^^^^^^^^^^^^^^^^^^^^^^^^^\n",
       "                             compileflags, True), test.globs)\n",
       "                             ^^^^^^^^^^^^^^^^^^^^^^^^^^^^^^^^\n",
       "              File \"<doctest q4.3 0[1]>\", line 1, in <module>\n",
       "                assert not categorical_transformer is None, 'Are you using the correct variable name?'\n",
       "                           ^^^^^^^^^^^^^^^^^^^^^^^^^^^^^^^\n",
       "            AssertionError: Are you using the correct variable name?\n",
       "        Trying:\n",
       "            assert type(categorical_transformer) is Pipeline, 'Are you creating a scikit-learn Pipeline?'\n",
       "        Expecting nothing\n",
       "        **********************************************************************\n",
       "        Line 3, in q4.3 0\n",
       "        Failed example:\n",
       "            assert type(categorical_transformer) is Pipeline, 'Are you creating a scikit-learn Pipeline?'\n",
       "        Exception raised:\n",
       "            Traceback (most recent call last):\n",
       "              File \"/home/dadmin/miniconda3/envs/cpsc330/lib/python3.13/doctest.py\", line 1395, in __run\n",
       "                exec(compile(example.source, filename, \"single\",\n",
       "                ~~~~^^^^^^^^^^^^^^^^^^^^^^^^^^^^^^^^^^^^^^^^^^^^\n",
       "                             compileflags, True), test.globs)\n",
       "                             ^^^^^^^^^^^^^^^^^^^^^^^^^^^^^^^^\n",
       "              File \"<doctest q4.3 0[2]>\", line 1, in <module>\n",
       "                assert type(categorical_transformer) is Pipeline, 'Are you creating a scikit-learn Pipeline?'\n",
       "                       ^^^^^^^^^^^^^^^^^^^^^^^^^^^^^^^^^^^^^^^^^\n",
       "            AssertionError: Are you creating a scikit-learn Pipeline?\n",
       "        Trying:\n",
       "            assert len(categorical_transformer.get_params()['steps']) == 2, 'Are you creating a pipeline with two steps?'\n",
       "        Expecting nothing\n",
       "        **********************************************************************\n",
       "        Line 4, in q4.3 0\n",
       "        Failed example:\n",
       "            assert len(categorical_transformer.get_params()['steps']) == 2, 'Are you creating a pipeline with two steps?'\n",
       "        Exception raised:\n",
       "            Traceback (most recent call last):\n",
       "              File \"/home/dadmin/miniconda3/envs/cpsc330/lib/python3.13/doctest.py\", line 1395, in __run\n",
       "                exec(compile(example.source, filename, \"single\",\n",
       "                ~~~~^^^^^^^^^^^^^^^^^^^^^^^^^^^^^^^^^^^^^^^^^^^^\n",
       "                             compileflags, True), test.globs)\n",
       "                             ^^^^^^^^^^^^^^^^^^^^^^^^^^^^^^^^\n",
       "              File \"<doctest q4.3 0[3]>\", line 1, in <module>\n",
       "                assert len(categorical_transformer.get_params()['steps']) == 2, 'Are you creating a pipeline with two steps?'\n",
       "                           ^^^^^^^^^^^^^^^^^^^^^^^^^^^^^^^^^^\n",
       "            AttributeError: 'NoneType' object has no attribute 'get_params'\n",
       "        Trying:\n",
       "            assert categorical_transformer.get_params()['simpleimputer__strategy'] == 'constant', 'Are you passing strategy=constant in the SimpleImputer?'\n",
       "        Expecting nothing\n",
       "        **********************************************************************\n",
       "        Line 5, in q4.3 0\n",
       "        Failed example:\n",
       "            assert categorical_transformer.get_params()['simpleimputer__strategy'] == 'constant', 'Are you passing strategy=constant in the SimpleImputer?'\n",
       "        Exception raised:\n",
       "            Traceback (most recent call last):\n",
       "              File \"/home/dadmin/miniconda3/envs/cpsc330/lib/python3.13/doctest.py\", line 1395, in __run\n",
       "                exec(compile(example.source, filename, \"single\",\n",
       "                ~~~~^^^^^^^^^^^^^^^^^^^^^^^^^^^^^^^^^^^^^^^^^^^^\n",
       "                             compileflags, True), test.globs)\n",
       "                             ^^^^^^^^^^^^^^^^^^^^^^^^^^^^^^^^\n",
       "              File \"<doctest q4.3 0[4]>\", line 1, in <module>\n",
       "                assert categorical_transformer.get_params()['simpleimputer__strategy'] == 'constant', 'Are you passing strategy=constant in the SimpleImputer?'\n",
       "                       ^^^^^^^^^^^^^^^^^^^^^^^^^^^^^^^^^^\n",
       "            AttributeError: 'NoneType' object has no attribute 'get_params'\n",
       "        Trying:\n",
       "            assert categorical_transformer.get_params()['simpleimputer__fill_value'] == 'missing', \"Are you passing fill_value='missing' in the SimpleImputer?\"\n",
       "        Expecting nothing\n",
       "        **********************************************************************\n",
       "        Line 6, in q4.3 0\n",
       "        Failed example:\n",
       "            assert categorical_transformer.get_params()['simpleimputer__fill_value'] == 'missing', \"Are you passing fill_value='missing' in the SimpleImputer?\"\n",
       "        Exception raised:\n",
       "            Traceback (most recent call last):\n",
       "              File \"/home/dadmin/miniconda3/envs/cpsc330/lib/python3.13/doctest.py\", line 1395, in __run\n",
       "                exec(compile(example.source, filename, \"single\",\n",
       "                ~~~~^^^^^^^^^^^^^^^^^^^^^^^^^^^^^^^^^^^^^^^^^^^^\n",
       "                             compileflags, True), test.globs)\n",
       "                             ^^^^^^^^^^^^^^^^^^^^^^^^^^^^^^^^\n",
       "              File \"<doctest q4.3 0[5]>\", line 1, in <module>\n",
       "                assert categorical_transformer.get_params()['simpleimputer__fill_value'] == 'missing', \"Are you passing fill_value='missing' in the SimpleImputer?\"\n",
       "                       ^^^^^^^^^^^^^^^^^^^^^^^^^^^^^^^^^^\n",
       "            AttributeError: 'NoneType' object has no attribute 'get_params'\n",
       "        Trying:\n",
       "            assert categorical_transformer.get_params()['onehotencoder__handle_unknown'] == 'ignore', \"Are you passing handle_unknown = 'ignore' argument to your OHE?\"\n",
       "        Expecting nothing\n",
       "        **********************************************************************\n",
       "        Line 7, in q4.3 0\n",
       "        Failed example:\n",
       "            assert categorical_transformer.get_params()['onehotencoder__handle_unknown'] == 'ignore', \"Are you passing handle_unknown = 'ignore' argument to your OHE?\"\n",
       "        Exception raised:\n",
       "            Traceback (most recent call last):\n",
       "              File \"/home/dadmin/miniconda3/envs/cpsc330/lib/python3.13/doctest.py\", line 1395, in __run\n",
       "                exec(compile(example.source, filename, \"single\",\n",
       "                ~~~~^^^^^^^^^^^^^^^^^^^^^^^^^^^^^^^^^^^^^^^^^^^^\n",
       "                             compileflags, True), test.globs)\n",
       "                             ^^^^^^^^^^^^^^^^^^^^^^^^^^^^^^^^\n",
       "              File \"<doctest q4.3 0[6]>\", line 1, in <module>\n",
       "                assert categorical_transformer.get_params()['onehotencoder__handle_unknown'] == 'ignore', \"Are you passing handle_unknown = 'ignore' argument to your OHE?\"\n",
       "                       ^^^^^^^^^^^^^^^^^^^^^^^^^^^^^^^^^^\n",
       "            AttributeError: 'NoneType' object has no attribute 'get_params'\n",
       "        Trying:\n",
       "            assert categorical_transformer.get_params()['onehotencoder__sparse_output'] == False, 'Are you creating a sparase matrix for OHE?'\n",
       "        Expecting nothing\n",
       "        **********************************************************************\n",
       "        Line 8, in q4.3 0\n",
       "        Failed example:\n",
       "            assert categorical_transformer.get_params()['onehotencoder__sparse_output'] == False, 'Are you creating a sparase matrix for OHE?'\n",
       "        Exception raised:\n",
       "            Traceback (most recent call last):\n",
       "              File \"/home/dadmin/miniconda3/envs/cpsc330/lib/python3.13/doctest.py\", line 1395, in __run\n",
       "                exec(compile(example.source, filename, \"single\",\n",
       "                ~~~~^^^^^^^^^^^^^^^^^^^^^^^^^^^^^^^^^^^^^^^^^^^^\n",
       "                             compileflags, True), test.globs)\n",
       "                             ^^^^^^^^^^^^^^^^^^^^^^^^^^^^^^^^\n",
       "              File \"<doctest q4.3 0[7]>\", line 1, in <module>\n",
       "                assert categorical_transformer.get_params()['onehotencoder__sparse_output'] == False, 'Are you creating a sparase matrix for OHE?'\n",
       "                       ^^^^^^^^^^^^^^^^^^^^^^^^^^^^^^^^^^\n",
       "            AttributeError: 'NoneType' object has no attribute 'get_params'"
      ]
     },
     "execution_count": 748,
     "metadata": {},
     "output_type": "execute_result"
    }
   ],
   "source": [
    "grader.check(\"q4.3\")"
   ]
  },
  {
   "cell_type": "markdown",
   "metadata": {},
   "source": [
    "<br><br>"
   ]
  },
  {
   "cell_type": "markdown",
   "metadata": {
    "deletable": false,
    "editable": false
   },
   "source": [
    "### 4.4 Creating a column transformer. \n",
    "rubric={autograde}\n",
    "\n",
    "**Your tasks:**\n",
    "1. Create a `sklearn` `ColumnTransformer` named `preprocessor` using [`make_column_transformer`](https://scikit-learn.org/stable/modules/generated/sklearn.compose.make_column_transformer.html) with the transformers defined in the previous exercises. Use the sequence below in the column transformer and add a \"drop\" step for the `drop_features` in the end.  \n",
    "    - `numeric_transformer`\n",
    "    - `ordinal_transformer`\n",
    "    - `binary_transformer`\n",
    "    - `categorical_transformer`\n",
    "2. Transform the data by calling `fit_transform` on the training set and save it as a dataframe in a variable called `transformed_df`. How many new columns have been created in the preprocessed data in comparison to the original `X_train`? Store the difference between the number of columns in `transformed_df` and `X_train` in a variable called `n_new_cols`. \n",
    "\n",
    "> You are not required to do this but optionally you can try to get column names of the transformed data and create the dataframe `transformed_df` with proper column names. "
   ]
  },
  {
   "cell_type": "markdown",
   "metadata": {
    "deletable": false,
    "editable": false
   },
   "source": [
    "<div class=\"alert alert-warning\">\n",
    "    \n",
    "Solution_4.4\n",
    "    \n",
    "</div>\n",
    "\n",
    "_Points:_ 7"
   ]
  },
  {
   "cell_type": "code",
   "execution_count": 749,
   "metadata": {
    "tags": [
     "otter_answer_cell"
    ]
   },
   "outputs": [
    {
     "data": {
      "text/plain": [
       "Ellipsis"
      ]
     },
     "execution_count": 749,
     "metadata": {},
     "output_type": "execute_result"
    }
   ],
   "source": [
    "preprocessor = None\n",
    "\n",
    "..."
   ]
  },
  {
   "cell_type": "code",
   "execution_count": 750,
   "metadata": {
    "tags": [
     "otter_answer_cell"
    ]
   },
   "outputs": [
    {
     "data": {
      "text/plain": [
       "Ellipsis"
      ]
     },
     "execution_count": 750,
     "metadata": {},
     "output_type": "execute_result"
    }
   ],
   "source": [
    "transformed_df = None\n",
    "n_new_cols = None\n",
    "\n",
    "..."
   ]
  },
  {
   "cell_type": "code",
   "execution_count": 751,
   "metadata": {
    "deletable": false,
    "editable": false
   },
   "outputs": [
    {
     "data": {
      "text/html": [
       "<p><strong style='color: red;'><pre style='display: inline;'>q4.4</pre> results:</strong></p><p><strong><pre style='display: inline;'>q4.4 - 1</pre> result:</strong></p><pre>    ❌ Test case failed\n",
       "    Trying:\n",
       "        assert not preprocessor is None, 'Are you using the correct variable name?'\n",
       "    Expecting nothing\n",
       "    **********************************************************************\n",
       "    Line 1, in q4.4 0\n",
       "    Failed example:\n",
       "        assert not preprocessor is None, 'Are you using the correct variable name?'\n",
       "    Exception raised:\n",
       "        Traceback (most recent call last):\n",
       "          File \"/home/dadmin/miniconda3/envs/cpsc330/lib/python3.13/doctest.py\", line 1395, in __run\n",
       "            exec(compile(example.source, filename, \"single\",\n",
       "            ~~~~^^^^^^^^^^^^^^^^^^^^^^^^^^^^^^^^^^^^^^^^^^^^\n",
       "                         compileflags, True), test.globs)\n",
       "                         ^^^^^^^^^^^^^^^^^^^^^^^^^^^^^^^^\n",
       "          File \"<doctest q4.4 0[0]>\", line 1, in <module>\n",
       "            assert not preprocessor is None, 'Are you using the correct variable name?'\n",
       "                       ^^^^^^^^^^^^^^^^^^^^\n",
       "        AssertionError: Are you using the correct variable name?\n",
       "    Trying:\n",
       "        assert len(preprocessor.get_params()['transformers']) in range(4, 6, 1), 'Have you included all the transformers?'\n",
       "    Expecting nothing\n",
       "    **********************************************************************\n",
       "    Line 2, in q4.4 0\n",
       "    Failed example:\n",
       "        assert len(preprocessor.get_params()['transformers']) in range(4, 6, 1), 'Have you included all the transformers?'\n",
       "    Exception raised:\n",
       "        Traceback (most recent call last):\n",
       "          File \"/home/dadmin/miniconda3/envs/cpsc330/lib/python3.13/doctest.py\", line 1395, in __run\n",
       "            exec(compile(example.source, filename, \"single\",\n",
       "            ~~~~^^^^^^^^^^^^^^^^^^^^^^^^^^^^^^^^^^^^^^^^^^^^\n",
       "                         compileflags, True), test.globs)\n",
       "                         ^^^^^^^^^^^^^^^^^^^^^^^^^^^^^^^^\n",
       "          File \"<doctest q4.4 0[1]>\", line 1, in <module>\n",
       "            assert len(preprocessor.get_params()['transformers']) in range(4, 6, 1), 'Have you included all the transformers?'\n",
       "                       ^^^^^^^^^^^^^^^^^^^^^^^\n",
       "        AttributeError: 'NoneType' object has no attribute 'get_params'\n",
       "    Trying:\n",
       "        assert 'onehotencoder' in preprocessor.get_params().keys(), 'Either the categorical_transformer or binary_transformer is not included.'\n",
       "    Expecting nothing\n",
       "    **********************************************************************\n",
       "    Line 3, in q4.4 0\n",
       "    Failed example:\n",
       "        assert 'onehotencoder' in preprocessor.get_params().keys(), 'Either the categorical_transformer or binary_transformer is not included.'\n",
       "    Exception raised:\n",
       "        Traceback (most recent call last):\n",
       "          File \"/home/dadmin/miniconda3/envs/cpsc330/lib/python3.13/doctest.py\", line 1395, in __run\n",
       "            exec(compile(example.source, filename, \"single\",\n",
       "            ~~~~^^^^^^^^^^^^^^^^^^^^^^^^^^^^^^^^^^^^^^^^^^^^\n",
       "                         compileflags, True), test.globs)\n",
       "                         ^^^^^^^^^^^^^^^^^^^^^^^^^^^^^^^^\n",
       "          File \"<doctest q4.4 0[2]>\", line 1, in <module>\n",
       "            assert 'onehotencoder' in preprocessor.get_params().keys(), 'Either the categorical_transformer or binary_transformer is not included.'\n",
       "                                      ^^^^^^^^^^^^^^^^^^^^^^^\n",
       "        AttributeError: 'NoneType' object has no attribute 'get_params'\n",
       "    Trying:\n",
       "        assert 'standardscaler' in preprocessor.get_params().keys(), 'numeric_transformer is not included.'\n",
       "    Expecting nothing\n",
       "    **********************************************************************\n",
       "    Line 4, in q4.4 0\n",
       "    Failed example:\n",
       "        assert 'standardscaler' in preprocessor.get_params().keys(), 'numeric_transformer is not included.'\n",
       "    Exception raised:\n",
       "        Traceback (most recent call last):\n",
       "          File \"/home/dadmin/miniconda3/envs/cpsc330/lib/python3.13/doctest.py\", line 1395, in __run\n",
       "            exec(compile(example.source, filename, \"single\",\n",
       "            ~~~~^^^^^^^^^^^^^^^^^^^^^^^^^^^^^^^^^^^^^^^^^^^^\n",
       "                         compileflags, True), test.globs)\n",
       "                         ^^^^^^^^^^^^^^^^^^^^^^^^^^^^^^^^\n",
       "          File \"<doctest q4.4 0[3]>\", line 1, in <module>\n",
       "            assert 'standardscaler' in preprocessor.get_params().keys(), 'numeric_transformer is not included.'\n",
       "                                       ^^^^^^^^^^^^^^^^^^^^^^^\n",
       "        AttributeError: 'NoneType' object has no attribute 'get_params'\n",
       "    Trying:\n",
       "        assert 'ordinalencoder' in preprocessor.get_params().keys(), 'ordinal_transformer is not included.'\n",
       "    Expecting nothing\n",
       "    **********************************************************************\n",
       "    Line 5, in q4.4 0\n",
       "    Failed example:\n",
       "        assert 'ordinalencoder' in preprocessor.get_params().keys(), 'ordinal_transformer is not included.'\n",
       "    Exception raised:\n",
       "        Traceback (most recent call last):\n",
       "          File \"/home/dadmin/miniconda3/envs/cpsc330/lib/python3.13/doctest.py\", line 1395, in __run\n",
       "            exec(compile(example.source, filename, \"single\",\n",
       "            ~~~~^^^^^^^^^^^^^^^^^^^^^^^^^^^^^^^^^^^^^^^^^^^^\n",
       "                         compileflags, True), test.globs)\n",
       "                         ^^^^^^^^^^^^^^^^^^^^^^^^^^^^^^^^\n",
       "          File \"<doctest q4.4 0[4]>\", line 1, in <module>\n",
       "            assert 'ordinalencoder' in preprocessor.get_params().keys(), 'ordinal_transformer is not included.'\n",
       "                                       ^^^^^^^^^^^^^^^^^^^^^^^\n",
       "        AttributeError: 'NoneType' object has no attribute 'get_params'\n",
       "    Trying:\n",
       "        assert 'drop' in preprocessor.get_params().keys(), 'drop features step is not included.'\n",
       "    Expecting nothing\n",
       "    **********************************************************************\n",
       "    Line 6, in q4.4 0\n",
       "    Failed example:\n",
       "        assert 'drop' in preprocessor.get_params().keys(), 'drop features step is not included.'\n",
       "    Exception raised:\n",
       "        Traceback (most recent call last):\n",
       "          File \"/home/dadmin/miniconda3/envs/cpsc330/lib/python3.13/doctest.py\", line 1395, in __run\n",
       "            exec(compile(example.source, filename, \"single\",\n",
       "            ~~~~^^^^^^^^^^^^^^^^^^^^^^^^^^^^^^^^^^^^^^^^^^^^\n",
       "                         compileflags, True), test.globs)\n",
       "                         ^^^^^^^^^^^^^^^^^^^^^^^^^^^^^^^^\n",
       "          File \"<doctest q4.4 0[5]>\", line 1, in <module>\n",
       "            assert 'drop' in preprocessor.get_params().keys(), 'drop features step is not included.'\n",
       "                             ^^^^^^^^^^^^^^^^^^^^^^^\n",
       "        AttributeError: 'NoneType' object has no attribute 'get_params'\n",
       "</pre><p><strong><pre style='display: inline;'>q4.4 - 2</pre> result:</strong></p><pre>    ❌ Test case failed\n",
       "    Trying:\n",
       "        assert not transformed_df is None, 'Are you using the correct variable name?'\n",
       "    Expecting nothing\n",
       "    **********************************************************************\n",
       "    Line 1, in q4.4 1\n",
       "    Failed example:\n",
       "        assert not transformed_df is None, 'Are you using the correct variable name?'\n",
       "    Exception raised:\n",
       "        Traceback (most recent call last):\n",
       "          File \"/home/dadmin/miniconda3/envs/cpsc330/lib/python3.13/doctest.py\", line 1395, in __run\n",
       "            exec(compile(example.source, filename, \"single\",\n",
       "            ~~~~^^^^^^^^^^^^^^^^^^^^^^^^^^^^^^^^^^^^^^^^^^^^\n",
       "                         compileflags, True), test.globs)\n",
       "                         ^^^^^^^^^^^^^^^^^^^^^^^^^^^^^^^^\n",
       "          File \"<doctest q4.4 1[0]>\", line 1, in <module>\n",
       "            assert not transformed_df is None, 'Are you using the correct variable name?'\n",
       "                       ^^^^^^^^^^^^^^^^^^^^^^\n",
       "        AssertionError: Are you using the correct variable name?\n",
       "    Trying:\n",
       "        assert sha1(str(transformed_df.shape).encode('utf8')).hexdigest() == 'a0521f0cdbcd77cd213e7d1a3cfc13c1c7c92a6e', 'The shape of the transformed data is incorrect.'\n",
       "    Expecting nothing\n",
       "    **********************************************************************\n",
       "    Line 2, in q4.4 1\n",
       "    Failed example:\n",
       "        assert sha1(str(transformed_df.shape).encode('utf8')).hexdigest() == 'a0521f0cdbcd77cd213e7d1a3cfc13c1c7c92a6e', 'The shape of the transformed data is incorrect.'\n",
       "    Exception raised:\n",
       "        Traceback (most recent call last):\n",
       "          File \"/home/dadmin/miniconda3/envs/cpsc330/lib/python3.13/doctest.py\", line 1395, in __run\n",
       "            exec(compile(example.source, filename, \"single\",\n",
       "            ~~~~^^^^^^^^^^^^^^^^^^^^^^^^^^^^^^^^^^^^^^^^^^^^\n",
       "                         compileflags, True), test.globs)\n",
       "                         ^^^^^^^^^^^^^^^^^^^^^^^^^^^^^^^^\n",
       "          File \"<doctest q4.4 1[1]>\", line 1, in <module>\n",
       "            assert sha1(str(transformed_df.shape).encode('utf8')).hexdigest() == 'a0521f0cdbcd77cd213e7d1a3cfc13c1c7c92a6e', 'The shape of the transformed data is incorrect.'\n",
       "                            ^^^^^^^^^^^^^^^^^^^^\n",
       "        AttributeError: 'NoneType' object has no attribute 'shape'\n",
       "</pre><p><strong><pre style='display: inline;'>q4.4 - 3</pre> result:</strong></p><pre>    ❌ Test case failed\n",
       "    Trying:\n",
       "        assert sha1(str(n_new_cols).encode('utf8')).hexdigest() == 'b7103ca278a75cad8f7d065acda0c2e80da0b7dc', 'The number of new columns (n_new_cols) is incorrect.'\n",
       "    Expecting nothing\n",
       "    **********************************************************************\n",
       "    Line 1, in q4.4 2\n",
       "    Failed example:\n",
       "        assert sha1(str(n_new_cols).encode('utf8')).hexdigest() == 'b7103ca278a75cad8f7d065acda0c2e80da0b7dc', 'The number of new columns (n_new_cols) is incorrect.'\n",
       "    Exception raised:\n",
       "        Traceback (most recent call last):\n",
       "          File \"/home/dadmin/miniconda3/envs/cpsc330/lib/python3.13/doctest.py\", line 1395, in __run\n",
       "            exec(compile(example.source, filename, \"single\",\n",
       "            ~~~~^^^^^^^^^^^^^^^^^^^^^^^^^^^^^^^^^^^^^^^^^^^^\n",
       "                         compileflags, True), test.globs)\n",
       "                         ^^^^^^^^^^^^^^^^^^^^^^^^^^^^^^^^\n",
       "          File \"<doctest q4.4 2[0]>\", line 1, in <module>\n",
       "            assert sha1(str(n_new_cols).encode('utf8')).hexdigest() == 'b7103ca278a75cad8f7d065acda0c2e80da0b7dc', 'The number of new columns (n_new_cols) is incorrect.'\n",
       "                   ^^^^^^^^^^^^^^^^^^^^^^^^^^^^^^^^^^^^^^^^^^^^^^^^^^^^^^^^^^^^^^^^^^^^^^^^^^^^^^^^^^^^^^^^^^^^^^\n",
       "        AssertionError: The number of new columns (n_new_cols) is incorrect.\n",
       "</pre>"
      ],
      "text/plain": [
       "q4.4 results:\n",
       "    q4.4 - 1 result:\n",
       "        ❌ Test case failed\n",
       "        Trying:\n",
       "            assert not preprocessor is None, 'Are you using the correct variable name?'\n",
       "        Expecting nothing\n",
       "        **********************************************************************\n",
       "        Line 1, in q4.4 0\n",
       "        Failed example:\n",
       "            assert not preprocessor is None, 'Are you using the correct variable name?'\n",
       "        Exception raised:\n",
       "            Traceback (most recent call last):\n",
       "              File \"/home/dadmin/miniconda3/envs/cpsc330/lib/python3.13/doctest.py\", line 1395, in __run\n",
       "                exec(compile(example.source, filename, \"single\",\n",
       "                ~~~~^^^^^^^^^^^^^^^^^^^^^^^^^^^^^^^^^^^^^^^^^^^^\n",
       "                             compileflags, True), test.globs)\n",
       "                             ^^^^^^^^^^^^^^^^^^^^^^^^^^^^^^^^\n",
       "              File \"<doctest q4.4 0[0]>\", line 1, in <module>\n",
       "                assert not preprocessor is None, 'Are you using the correct variable name?'\n",
       "                           ^^^^^^^^^^^^^^^^^^^^\n",
       "            AssertionError: Are you using the correct variable name?\n",
       "        Trying:\n",
       "            assert len(preprocessor.get_params()['transformers']) in range(4, 6, 1), 'Have you included all the transformers?'\n",
       "        Expecting nothing\n",
       "        **********************************************************************\n",
       "        Line 2, in q4.4 0\n",
       "        Failed example:\n",
       "            assert len(preprocessor.get_params()['transformers']) in range(4, 6, 1), 'Have you included all the transformers?'\n",
       "        Exception raised:\n",
       "            Traceback (most recent call last):\n",
       "              File \"/home/dadmin/miniconda3/envs/cpsc330/lib/python3.13/doctest.py\", line 1395, in __run\n",
       "                exec(compile(example.source, filename, \"single\",\n",
       "                ~~~~^^^^^^^^^^^^^^^^^^^^^^^^^^^^^^^^^^^^^^^^^^^^\n",
       "                             compileflags, True), test.globs)\n",
       "                             ^^^^^^^^^^^^^^^^^^^^^^^^^^^^^^^^\n",
       "              File \"<doctest q4.4 0[1]>\", line 1, in <module>\n",
       "                assert len(preprocessor.get_params()['transformers']) in range(4, 6, 1), 'Have you included all the transformers?'\n",
       "                           ^^^^^^^^^^^^^^^^^^^^^^^\n",
       "            AttributeError: 'NoneType' object has no attribute 'get_params'\n",
       "        Trying:\n",
       "            assert 'onehotencoder' in preprocessor.get_params().keys(), 'Either the categorical_transformer or binary_transformer is not included.'\n",
       "        Expecting nothing\n",
       "        **********************************************************************\n",
       "        Line 3, in q4.4 0\n",
       "        Failed example:\n",
       "            assert 'onehotencoder' in preprocessor.get_params().keys(), 'Either the categorical_transformer or binary_transformer is not included.'\n",
       "        Exception raised:\n",
       "            Traceback (most recent call last):\n",
       "              File \"/home/dadmin/miniconda3/envs/cpsc330/lib/python3.13/doctest.py\", line 1395, in __run\n",
       "                exec(compile(example.source, filename, \"single\",\n",
       "                ~~~~^^^^^^^^^^^^^^^^^^^^^^^^^^^^^^^^^^^^^^^^^^^^\n",
       "                             compileflags, True), test.globs)\n",
       "                             ^^^^^^^^^^^^^^^^^^^^^^^^^^^^^^^^\n",
       "              File \"<doctest q4.4 0[2]>\", line 1, in <module>\n",
       "                assert 'onehotencoder' in preprocessor.get_params().keys(), 'Either the categorical_transformer or binary_transformer is not included.'\n",
       "                                          ^^^^^^^^^^^^^^^^^^^^^^^\n",
       "            AttributeError: 'NoneType' object has no attribute 'get_params'\n",
       "        Trying:\n",
       "            assert 'standardscaler' in preprocessor.get_params().keys(), 'numeric_transformer is not included.'\n",
       "        Expecting nothing\n",
       "        **********************************************************************\n",
       "        Line 4, in q4.4 0\n",
       "        Failed example:\n",
       "            assert 'standardscaler' in preprocessor.get_params().keys(), 'numeric_transformer is not included.'\n",
       "        Exception raised:\n",
       "            Traceback (most recent call last):\n",
       "              File \"/home/dadmin/miniconda3/envs/cpsc330/lib/python3.13/doctest.py\", line 1395, in __run\n",
       "                exec(compile(example.source, filename, \"single\",\n",
       "                ~~~~^^^^^^^^^^^^^^^^^^^^^^^^^^^^^^^^^^^^^^^^^^^^\n",
       "                             compileflags, True), test.globs)\n",
       "                             ^^^^^^^^^^^^^^^^^^^^^^^^^^^^^^^^\n",
       "              File \"<doctest q4.4 0[3]>\", line 1, in <module>\n",
       "                assert 'standardscaler' in preprocessor.get_params().keys(), 'numeric_transformer is not included.'\n",
       "                                           ^^^^^^^^^^^^^^^^^^^^^^^\n",
       "            AttributeError: 'NoneType' object has no attribute 'get_params'\n",
       "        Trying:\n",
       "            assert 'ordinalencoder' in preprocessor.get_params().keys(), 'ordinal_transformer is not included.'\n",
       "        Expecting nothing\n",
       "        **********************************************************************\n",
       "        Line 5, in q4.4 0\n",
       "        Failed example:\n",
       "            assert 'ordinalencoder' in preprocessor.get_params().keys(), 'ordinal_transformer is not included.'\n",
       "        Exception raised:\n",
       "            Traceback (most recent call last):\n",
       "              File \"/home/dadmin/miniconda3/envs/cpsc330/lib/python3.13/doctest.py\", line 1395, in __run\n",
       "                exec(compile(example.source, filename, \"single\",\n",
       "                ~~~~^^^^^^^^^^^^^^^^^^^^^^^^^^^^^^^^^^^^^^^^^^^^\n",
       "                             compileflags, True), test.globs)\n",
       "                             ^^^^^^^^^^^^^^^^^^^^^^^^^^^^^^^^\n",
       "              File \"<doctest q4.4 0[4]>\", line 1, in <module>\n",
       "                assert 'ordinalencoder' in preprocessor.get_params().keys(), 'ordinal_transformer is not included.'\n",
       "                                           ^^^^^^^^^^^^^^^^^^^^^^^\n",
       "            AttributeError: 'NoneType' object has no attribute 'get_params'\n",
       "        Trying:\n",
       "            assert 'drop' in preprocessor.get_params().keys(), 'drop features step is not included.'\n",
       "        Expecting nothing\n",
       "        **********************************************************************\n",
       "        Line 6, in q4.4 0\n",
       "        Failed example:\n",
       "            assert 'drop' in preprocessor.get_params().keys(), 'drop features step is not included.'\n",
       "        Exception raised:\n",
       "            Traceback (most recent call last):\n",
       "              File \"/home/dadmin/miniconda3/envs/cpsc330/lib/python3.13/doctest.py\", line 1395, in __run\n",
       "                exec(compile(example.source, filename, \"single\",\n",
       "                ~~~~^^^^^^^^^^^^^^^^^^^^^^^^^^^^^^^^^^^^^^^^^^^^\n",
       "                             compileflags, True), test.globs)\n",
       "                             ^^^^^^^^^^^^^^^^^^^^^^^^^^^^^^^^\n",
       "              File \"<doctest q4.4 0[5]>\", line 1, in <module>\n",
       "                assert 'drop' in preprocessor.get_params().keys(), 'drop features step is not included.'\n",
       "                                 ^^^^^^^^^^^^^^^^^^^^^^^\n",
       "            AttributeError: 'NoneType' object has no attribute 'get_params'\n",
       "\n",
       "    q4.4 - 2 result:\n",
       "        ❌ Test case failed\n",
       "        Trying:\n",
       "            assert not transformed_df is None, 'Are you using the correct variable name?'\n",
       "        Expecting nothing\n",
       "        **********************************************************************\n",
       "        Line 1, in q4.4 1\n",
       "        Failed example:\n",
       "            assert not transformed_df is None, 'Are you using the correct variable name?'\n",
       "        Exception raised:\n",
       "            Traceback (most recent call last):\n",
       "              File \"/home/dadmin/miniconda3/envs/cpsc330/lib/python3.13/doctest.py\", line 1395, in __run\n",
       "                exec(compile(example.source, filename, \"single\",\n",
       "                ~~~~^^^^^^^^^^^^^^^^^^^^^^^^^^^^^^^^^^^^^^^^^^^^\n",
       "                             compileflags, True), test.globs)\n",
       "                             ^^^^^^^^^^^^^^^^^^^^^^^^^^^^^^^^\n",
       "              File \"<doctest q4.4 1[0]>\", line 1, in <module>\n",
       "                assert not transformed_df is None, 'Are you using the correct variable name?'\n",
       "                           ^^^^^^^^^^^^^^^^^^^^^^\n",
       "            AssertionError: Are you using the correct variable name?\n",
       "        Trying:\n",
       "            assert sha1(str(transformed_df.shape).encode('utf8')).hexdigest() == 'a0521f0cdbcd77cd213e7d1a3cfc13c1c7c92a6e', 'The shape of the transformed data is incorrect.'\n",
       "        Expecting nothing\n",
       "        **********************************************************************\n",
       "        Line 2, in q4.4 1\n",
       "        Failed example:\n",
       "            assert sha1(str(transformed_df.shape).encode('utf8')).hexdigest() == 'a0521f0cdbcd77cd213e7d1a3cfc13c1c7c92a6e', 'The shape of the transformed data is incorrect.'\n",
       "        Exception raised:\n",
       "            Traceback (most recent call last):\n",
       "              File \"/home/dadmin/miniconda3/envs/cpsc330/lib/python3.13/doctest.py\", line 1395, in __run\n",
       "                exec(compile(example.source, filename, \"single\",\n",
       "                ~~~~^^^^^^^^^^^^^^^^^^^^^^^^^^^^^^^^^^^^^^^^^^^^\n",
       "                             compileflags, True), test.globs)\n",
       "                             ^^^^^^^^^^^^^^^^^^^^^^^^^^^^^^^^\n",
       "              File \"<doctest q4.4 1[1]>\", line 1, in <module>\n",
       "                assert sha1(str(transformed_df.shape).encode('utf8')).hexdigest() == 'a0521f0cdbcd77cd213e7d1a3cfc13c1c7c92a6e', 'The shape of the transformed data is incorrect.'\n",
       "                                ^^^^^^^^^^^^^^^^^^^^\n",
       "            AttributeError: 'NoneType' object has no attribute 'shape'\n",
       "\n",
       "    q4.4 - 3 result:\n",
       "        ❌ Test case failed\n",
       "        Trying:\n",
       "            assert sha1(str(n_new_cols).encode('utf8')).hexdigest() == 'b7103ca278a75cad8f7d065acda0c2e80da0b7dc', 'The number of new columns (n_new_cols) is incorrect.'\n",
       "        Expecting nothing\n",
       "        **********************************************************************\n",
       "        Line 1, in q4.4 2\n",
       "        Failed example:\n",
       "            assert sha1(str(n_new_cols).encode('utf8')).hexdigest() == 'b7103ca278a75cad8f7d065acda0c2e80da0b7dc', 'The number of new columns (n_new_cols) is incorrect.'\n",
       "        Exception raised:\n",
       "            Traceback (most recent call last):\n",
       "              File \"/home/dadmin/miniconda3/envs/cpsc330/lib/python3.13/doctest.py\", line 1395, in __run\n",
       "                exec(compile(example.source, filename, \"single\",\n",
       "                ~~~~^^^^^^^^^^^^^^^^^^^^^^^^^^^^^^^^^^^^^^^^^^^^\n",
       "                             compileflags, True), test.globs)\n",
       "                             ^^^^^^^^^^^^^^^^^^^^^^^^^^^^^^^^\n",
       "              File \"<doctest q4.4 2[0]>\", line 1, in <module>\n",
       "                assert sha1(str(n_new_cols).encode('utf8')).hexdigest() == 'b7103ca278a75cad8f7d065acda0c2e80da0b7dc', 'The number of new columns (n_new_cols) is incorrect.'\n",
       "                       ^^^^^^^^^^^^^^^^^^^^^^^^^^^^^^^^^^^^^^^^^^^^^^^^^^^^^^^^^^^^^^^^^^^^^^^^^^^^^^^^^^^^^^^^^^^^^^\n",
       "            AssertionError: The number of new columns (n_new_cols) is incorrect."
      ]
     },
     "execution_count": 751,
     "metadata": {},
     "output_type": "execute_result"
    }
   ],
   "source": [
    "grader.check(\"q4.4\")"
   ]
  },
  {
   "cell_type": "markdown",
   "metadata": {},
   "source": [
    "<br><br>"
   ]
  },
  {
   "cell_type": "markdown",
   "metadata": {
    "deletable": false,
    "editable": false,
    "tags": []
   },
   "source": [
    "<!-- BEGIN QUESTION -->\n",
    "\n",
    "### 4.5 Short answer questions\n",
    "rubric={reasoning}\n",
    "\n",
    "**Your tasks:**\n",
    "\n",
    "Answer each of the following questions in 2 to 3 sentences. \n",
    "\n",
    "1. What is the problem with calling `fit_transform` on your test data with `StandardScaler`?\n",
    "2. Why is it important to follow the Golden Rule? If you violate it, will that give you a worse classifier?\n",
    "3. What are two advantages of using sklearn Pipelines? \n",
    "4. When is it appropriate to use sklearn `ColumnTransformer`? "
   ]
  },
  {
   "cell_type": "markdown",
   "metadata": {
    "deletable": false,
    "editable": false
   },
   "source": [
    "<div class=\"alert alert-warning\">\n",
    "    \n",
    "Solution_4.5\n",
    "    \n",
    "</div>\n",
    "\n",
    "_Points:_ 8"
   ]
  },
  {
   "cell_type": "markdown",
   "metadata": {
    "tags": [
     "otter_answer_cell"
    ]
   },
   "source": [
    "_Type your answer here, replacing this text._"
   ]
  },
  {
   "cell_type": "markdown",
   "metadata": {
    "deletable": false,
    "editable": false
   },
   "source": [
    "<!-- END QUESTION -->\n",
    "\n",
    "<br><br><br><br>"
   ]
  },
  {
   "cell_type": "markdown",
   "metadata": {},
   "source": [
    "## Exercise 5: Building models \n",
    "\n",
    "Now that we have preprocessed features, we are ready to build models. Below, I'm providing the function we used in class which returns mean cross-validation score along with standard deviation for a given model. Use it to keep track of your results. "
   ]
  },
  {
   "cell_type": "code",
   "execution_count": 752,
   "metadata": {
    "slideshow": {
     "slide_type": "slide"
    }
   },
   "outputs": [],
   "source": [
    "results_dict = {}  # dictionary to store all the results"
   ]
  },
  {
   "cell_type": "code",
   "execution_count": 753,
   "metadata": {
    "editable": true,
    "slideshow": {
     "slide_type": ""
    },
    "tags": []
   },
   "outputs": [],
   "source": [
    "def mean_std_cross_val_scores(model, X_train, y_train, **kwargs):\n",
    "    \"\"\"\n",
    "    Returns mean and std of cross validation\n",
    "\n",
    "    Parameters\n",
    "    ----------\n",
    "    model :\n",
    "        scikit-learn model\n",
    "    X_train : numpy array or pandas DataFrame\n",
    "        X in the training data\n",
    "    y_train :\n",
    "        y in the training data\n",
    "\n",
    "    Returns\n",
    "    ----------\n",
    "        pandas Series with mean scores from cross_validation\n",
    "    \"\"\"\n",
    "\n",
    "    scores = cross_validate(model, X_train, y_train, **kwargs)\n",
    "\n",
    "    mean_scores = pd.DataFrame(scores).mean()\n",
    "    std_scores = pd.DataFrame(scores).std()\n",
    "    out_col = []\n",
    "\n",
    "    for i in range(len(mean_scores)):\n",
    "        out_col.append((f\"%0.3f (+/- %0.3f)\" % (mean_scores.iloc[i], std_scores.iloc[i])))\n",
    "\n",
    "    return pd.Series(data=out_col, index=mean_scores.index)"
   ]
  },
  {
   "cell_type": "markdown",
   "metadata": {},
   "source": [
    "Below, I'm showing an example where I call `mean_std_cross_val_scores` with `DummyClassifier`. The function calls `cross_validate` with the passed arguments and returns a series with mean cross-validation results and std of cross-validation. When you train new models, you can just add the results of these models in `results_dict`, which can be easily converted to a dataframe so that you can have a table with all your results. "
   ]
  },
  {
   "cell_type": "code",
   "execution_count": 754,
   "metadata": {},
   "outputs": [
    {
     "ename": "InvalidParameterError",
     "evalue": "The 'X' parameter of cross_validate must be an array-like or a sparse matrix. Got None instead.",
     "output_type": "error",
     "traceback": [
      "\u001b[31m---------------------------------------------------------------------------\u001b[39m",
      "\u001b[31mInvalidParameterError\u001b[39m                     Traceback (most recent call last)",
      "\u001b[36mCell\u001b[39m\u001b[36m \u001b[39m\u001b[32mIn[754]\u001b[39m\u001b[32m, line 7\u001b[39m\n\u001b[32m      5\u001b[39m dummy = DummyClassifier(random_state = \u001b[32m123\u001b[39m)\n\u001b[32m      6\u001b[39m pipe = make_pipeline(preprocessor, dummy)\n\u001b[32m----> \u001b[39m\u001b[32m7\u001b[39m results_dict[\u001b[33m\"\u001b[39m\u001b[33mdummy\u001b[39m\u001b[33m\"\u001b[39m] = \u001b[43mmean_std_cross_val_scores\u001b[49m\u001b[43m(\u001b[49m\n\u001b[32m      8\u001b[39m \u001b[43m    \u001b[49m\u001b[43mpipe\u001b[49m\u001b[43m,\u001b[49m\u001b[43m \u001b[49m\u001b[43mX_train\u001b[49m\u001b[43m,\u001b[49m\u001b[43m \u001b[49m\u001b[43my_train\u001b[49m\u001b[43m,\u001b[49m\u001b[43m \u001b[49m\u001b[43mcv\u001b[49m\u001b[43m=\u001b[49m\u001b[32;43m5\u001b[39;49m\u001b[43m,\u001b[49m\u001b[43m \u001b[49m\u001b[43mreturn_train_score\u001b[49m\u001b[43m=\u001b[49m\u001b[38;5;28;43;01mTrue\u001b[39;49;00m\n\u001b[32m      9\u001b[39m \u001b[43m)\u001b[49m\n\u001b[32m     10\u001b[39m results_df = pd.DataFrame(results_dict).T\n\u001b[32m     11\u001b[39m results_df\n",
      "\u001b[36mCell\u001b[39m\u001b[36m \u001b[39m\u001b[32mIn[753]\u001b[39m\u001b[32m, line 19\u001b[39m, in \u001b[36mmean_std_cross_val_scores\u001b[39m\u001b[34m(model, X_train, y_train, **kwargs)\u001b[39m\n\u001b[32m      1\u001b[39m \u001b[38;5;28;01mdef\u001b[39;00m\u001b[38;5;250m \u001b[39m\u001b[34mmean_std_cross_val_scores\u001b[39m(model, X_train, y_train, **kwargs):\n\u001b[32m      2\u001b[39m \u001b[38;5;250m    \u001b[39m\u001b[33;03m\"\"\"\u001b[39;00m\n\u001b[32m      3\u001b[39m \u001b[33;03m    Returns mean and std of cross validation\u001b[39;00m\n\u001b[32m      4\u001b[39m \n\u001b[32m   (...)\u001b[39m\u001b[32m     16\u001b[39m \u001b[33;03m        pandas Series with mean scores from cross_validation\u001b[39;00m\n\u001b[32m     17\u001b[39m \u001b[33;03m    \"\"\"\u001b[39;00m\n\u001b[32m---> \u001b[39m\u001b[32m19\u001b[39m     scores = \u001b[43mcross_validate\u001b[49m\u001b[43m(\u001b[49m\u001b[43mmodel\u001b[49m\u001b[43m,\u001b[49m\u001b[43m \u001b[49m\u001b[43mX_train\u001b[49m\u001b[43m,\u001b[49m\u001b[43m \u001b[49m\u001b[43my_train\u001b[49m\u001b[43m,\u001b[49m\u001b[43m \u001b[49m\u001b[43m*\u001b[49m\u001b[43m*\u001b[49m\u001b[43mkwargs\u001b[49m\u001b[43m)\u001b[49m\n\u001b[32m     21\u001b[39m     mean_scores = pd.DataFrame(scores).mean()\n\u001b[32m     22\u001b[39m     std_scores = pd.DataFrame(scores).std()\n",
      "\u001b[36mFile \u001b[39m\u001b[32m~/miniconda3/envs/cpsc330/lib/python3.13/site-packages/sklearn/utils/_param_validation.py:208\u001b[39m, in \u001b[36mvalidate_params.<locals>.decorator.<locals>.wrapper\u001b[39m\u001b[34m(*args, **kwargs)\u001b[39m\n\u001b[32m    205\u001b[39m to_ignore += [\u001b[33m\"\u001b[39m\u001b[33mself\u001b[39m\u001b[33m\"\u001b[39m, \u001b[33m\"\u001b[39m\u001b[33mcls\u001b[39m\u001b[33m\"\u001b[39m]\n\u001b[32m    206\u001b[39m params = {k: v \u001b[38;5;28;01mfor\u001b[39;00m k, v \u001b[38;5;129;01min\u001b[39;00m params.arguments.items() \u001b[38;5;28;01mif\u001b[39;00m k \u001b[38;5;129;01mnot\u001b[39;00m \u001b[38;5;129;01min\u001b[39;00m to_ignore}\n\u001b[32m--> \u001b[39m\u001b[32m208\u001b[39m \u001b[43mvalidate_parameter_constraints\u001b[49m\u001b[43m(\u001b[49m\n\u001b[32m    209\u001b[39m \u001b[43m    \u001b[49m\u001b[43mparameter_constraints\u001b[49m\u001b[43m,\u001b[49m\u001b[43m \u001b[49m\u001b[43mparams\u001b[49m\u001b[43m,\u001b[49m\u001b[43m \u001b[49m\u001b[43mcaller_name\u001b[49m\u001b[43m=\u001b[49m\u001b[43mfunc\u001b[49m\u001b[43m.\u001b[49m\u001b[34;43m__qualname__\u001b[39;49m\n\u001b[32m    210\u001b[39m \u001b[43m\u001b[49m\u001b[43m)\u001b[49m\n\u001b[32m    212\u001b[39m \u001b[38;5;28;01mtry\u001b[39;00m:\n\u001b[32m    213\u001b[39m     \u001b[38;5;28;01mwith\u001b[39;00m config_context(\n\u001b[32m    214\u001b[39m         skip_parameter_validation=(\n\u001b[32m    215\u001b[39m             prefer_skip_nested_validation \u001b[38;5;129;01mor\u001b[39;00m global_skip_validation\n\u001b[32m    216\u001b[39m         )\n\u001b[32m    217\u001b[39m     ):\n",
      "\u001b[36mFile \u001b[39m\u001b[32m~/miniconda3/envs/cpsc330/lib/python3.13/site-packages/sklearn/utils/_param_validation.py:98\u001b[39m, in \u001b[36mvalidate_parameter_constraints\u001b[39m\u001b[34m(parameter_constraints, params, caller_name)\u001b[39m\n\u001b[32m     92\u001b[39m \u001b[38;5;28;01melse\u001b[39;00m:\n\u001b[32m     93\u001b[39m     constraints_str = (\n\u001b[32m     94\u001b[39m         \u001b[33mf\u001b[39m\u001b[33m\"\u001b[39m\u001b[38;5;132;01m{\u001b[39;00m\u001b[33m'\u001b[39m\u001b[33m, \u001b[39m\u001b[33m'\u001b[39m.join([\u001b[38;5;28mstr\u001b[39m(c)\u001b[38;5;250m \u001b[39m\u001b[38;5;28;01mfor\u001b[39;00m\u001b[38;5;250m \u001b[39mc\u001b[38;5;250m \u001b[39m\u001b[38;5;129;01min\u001b[39;00m\u001b[38;5;250m \u001b[39mconstraints[:-\u001b[32m1\u001b[39m]])\u001b[38;5;132;01m}\u001b[39;00m\u001b[33m or\u001b[39m\u001b[33m\"\u001b[39m\n\u001b[32m     95\u001b[39m         \u001b[33mf\u001b[39m\u001b[33m\"\u001b[39m\u001b[33m \u001b[39m\u001b[38;5;132;01m{\u001b[39;00mconstraints[-\u001b[32m1\u001b[39m]\u001b[38;5;132;01m}\u001b[39;00m\u001b[33m\"\u001b[39m\n\u001b[32m     96\u001b[39m     )\n\u001b[32m---> \u001b[39m\u001b[32m98\u001b[39m \u001b[38;5;28;01mraise\u001b[39;00m InvalidParameterError(\n\u001b[32m     99\u001b[39m     \u001b[33mf\u001b[39m\u001b[33m\"\u001b[39m\u001b[33mThe \u001b[39m\u001b[38;5;132;01m{\u001b[39;00mparam_name\u001b[38;5;132;01m!r}\u001b[39;00m\u001b[33m parameter of \u001b[39m\u001b[38;5;132;01m{\u001b[39;00mcaller_name\u001b[38;5;132;01m}\u001b[39;00m\u001b[33m must be\u001b[39m\u001b[33m\"\u001b[39m\n\u001b[32m    100\u001b[39m     \u001b[33mf\u001b[39m\u001b[33m\"\u001b[39m\u001b[33m \u001b[39m\u001b[38;5;132;01m{\u001b[39;00mconstraints_str\u001b[38;5;132;01m}\u001b[39;00m\u001b[33m. Got \u001b[39m\u001b[38;5;132;01m{\u001b[39;00mparam_val\u001b[38;5;132;01m!r}\u001b[39;00m\u001b[33m instead.\u001b[39m\u001b[33m\"\u001b[39m\n\u001b[32m    101\u001b[39m )\n",
      "\u001b[31mInvalidParameterError\u001b[39m: The 'X' parameter of cross_validate must be an array-like or a sparse matrix. Got None instead."
     ]
    }
   ],
   "source": [
    "# Baseline model\n",
    "\n",
    "from sklearn.dummy import DummyClassifier\n",
    "\n",
    "dummy = DummyClassifier(random_state = 123)\n",
    "pipe = make_pipeline(preprocessor, dummy)\n",
    "results_dict[\"dummy\"] = mean_std_cross_val_scores(\n",
    "    pipe, X_train, y_train, cv=5, return_train_score=True\n",
    ")\n",
    "results_df = pd.DataFrame(results_dict).T\n",
    "results_df"
   ]
  },
  {
   "cell_type": "markdown",
   "metadata": {},
   "source": [
    "<br><br>"
   ]
  },
  {
   "cell_type": "markdown",
   "metadata": {
    "deletable": false,
    "editable": false,
    "slideshow": {
     "slide_type": "slide"
    },
    "tags": []
   },
   "source": [
    "<!-- BEGIN QUESTION -->\n",
    "\n",
    "### 5.1 Trying different classifiers\n",
    "rubric={accuracy,quality}\n",
    "\n",
    "**Your tasks:**\n",
    "\n",
    "1. For each model provided in the starter code below:\n",
    "    - Create a pipeline using `make_pipeline` with two steps: the preprocessor from section 4.4 and the model as your classifier.\n",
    "    - Conduct 5-fold cross-validation using the pipeline. Obtain the mean cross-validation scores and standard deviation using the `mean_std_cross_val_scores` function provided earlier.\n",
    "    - Record the results in a dataframe named `income_pred_results_df`. Use the model names from the models dictionary below as the index. Each row should represent results from the `mean_std_cross_val_scores` function. In essence, `income_pred_results_df` should resemble the `results_df` dataframe mentioned earlier, but with additional rows for the subsequent models.\n",
    "\n",
    "> Note: The execution might take some time. Please be patient!\""
   ]
  },
  {
   "cell_type": "code",
   "execution_count": null,
   "metadata": {
    "deletable": false,
    "editable": false
   },
   "outputs": [],
   "source": [
    "from sklearn.tree import DecisionTreeClassifier\n",
    "from sklearn.neighbors import KNeighborsClassifier\n",
    "from sklearn.svm import SVC\n",
    "\n",
    "models = {\n",
    "    \"decision tree\": DecisionTreeClassifier(random_state=123),\n",
    "    \"kNN\": KNeighborsClassifier(),\n",
    "    \"RBF SVM\": SVC(random_state=123),\n",
    "}"
   ]
  },
  {
   "cell_type": "markdown",
   "metadata": {
    "deletable": false,
    "editable": false
   },
   "source": [
    "<div class=\"alert alert-warning\">\n",
    "    \n",
    "Solution_5.1\n",
    "    \n",
    "</div>\n",
    "\n",
    "_Points:_ 10"
   ]
  },
  {
   "cell_type": "code",
   "execution_count": null,
   "metadata": {
    "editable": true,
    "metadata": {
     "tags": [
      "otter_ignore"
     ]
    },
    "slideshow": {
     "slide_type": ""
    },
    "tags": [
     "otter_answer_cell"
    ]
   },
   "outputs": [],
   "source": [
    "income_pred_results_df = None \n",
    "..."
   ]
  },
  {
   "cell_type": "code",
   "execution_count": null,
   "metadata": {
    "tags": [
     "otter_answer_cell"
    ]
   },
   "outputs": [],
   "source": [
    "..."
   ]
  },
  {
   "cell_type": "markdown",
   "metadata": {
    "deletable": false,
    "editable": false,
    "slideshow": {
     "slide_type": "slide"
    }
   },
   "source": [
    "<!-- END QUESTION -->\n",
    "\n",
    "<br><br>"
   ]
  },
  {
   "cell_type": "markdown",
   "metadata": {
    "deletable": false,
    "editable": false,
    "slideshow": {
     "slide_type": "slide"
    }
   },
   "source": [
    "<!-- BEGIN QUESTION -->\n",
    "\n",
    "### 5.2 Discussion \n",
    "rubric={reasoning}\n",
    "\n",
    "**Your tasks:**\n",
    "\n",
    "Examine the train and validation accuracies and `fit` and `score` times for all the models in the results above and answer the questions below: \n",
    "\n",
    "1. Among the models, which one achieves the highest validation accuracy?\n",
    "2. Excluding the dummy model, which model exhibits the shortest 'fit' time? Similarly, which model boasts the quickest 'score' time?\n",
    "3. Among the models (excluding the dummy model), which one shows the highest degree of overfitting and which one exhibits the least overfitting?"
   ]
  },
  {
   "cell_type": "markdown",
   "metadata": {
    "deletable": false,
    "editable": false
   },
   "source": [
    "<div class=\"alert alert-warning\">\n",
    "    \n",
    "Solution_5.2\n",
    "    \n",
    "</div>\n",
    "\n",
    "_Points:_ 5"
   ]
  },
  {
   "cell_type": "markdown",
   "metadata": {
    "tags": [
     "otter_answer_cell"
    ]
   },
   "source": [
    "_Type your answer here, replacing this text._"
   ]
  },
  {
   "cell_type": "markdown",
   "metadata": {
    "deletable": false,
    "editable": false
   },
   "source": [
    "<!-- END QUESTION -->\n",
    "\n",
    "<br><br>"
   ]
  },
  {
   "cell_type": "markdown",
   "metadata": {
    "deletable": false,
    "editable": false,
    "slideshow": {
     "slide_type": ""
    },
    "tags": []
   },
   "source": [
    "<!-- BEGIN QUESTION -->\n",
    "\n",
    "### 5.3 Hyperparameter optimization\n",
    "rubric={accuracy,quality}\n",
    "\n",
    "In this exercise, you'll carry out hyperparameter optimization for the hyperparameter `C` of SVC RBF classifier. In practice, you'll carry out hyperparameter optimization for all different hyperparameters of the most promising classifiers. For the purpose of this assignment, we'll only do it for the `SVC` classifier with one hyperparameter, namely `C`. \n",
    "\n",
    "**Your tasks:**\n",
    "\n",
    "1. For each `C` value in the `param_grid` below: \n",
    "    - Create a pipeline object with two steps: preprocessor from 4.4 and `SVC` classifier with the `C` value.\n",
    "    - Carry out 5-fold cross validation with the pipeline.  \n",
    "    - Store the results in `results_dict` and display results as a pandas DataFrame. \n",
    "2. Which hyperparameter value seems to be performing the best? In this assignment, consider the hyperparameter value that gives you the highest cross-validation score as the \"best\" one. Store it in a variable called `best_C`. (Since this question is not autograded, please store the value directly as a number, something like `best_C = 0.001`, if `C = 0.001` is giving you the highest CV score.) Is it different than the default value for the hyperparameter used by `scikit-learn`? \n",
    "\n",
    "> Note: Running this will take a while. Please be patient. "
   ]
  },
  {
   "cell_type": "code",
   "execution_count": null,
   "metadata": {
    "deletable": false,
    "editable": false
   },
   "outputs": [],
   "source": [
    "param_grid = {\"C\": np.logspace(-1, 2, 4)}\n",
    "param_grid"
   ]
  },
  {
   "cell_type": "markdown",
   "metadata": {
    "deletable": false,
    "editable": false
   },
   "source": [
    "<div class=\"alert alert-warning\">\n",
    "    \n",
    "Solution_5.3\n",
    "    \n",
    "</div>\n",
    "\n",
    "_Points:_ 10"
   ]
  },
  {
   "cell_type": "markdown",
   "metadata": {
    "tags": [
     "otter_answer_cell"
    ]
   },
   "source": [
    "_Type your answer here, replacing this text._"
   ]
  },
  {
   "cell_type": "code",
   "execution_count": null,
   "metadata": {
    "editable": true,
    "metadata": {
     "tags": [
      "otter_ignore"
     ]
    },
    "slideshow": {
     "slide_type": ""
    },
    "tags": [
     "otter_answer_cell"
    ]
   },
   "outputs": [],
   "source": [
    "..."
   ]
  },
  {
   "cell_type": "code",
   "execution_count": null,
   "metadata": {
    "editable": true,
    "slideshow": {
     "slide_type": ""
    },
    "tags": [
     "otter_answer_cell"
    ]
   },
   "outputs": [],
   "source": [
    "..."
   ]
  },
  {
   "cell_type": "code",
   "execution_count": null,
   "metadata": {
    "tags": [
     "otter_answer_cell"
    ]
   },
   "outputs": [],
   "source": [
    "best_C = None\n",
    "\n",
    "..."
   ]
  },
  {
   "cell_type": "markdown",
   "metadata": {
    "deletable": false,
    "editable": false,
    "slideshow": {
     "slide_type": ""
    },
    "tags": []
   },
   "source": [
    "<!-- END QUESTION -->\n",
    "\n",
    "<br><br><br><br>"
   ]
  },
  {
   "cell_type": "markdown",
   "metadata": {
    "slideshow": {
     "slide_type": "slide"
    },
    "tags": []
   },
   "source": [
    "## Exercise 6: Evaluating on the test set \n",
    "<hr>\n",
    "\n",
    "Now that we have a best performing model, it's time to assess our model on the set aside test set. In this exercise, you'll examine whether the results you obtained using cross-validation on the train set are consistent with the results on the test set. "
   ]
  },
  {
   "cell_type": "markdown",
   "metadata": {
    "deletable": false,
    "editable": false,
    "slideshow": {
     "slide_type": ""
    },
    "tags": []
   },
   "source": [
    "### 6.1 Scoring on the unseen test set \n",
    "rubric={autograde}\n",
    "\n",
    "**Your tasks:**\n",
    "\n",
    "1. Create a pipeline named `final_pipeline` with the preprocessor from 4.4 as the first step and the best performing SVC model from 5.4 as the second step. \n",
    "2. Train the pipeline on the entire training set `X_train` and `y_train`. \n",
    "3. Score the pipeline on `X_test` and `y_test` and store the score in a variable called `test_score`.  "
   ]
  },
  {
   "cell_type": "markdown",
   "metadata": {
    "deletable": false,
    "editable": false
   },
   "source": [
    "<div class=\"alert alert-warning\">\n",
    "    \n",
    "Solution_6.1\n",
    "    \n",
    "</div>\n",
    "\n",
    "_Points:_ 3"
   ]
  },
  {
   "cell_type": "code",
   "execution_count": null,
   "metadata": {
    "editable": true,
    "slideshow": {
     "slide_type": ""
    },
    "tags": [
     "otter_answer_cell"
    ]
   },
   "outputs": [],
   "source": [
    "final_pipeline = None\n",
    "test_score = None\n",
    "\n",
    "..."
   ]
  },
  {
   "cell_type": "code",
   "execution_count": null,
   "metadata": {
    "deletable": false,
    "editable": false
   },
   "outputs": [],
   "source": [
    "grader.check(\"q6.1\")"
   ]
  },
  {
   "cell_type": "markdown",
   "metadata": {},
   "source": [
    "<br><br><br><br>"
   ]
  },
  {
   "cell_type": "markdown",
   "metadata": {},
   "source": [
    "## Exercise 7: Short answer questions"
   ]
  },
  {
   "cell_type": "markdown",
   "metadata": {
    "deletable": false,
    "editable": false
   },
   "source": [
    "<!-- BEGIN QUESTION -->\n",
    "\n",
    "### 7.1 kNNs toy example\n",
    "rubric={points}\n",
    "\n",
    "Suppose you want to get predictions using the $k$-nearest neighbour algorithm on the toy dataset below. \n",
    "\n",
    "$$ X = \\begin{bmatrix}5 & 2\\\\4 & -2\\\\  2 & 2\\\\ 10 & 10\\\\ 9 & -1\\\\ 9& 9\\end{bmatrix}, \\quad y = \\begin{bmatrix}0\\\\0\\\\1\\\\1\\\\1\\\\2\\end{bmatrix}.$$\n",
    "\n",
    "Suppose you are given a new data point $x=\\begin{bmatrix} 0 & 0\\end{bmatrix}$.  \n",
    "\n",
    "1. What would the model predict when $k=1$?\n",
    "2. What would the model predict when $k=3$?\n",
    "3. What would the model predict when $k=3$ if we were doing regression rather than classification? "
   ]
  },
  {
   "cell_type": "markdown",
   "metadata": {
    "deletable": false,
    "editable": false
   },
   "source": [
    "<div class=\"alert alert-warning\">\n",
    "    \n",
    "Solution_7.1\n",
    "    \n",
    "</div>\n",
    "\n",
    "_Points:_ 4"
   ]
  },
  {
   "cell_type": "markdown",
   "metadata": {
    "tags": [
     "otter_answer_cell"
    ]
   },
   "source": [
    "_Type your answer here, replacing this text._"
   ]
  },
  {
   "cell_type": "markdown",
   "metadata": {
    "deletable": false,
    "editable": false
   },
   "source": [
    "<!-- END QUESTION -->\n",
    "\n",
    "<br><br>"
   ]
  },
  {
   "cell_type": "markdown",
   "metadata": {},
   "source": [
    "Before submitting your assignment, please make sure you have followed all the instructions in the Submission Instructions section at the top. \n",
    "\n",
    "Here is a quick checklist before submitting: \n",
    "\n",
    "- [ ] Restart kernel, clear outputs, and run all cells from top to bottom.  \n",
    "- [ ] `.ipynb` file runs without errors and contains all outputs.  \n",
    "- [ ] Only `.ipynb` and required output files are uploaded (no extra files).  \n",
    "- [ ] Execution numbers start at **1** and are in order.  \n",
    "- [ ] If `.ipynb` is too large and doesn't render on Gradescope, also upload a PDF/HTML version.  \n",
    "- [ ] Reviewed the [CPSC 330 homework instructions](https://ubc-cs.github.io/cpsc330-2025W1/docs/homework_instructions.html).  "
   ]
  },
  {
   "cell_type": "markdown",
   "metadata": {
    "editable": true,
    "slideshow": {
     "slide_type": ""
    },
    "tags": []
   },
   "source": [
    "Congratulations on finishing the homework! This was a tricky one but I hope you are feeling good after working on it. You are now ready to build a simple supervised machine learning pipeline on real-world datasets! Well done :clap:! \n",
    "\n",
    "![](img/eva-well-done.png)\n",
    "\n"
   ]
  }
 ],
 "metadata": {
  "celltoolbar": "Create Assignment",
  "kernelspec": {
   "display_name": "cpsc330",
   "language": "python",
   "name": "python3"
  },
  "language_info": {
   "codemirror_mode": {
    "name": "ipython",
    "version": 3
   },
   "file_extension": ".py",
   "mimetype": "text/x-python",
   "name": "python",
   "nbconvert_exporter": "python",
   "pygments_lexer": "ipython3",
   "version": "3.13.5"
  },
  "otter": {
   "OK_FORMAT": true,
   "tests": {
    "q1.1": {
     "name": "q1.1",
     "points": 1,
     "suites": [
      {
       "cases": [
        {
         "code": ">>> assert not train_df is None and (not test_df is None), 'Please use the provided variables.'\n>>> assert train_df.shape == (13024, 15), 'The dimensions of the training set are incorrect'\n>>> assert test_df.shape == (19537, 15), 'The dimensions of the test set are incorrect'\n>>> assert train_df.loc[12846][['age', 'education', 'occupation', 'capital.loss']].tolist() == [49, 'Some-college', 'Craft-repair', 0], 'Are you using the provided random state?'\n>>> assert not 20713 in train_df.index, 'Are you using the provided random state?'\n",
         "hidden": false,
         "locked": false
        }
       ],
       "scored": true,
       "setup": "",
       "teardown": "",
       "type": "doctest"
      }
     ]
    },
    "q1.2": {
     "name": "q1.2",
     "points": [
      1,
      1,
      1,
      1,
      1
     ],
     "suites": [
      {
       "cases": [
        {
         "code": ">>> assert isinstance(census_summary, pd.DataFrame), 'census_summary dataftame is not created'\n>>> assert census_summary.shape == (11, 15), 'census_summary shape is incorrect. Probably you are not including all columns'\n>>> assert census_summary.loc['min']['age'] == 17.0, 'census_summary dataframe is incorrect'\n>>> assert census_summary.loc['top']['occupation'] == 'Prof-specialty', 'census_summary dataframe is incorrect'\n",
         "hidden": false,
         "locked": false
        },
        {
         "code": ">>> assert sha1(str(max_hours_per_week).encode('utf8')).hexdigest() == '3359de52c8ae993fe0f8fe9c5168a0065bd3c7a4', 'max_hours_per_week are incorrect'\n",
         "hidden": false,
         "locked": false
        },
        {
         "code": ">>> assert sha1(str(most_freq_occupation).encode('utf8')).hexdigest() == '97165f50eddb0d28a382b0366274e2fe38505644', 'most_freq_occupation is incorrect'\n",
         "hidden": false,
         "locked": false
        },
        {
         "code": ">>> assert sha1(str(missing_vals_cols).encode('utf8')).hexdigest() == '6bc5e13d4d66b306e52701ee9a1e5e21bf19aeb0', 'Please use the exact column/feature name. Also, make sure the lists are sorted.'\n",
         "hidden": false,
         "locked": false
        },
        {
         "code": ">>> assert sha1(str(numeric_cols).encode('utf8')).hexdigest() == '615afaf5011128d641ab8a73289d57bd01a3ec37', 'Please use the exact column/feature name. Also, make sure the lists are sorted.'\n",
         "hidden": false,
         "locked": false
        }
       ],
       "scored": true,
       "setup": "",
       "teardown": "",
       "type": "doctest"
      }
     ]
    },
    "q2.2": {
     "name": "q2.2",
     "points": 5,
     "suites": [
      {
       "cases": [
        {
         "code": ">>> assert sha1(str(numeric_features).encode('utf8')).hexdigest() == '71401cf60034fd69eee7398866359f612adf3e15', 'numeric_features list is not correct'\n>>> assert sha1(str(categorical_features).encode('utf8')).hexdigest() == 'af1a4022c0362405678be5c3a6735578a8c0069f', 'categorical_features list is not correct'\n>>> assert sha1(str(ordinal_features).encode('utf8')).hexdigest() == '95b86602c44211f3ad662bb58b8e53d024106d05', 'ordinal_features list is not correct'\n>>> assert sha1(str(binary_features).encode('utf8')).hexdigest() == 'd4b7aa4c56ac2f98e6ac9cec7768484b415b7337', 'binary_features list is not correct'\n>>> assert sha1(str(drop_features).encode('utf8')).hexdigest() == '62aab57d42c54be3dfd3c55020e5a167ca1a84c3', 'drop_features list is not correct'\n>>> assert sha1(str(target).encode('utf8')).hexdigest() == '0f613350b66e64d92ef21bc4dcdbf8996cb4edf0', 'target variable is not set correctly'\n",
         "hidden": false,
         "locked": false
        }
       ],
       "scored": true,
       "setup": "",
       "teardown": "",
       "type": "doctest"
      }
     ]
    },
    "q3.1": {
     "name": "q3.1",
     "points": 1,
     "suites": [
      {
       "cases": [
        {
         "code": ">>> assert not X_train is None, 'Your answer does not exist. Have you passed in the correct variable?'\n>>> assert not y_train is None, 'Your answer does not exist. Have you passed in the correct variable?'\n>>> assert not X_test is None, 'Your answer does not exist. Have you passed in the correct variable?'\n>>> assert not y_test is None, 'Your answer does not exist. Have you passed in the correct variable?'\n>>> assert X_train.shape == (13024, 14), 'The dimensions of X_train are incorrect'\n>>> assert y_train.shape == (13024,), 'The dimensions of y_train are incorrect. Are you splitting correctly'\n>>> assert X_test.shape == (19537, 14), 'The dimensions of X_test are incorrect. Are you splitting correctly? Are you using single brackets?'\n>>> assert y_test.shape == (19537,), 'The dimensions of y_test are incorrect. Are you splitting correctly? Are you using single brackets?'\n>>> assert 'income' not in list(X_train.columns), 'Make sure the target variable is not part of your X dataset.'\n",
         "hidden": false,
         "locked": false
        }
       ],
       "scored": true,
       "setup": "",
       "teardown": "",
       "type": "doctest"
      }
     ]
    },
    "q3.2": {
     "name": "q3.2",
     "points": 1,
     "suites": [
      {
       "cases": [
        {
         "code": ">>> assert not dummy_df is None, 'Have you used the correct variable to store the results?'\n>>> assert sorted(list(dummy_df.columns)) == ['fit_time', 'score_time', 'test_score', 'train_score'], 'Your solution contains incorrect columns.'\n>>> assert dummy_df.shape == (5, 4), 'Are you carrying out 5-fold cross-validation and are you passing return_train_score=True?'\n>>> assert np.isclose(round(dummy_df['test_score'].mean(), 3), 0.758), 'The test scores seem wrong. Are you calling the cross_validate correctly?'\n>>> assert np.isclose(round(dummy_df['train_score'].mean(), 3), 0.758), 'The train scores seem wrong. Are you calling the cross_validate correctly?'\n",
         "hidden": false,
         "locked": false
        }
       ],
       "scored": true,
       "setup": "",
       "teardown": "",
       "type": "doctest"
      }
     ]
    },
    "q4.1": {
     "name": "q4.1",
     "points": 5,
     "suites": [
      {
       "cases": [
        {
         "code": ">>> assert not ordinal_transformer is None, 'Are you using the correct variable name?'\n>>> assert type(ordinal_transformer.get_params()['categories'][0]) is list, 'Are you passing education levels as a list of lists?'\n>>> assert ordinal_transformer.get_params()['dtype'] == int, 'Please set the dtype to int'\n>>> assert sha1(str(ordinal_transformer.get_params()['categories'][0]).encode('utf8')).hexdigest() == '893a03d114b2af09b53247866c6eea54ebfd090f' or sha1(str(ordinal_transformer.get_params()['categories'][0]).encode('utf8')).hexdigest() == '81059b8bebc9ddb03d61bf07cfd9b9b6b0da288e', \"Make sure you are passing categories sorted on levels of education. (Ascending or descending shouldn't matter.)\"\n",
         "hidden": false,
         "locked": false
        }
       ],
       "scored": true,
       "setup": "",
       "teardown": "",
       "type": "doctest"
      }
     ]
    },
    "q4.2": {
     "name": "q4.2",
     "points": 2,
     "suites": [
      {
       "cases": [
        {
         "code": ">>> assert not binary_transformer is None, 'Are you using the correct variable name?'\n>>> assert binary_transformer.get_params()['drop'] == 'if_binary', 'Are you passing `drop=if_binary`?'\n>>> assert binary_transformer.get_params()['dtype'] == int, 'Please set the dtype to int'\n",
         "hidden": false,
         "locked": false
        }
       ],
       "scored": true,
       "setup": "",
       "teardown": "",
       "type": "doctest"
      }
     ]
    },
    "q4.3": {
     "name": "q4.3",
     "points": 4,
     "suites": [
      {
       "cases": [
        {
         "code": ">>> from sklearn.pipeline import make_pipeline, Pipeline\n>>> assert not categorical_transformer is None, 'Are you using the correct variable name?'\n>>> assert type(categorical_transformer) is Pipeline, 'Are you creating a scikit-learn Pipeline?'\n>>> assert len(categorical_transformer.get_params()['steps']) == 2, 'Are you creating a pipeline with two steps?'\n>>> assert categorical_transformer.get_params()['simpleimputer__strategy'] == 'constant', 'Are you passing strategy=constant in the SimpleImputer?'\n>>> assert categorical_transformer.get_params()['simpleimputer__fill_value'] == 'missing', \"Are you passing fill_value='missing' in the SimpleImputer?\"\n>>> assert categorical_transformer.get_params()['onehotencoder__handle_unknown'] == 'ignore', \"Are you passing handle_unknown = 'ignore' argument to your OHE?\"\n>>> assert categorical_transformer.get_params()['onehotencoder__sparse_output'] == False, 'Are you creating a sparase matrix for OHE?'\n",
         "hidden": false,
         "locked": false
        }
       ],
       "scored": true,
       "setup": "",
       "teardown": "",
       "type": "doctest"
      }
     ]
    },
    "q4.4": {
     "name": "q4.4",
     "points": [
      5,
      1,
      1
     ],
     "suites": [
      {
       "cases": [
        {
         "code": ">>> assert not preprocessor is None, 'Are you using the correct variable name?'\n>>> assert len(preprocessor.get_params()['transformers']) in range(4, 6, 1), 'Have you included all the transformers?'\n>>> assert 'onehotencoder' in preprocessor.get_params().keys(), 'Either the categorical_transformer or binary_transformer is not included.'\n>>> assert 'standardscaler' in preprocessor.get_params().keys(), 'numeric_transformer is not included.'\n>>> assert 'ordinalencoder' in preprocessor.get_params().keys(), 'ordinal_transformer is not included.'\n>>> assert 'drop' in preprocessor.get_params().keys(), 'drop features step is not included.'\n",
         "hidden": false,
         "locked": false
        },
        {
         "code": ">>> assert not transformed_df is None, 'Are you using the correct variable name?'\n>>> assert sha1(str(transformed_df.shape).encode('utf8')).hexdigest() == 'a0521f0cdbcd77cd213e7d1a3cfc13c1c7c92a6e', 'The shape of the transformed data is incorrect.'\n",
         "hidden": false,
         "locked": false
        },
        {
         "code": ">>> assert sha1(str(n_new_cols).encode('utf8')).hexdigest() == 'b7103ca278a75cad8f7d065acda0c2e80da0b7dc', 'The number of new columns (n_new_cols) is incorrect.'\n",
         "hidden": false,
         "locked": false
        }
       ],
       "scored": true,
       "setup": "",
       "teardown": "",
       "type": "doctest"
      }
     ]
    },
    "q6.1": {
     "name": "q6.1",
     "points": [
      2,
      1
     ],
     "suites": [
      {
       "cases": [
        {
         "code": ">>> assert not final_pipeline is None, 'Are you using the correct variable name?'\n>>> assert not test_score is None, 'Are you using the correct variable name?'\n>>> assert len(final_pipeline.named_steps) == 2, 'The final pipeline needs to have two steps: one for the preprocessor and one for SVC.'\n>>> assert final_pipeline.n_features_in_ == 14, 'Make sure to pass the original X_train to fit'\n>>> assert final_pipeline.named_steps['svc'].get_params()['C'] == best_C, 'Are you using the best C value from the previous exercise?'\n",
         "hidden": false,
         "locked": false
        },
        {
         "code": ">>> assert not test_score is None, 'Are you using the correct variable name?'\n>>> assert np.isclose(round(test_score, 2), 0.85), 'The test score seems off'\n",
         "hidden": false,
         "locked": false
        }
       ],
       "scored": true,
       "setup": "",
       "teardown": "",
       "type": "doctest"
      }
     ]
    }
   }
  }
 },
 "nbformat": 4,
 "nbformat_minor": 4
}
